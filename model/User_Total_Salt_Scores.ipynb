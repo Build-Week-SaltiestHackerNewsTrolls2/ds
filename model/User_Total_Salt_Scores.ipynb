{
  "nbformat": 4,
  "nbformat_minor": 0,
  "metadata": {
    "colab": {
      "name": "User_Total_Salt_Scores",
      "provenance": [],
      "collapsed_sections": []
    },
    "kernelspec": {
      "name": "python3",
      "display_name": "Python 3"
    }
  },
  "cells": [
    {
      "cell_type": "markdown",
      "metadata": {
        "id": "ubM5HX9pHOLT",
        "colab_type": "text"
      },
      "source": [
        "#Becca\n",
        "##---------------------------"
      ]
    },
    {
      "cell_type": "code",
      "metadata": {
        "id": "HIBkD7W7EXuO",
        "colab_type": "code",
        "colab": {}
      },
      "source": [
        "import sys, os\n",
        "cwd = os.getcwd()\n",
        "sys.path[0] = cwd[:cwd.rfind('/')]"
      ],
      "execution_count": 112,
      "outputs": []
    },
    {
      "cell_type": "code",
      "metadata": {
        "id": "Mkr1QHIaEmjC",
        "colab_type": "code",
        "colab": {}
      },
      "source": [
        "import numpy as np\n",
        "import pandas as pd\n",
        "from google.cloud import bigquery"
      ],
      "execution_count": 113,
      "outputs": []
    },
    {
      "cell_type": "code",
      "metadata": {
        "id": "_KjeyJokPzHe",
        "colab_type": "code",
        "colab": {}
      },
      "source": [
        "#Google cloud credentials\n",
        "os.environ['GOOGLE_APPLICATION_CREDENTIALS']='/content/Saltiest HN Trolls.json'\n",
        "\n",
        "# Create a \"Client\" object\n",
        "client = bigquery.Client()\n",
        "\n",
        "# Bigquery dataset reference\n",
        "hn_ref = client.dataset('hacker_news', project='hn-dataset')"
      ],
      "execution_count": 114,
      "outputs": []
    },
    {
      "cell_type": "code",
      "metadata": {
        "id": "rgGN_H4heHfl",
        "colab_type": "code",
        "colab": {}
      },
      "source": [
        "# Run SQL query to obtain filtered table\n",
        "query_string = \"\"\"\n",
        "SELECT C.by\n",
        "FROM (\n",
        "  SELECT A.by, COUNT(*) AS count\n",
        "  FROM `bigquery-public-data.hacker_news.full` AS A\n",
        "  GROUP BY A.by\n",
        "  ORDER BY count DESC\n",
        "  LIMIT 100\n",
        ") AS C\n",
        "WHERE C.by != \"None\"\n",
        "\"\"\"\n",
        "\n",
        "frequent_users = client.query(query_string).result().to_dataframe()"
      ],
      "execution_count": 115,
      "outputs": []
    },
    {
      "cell_type": "code",
      "metadata": {
        "id": "RymGkInflY8B",
        "colab_type": "code",
        "colab": {}
      },
      "source": [
        "# This is a triple-nested query that gets a number of comments made only by the most\n",
        "# frequent users.  Change the \"LIMIT XXX\" part of the inner-most query to tune the\n",
        "# number of users.  Change the outermost \"LIMIT YYY\" to change the total number of comments.\n",
        "query_string = \"\"\"\n",
        "SELECT *\n",
        "FROM `bigquery-public-data.hacker_news.full` AS A\n",
        "WHERE A.by IN (\n",
        "  SELECT C.by\n",
        "  FROM (\n",
        "    SELECT A.by, COUNT(*) AS count\n",
        "    FROM `bigquery-public-data.hacker_news.full` AS A\n",
        "    GROUP BY A.by\n",
        "    ORDER BY count DESC\n",
        "    LIMIT 500\n",
        "  ) AS C\n",
        "  WHERE C.by != \"None\"\n",
        ")\n",
        "LIMIT 50000\n",
        "\"\"\"\n",
        "\n",
        "df = client.query(query_string).result().to_dataframe()"
      ],
      "execution_count": 116,
      "outputs": []
    },
    {
      "cell_type": "code",
      "metadata": {
        "id": "QYJahnTKmSQk",
        "colab_type": "code",
        "colab": {
          "base_uri": "https://localhost:8080/",
          "height": 317
        },
        "outputId": "1e9e6e50-b71d-4397-c09c-c30aa0fc0e56"
      },
      "source": [
        "df.head()"
      ],
      "execution_count": 117,
      "outputs": [
        {
          "output_type": "execute_result",
          "data": {
            "text/html": [
              "<div>\n",
              "<style scoped>\n",
              "    .dataframe tbody tr th:only-of-type {\n",
              "        vertical-align: middle;\n",
              "    }\n",
              "\n",
              "    .dataframe tbody tr th {\n",
              "        vertical-align: top;\n",
              "    }\n",
              "\n",
              "    .dataframe thead th {\n",
              "        text-align: right;\n",
              "    }\n",
              "</style>\n",
              "<table border=\"1\" class=\"dataframe\">\n",
              "  <thead>\n",
              "    <tr style=\"text-align: right;\">\n",
              "      <th></th>\n",
              "      <th>title</th>\n",
              "      <th>url</th>\n",
              "      <th>text</th>\n",
              "      <th>dead</th>\n",
              "      <th>by</th>\n",
              "      <th>score</th>\n",
              "      <th>time</th>\n",
              "      <th>timestamp</th>\n",
              "      <th>type</th>\n",
              "      <th>id</th>\n",
              "      <th>parent</th>\n",
              "      <th>descendants</th>\n",
              "      <th>ranking</th>\n",
              "      <th>deleted</th>\n",
              "    </tr>\n",
              "  </thead>\n",
              "  <tbody>\n",
              "    <tr>\n",
              "      <th>0</th>\n",
              "      <td>None</td>\n",
              "      <td>None</td>\n",
              "      <td>Like I said, to be honest I do not know if it is in any way an &lt;i&gt;accurate&lt;/i&gt; analogy, but it s...</td>\n",
              "      <td>None</td>\n",
              "      <td>davidw</td>\n",
              "      <td>NaN</td>\n",
              "      <td>1222716762</td>\n",
              "      <td>2008-09-29 19:32:42+00:00</td>\n",
              "      <td>comment</td>\n",
              "      <td>318709</td>\n",
              "      <td>318705.0</td>\n",
              "      <td>NaN</td>\n",
              "      <td>None</td>\n",
              "      <td>None</td>\n",
              "    </tr>\n",
              "    <tr>\n",
              "      <th>1</th>\n",
              "      <td>Modern ClojureScript</td>\n",
              "      <td>https://github.com/magomimmo/modern-cljs</td>\n",
              "      <td>None</td>\n",
              "      <td>None</td>\n",
              "      <td>brudgers</td>\n",
              "      <td>83.0</td>\n",
              "      <td>1438621836</td>\n",
              "      <td>2015-08-03 17:10:36+00:00</td>\n",
              "      <td>story</td>\n",
              "      <td>9997830</td>\n",
              "      <td>NaN</td>\n",
              "      <td>11.0</td>\n",
              "      <td>None</td>\n",
              "      <td>None</td>\n",
              "    </tr>\n",
              "    <tr>\n",
              "      <th>2</th>\n",
              "      <td>None</td>\n",
              "      <td>None</td>\n",
              "      <td>Well, because heat dissipation is proportional to the square of the voltage, you end up giving u...</td>\n",
              "      <td>None</td>\n",
              "      <td>stcredzero</td>\n",
              "      <td>NaN</td>\n",
              "      <td>1340822020</td>\n",
              "      <td>2012-06-27 18:33:40+00:00</td>\n",
              "      <td>comment</td>\n",
              "      <td>4168406</td>\n",
              "      <td>4165347.0</td>\n",
              "      <td>NaN</td>\n",
              "      <td>None</td>\n",
              "      <td>None</td>\n",
              "    </tr>\n",
              "    <tr>\n",
              "      <th>3</th>\n",
              "      <td>None</td>\n",
              "      <td>None</td>\n",
              "      <td>So?&lt;p&gt;&lt;a href=\"https:&amp;#x2F;&amp;#x2F;streeteasy.com&amp;#x2F;blog&amp;#x2F;live-in-new-jersey-work-in-new-yo...</td>\n",
              "      <td>None</td>\n",
              "      <td>perl4ever</td>\n",
              "      <td>NaN</td>\n",
              "      <td>1570229208</td>\n",
              "      <td>2019-10-04 22:46:48+00:00</td>\n",
              "      <td>comment</td>\n",
              "      <td>21162521</td>\n",
              "      <td>21160429.0</td>\n",
              "      <td>NaN</td>\n",
              "      <td>None</td>\n",
              "      <td>None</td>\n",
              "    </tr>\n",
              "    <tr>\n",
              "      <th>4</th>\n",
              "      <td>None</td>\n",
              "      <td>None</td>\n",
              "      <td>Yes, because beating someone for doing or thinking something is a proven way of making them stop...</td>\n",
              "      <td>None</td>\n",
              "      <td>TeMPOraL</td>\n",
              "      <td>NaN</td>\n",
              "      <td>1570531967</td>\n",
              "      <td>2019-10-08 10:52:47+00:00</td>\n",
              "      <td>comment</td>\n",
              "      <td>21190821</td>\n",
              "      <td>21190776.0</td>\n",
              "      <td>NaN</td>\n",
              "      <td>None</td>\n",
              "      <td>None</td>\n",
              "    </tr>\n",
              "  </tbody>\n",
              "</table>\n",
              "</div>"
            ],
            "text/plain": [
              "                  title                                       url  \\\n",
              "0                  None                                      None   \n",
              "1  Modern ClojureScript  https://github.com/magomimmo/modern-cljs   \n",
              "2                  None                                      None   \n",
              "3                  None                                      None   \n",
              "4                  None                                      None   \n",
              "\n",
              "                                                                                                  text  \\\n",
              "0  Like I said, to be honest I do not know if it is in any way an <i>accurate</i> analogy, but it s...   \n",
              "1                                                                                                 None   \n",
              "2  Well, because heat dissipation is proportional to the square of the voltage, you end up giving u...   \n",
              "3  So?<p><a href=\"https:&#x2F;&#x2F;streeteasy.com&#x2F;blog&#x2F;live-in-new-jersey-work-in-new-yo...   \n",
              "4  Yes, because beating someone for doing or thinking something is a proven way of making them stop...   \n",
              "\n",
              "   dead          by  score        time                 timestamp     type  \\\n",
              "0  None      davidw    NaN  1222716762 2008-09-29 19:32:42+00:00  comment   \n",
              "1  None    brudgers   83.0  1438621836 2015-08-03 17:10:36+00:00    story   \n",
              "2  None  stcredzero    NaN  1340822020 2012-06-27 18:33:40+00:00  comment   \n",
              "3  None   perl4ever    NaN  1570229208 2019-10-04 22:46:48+00:00  comment   \n",
              "4  None    TeMPOraL    NaN  1570531967 2019-10-08 10:52:47+00:00  comment   \n",
              "\n",
              "         id      parent  descendants ranking deleted  \n",
              "0    318709    318705.0          NaN    None    None  \n",
              "1   9997830         NaN         11.0    None    None  \n",
              "2   4168406   4165347.0          NaN    None    None  \n",
              "3  21162521  21160429.0          NaN    None    None  \n",
              "4  21190821  21190776.0          NaN    None    None  "
            ]
          },
          "metadata": {
            "tags": []
          },
          "execution_count": 117
        }
      ]
    },
    {
      "cell_type": "code",
      "metadata": {
        "id": "Q9sqJUoVm-uA",
        "colab_type": "code",
        "colab": {
          "base_uri": "https://localhost:8080/",
          "height": 34
        },
        "outputId": "91441689-133f-423c-fb58-0b6a88135e17"
      },
      "source": [
        "df.shape"
      ],
      "execution_count": 118,
      "outputs": [
        {
          "output_type": "execute_result",
          "data": {
            "text/plain": [
              "(50000, 14)"
            ]
          },
          "metadata": {
            "tags": []
          },
          "execution_count": 118
        }
      ]
    },
    {
      "cell_type": "code",
      "metadata": {
        "id": "POiQRD6MrRpe",
        "colab_type": "code",
        "colab": {
          "base_uri": "https://localhost:8080/",
          "height": 230
        },
        "outputId": "18805c98-af2a-4cdf-aa1a-151edf763419"
      },
      "source": [
        "df['by'].value_counts()"
      ],
      "execution_count": 119,
      "outputs": [
        {
          "output_type": "execute_result",
          "data": {
            "text/plain": [
              "tptacek         711\n",
              "jacquesm        542\n",
              "dang            530\n",
              "dragonwriter    497\n",
              "rbanffy         457\n",
              "               ... \n",
              "matwood          43\n",
              "hhs              42\n",
              "sjg007           41\n",
              "laumars          41\n",
              "sametmax         39\n",
              "Name: by, Length: 499, dtype: int64"
            ]
          },
          "metadata": {
            "tags": []
          },
          "execution_count": 119
        }
      ]
    },
    {
      "cell_type": "code",
      "metadata": {
        "id": "mRzw6-VEulmw",
        "colab_type": "code",
        "colab": {
          "base_uri": "https://localhost:8080/",
          "height": 105
        },
        "outputId": "4852e598-bba8-42f5-ad7b-d123ee377c2e"
      },
      "source": [
        "df['type'].value_counts()"
      ],
      "execution_count": 120,
      "outputs": [
        {
          "output_type": "execute_result",
          "data": {
            "text/plain": [
              "comment    44622\n",
              "story       5351\n",
              "pollopt       26\n",
              "poll           1\n",
              "Name: type, dtype: int64"
            ]
          },
          "metadata": {
            "tags": []
          },
          "execution_count": 120
        }
      ]
    },
    {
      "cell_type": "code",
      "metadata": {
        "id": "BWfXAsGduaAN",
        "colab_type": "code",
        "colab": {
          "base_uri": "https://localhost:8080/",
          "height": 676
        },
        "outputId": "b53439ca-61a6-4ff8-b35c-d54361deafa9"
      },
      "source": [
        "# filter out by type (keep story and comment)\n",
        "df[(df['type'] == 'story') | (df['type'] == 'comment')]"
      ],
      "execution_count": 121,
      "outputs": [
        {
          "output_type": "execute_result",
          "data": {
            "text/html": [
              "<div>\n",
              "<style scoped>\n",
              "    .dataframe tbody tr th:only-of-type {\n",
              "        vertical-align: middle;\n",
              "    }\n",
              "\n",
              "    .dataframe tbody tr th {\n",
              "        vertical-align: top;\n",
              "    }\n",
              "\n",
              "    .dataframe thead th {\n",
              "        text-align: right;\n",
              "    }\n",
              "</style>\n",
              "<table border=\"1\" class=\"dataframe\">\n",
              "  <thead>\n",
              "    <tr style=\"text-align: right;\">\n",
              "      <th></th>\n",
              "      <th>title</th>\n",
              "      <th>url</th>\n",
              "      <th>text</th>\n",
              "      <th>dead</th>\n",
              "      <th>by</th>\n",
              "      <th>score</th>\n",
              "      <th>time</th>\n",
              "      <th>timestamp</th>\n",
              "      <th>type</th>\n",
              "      <th>id</th>\n",
              "      <th>parent</th>\n",
              "      <th>descendants</th>\n",
              "      <th>ranking</th>\n",
              "      <th>deleted</th>\n",
              "    </tr>\n",
              "  </thead>\n",
              "  <tbody>\n",
              "    <tr>\n",
              "      <th>0</th>\n",
              "      <td>None</td>\n",
              "      <td>None</td>\n",
              "      <td>Like I said, to be honest I do not know if it is in any way an &lt;i&gt;accurate&lt;/i&gt; analogy, but it s...</td>\n",
              "      <td>None</td>\n",
              "      <td>davidw</td>\n",
              "      <td>NaN</td>\n",
              "      <td>1222716762</td>\n",
              "      <td>2008-09-29 19:32:42+00:00</td>\n",
              "      <td>comment</td>\n",
              "      <td>318709</td>\n",
              "      <td>318705.0</td>\n",
              "      <td>NaN</td>\n",
              "      <td>None</td>\n",
              "      <td>None</td>\n",
              "    </tr>\n",
              "    <tr>\n",
              "      <th>1</th>\n",
              "      <td>Modern ClojureScript</td>\n",
              "      <td>https://github.com/magomimmo/modern-cljs</td>\n",
              "      <td>None</td>\n",
              "      <td>None</td>\n",
              "      <td>brudgers</td>\n",
              "      <td>83.0</td>\n",
              "      <td>1438621836</td>\n",
              "      <td>2015-08-03 17:10:36+00:00</td>\n",
              "      <td>story</td>\n",
              "      <td>9997830</td>\n",
              "      <td>NaN</td>\n",
              "      <td>11.0</td>\n",
              "      <td>None</td>\n",
              "      <td>None</td>\n",
              "    </tr>\n",
              "    <tr>\n",
              "      <th>2</th>\n",
              "      <td>None</td>\n",
              "      <td>None</td>\n",
              "      <td>Well, because heat dissipation is proportional to the square of the voltage, you end up giving u...</td>\n",
              "      <td>None</td>\n",
              "      <td>stcredzero</td>\n",
              "      <td>NaN</td>\n",
              "      <td>1340822020</td>\n",
              "      <td>2012-06-27 18:33:40+00:00</td>\n",
              "      <td>comment</td>\n",
              "      <td>4168406</td>\n",
              "      <td>4165347.0</td>\n",
              "      <td>NaN</td>\n",
              "      <td>None</td>\n",
              "      <td>None</td>\n",
              "    </tr>\n",
              "    <tr>\n",
              "      <th>3</th>\n",
              "      <td>None</td>\n",
              "      <td>None</td>\n",
              "      <td>So?&lt;p&gt;&lt;a href=\"https:&amp;#x2F;&amp;#x2F;streeteasy.com&amp;#x2F;blog&amp;#x2F;live-in-new-jersey-work-in-new-yo...</td>\n",
              "      <td>None</td>\n",
              "      <td>perl4ever</td>\n",
              "      <td>NaN</td>\n",
              "      <td>1570229208</td>\n",
              "      <td>2019-10-04 22:46:48+00:00</td>\n",
              "      <td>comment</td>\n",
              "      <td>21162521</td>\n",
              "      <td>21160429.0</td>\n",
              "      <td>NaN</td>\n",
              "      <td>None</td>\n",
              "      <td>None</td>\n",
              "    </tr>\n",
              "    <tr>\n",
              "      <th>4</th>\n",
              "      <td>None</td>\n",
              "      <td>None</td>\n",
              "      <td>Yes, because beating someone for doing or thinking something is a proven way of making them stop...</td>\n",
              "      <td>None</td>\n",
              "      <td>TeMPOraL</td>\n",
              "      <td>NaN</td>\n",
              "      <td>1570531967</td>\n",
              "      <td>2019-10-08 10:52:47+00:00</td>\n",
              "      <td>comment</td>\n",
              "      <td>21190821</td>\n",
              "      <td>21190776.0</td>\n",
              "      <td>NaN</td>\n",
              "      <td>None</td>\n",
              "      <td>None</td>\n",
              "    </tr>\n",
              "    <tr>\n",
              "      <th>...</th>\n",
              "      <td>...</td>\n",
              "      <td>...</td>\n",
              "      <td>...</td>\n",
              "      <td>...</td>\n",
              "      <td>...</td>\n",
              "      <td>...</td>\n",
              "      <td>...</td>\n",
              "      <td>...</td>\n",
              "      <td>...</td>\n",
              "      <td>...</td>\n",
              "      <td>...</td>\n",
              "      <td>...</td>\n",
              "      <td>...</td>\n",
              "      <td>...</td>\n",
              "    </tr>\n",
              "    <tr>\n",
              "      <th>49995</th>\n",
              "      <td>None</td>\n",
              "      <td>None</td>\n",
              "      <td>I believe that you hold your views in good faith, but the way you&amp;#x27;ve presented them in this...</td>\n",
              "      <td>None</td>\n",
              "      <td>dang</td>\n",
              "      <td>NaN</td>\n",
              "      <td>1565715946</td>\n",
              "      <td>2019-08-13 17:05:46+00:00</td>\n",
              "      <td>comment</td>\n",
              "      <td>20687789</td>\n",
              "      <td>20685847.0</td>\n",
              "      <td>NaN</td>\n",
              "      <td>None</td>\n",
              "      <td>None</td>\n",
              "    </tr>\n",
              "    <tr>\n",
              "      <th>49996</th>\n",
              "      <td>None</td>\n",
              "      <td>None</td>\n",
              "      <td>Another vote for Fastmail!</td>\n",
              "      <td>None</td>\n",
              "      <td>toomuchtodo</td>\n",
              "      <td>NaN</td>\n",
              "      <td>1580831136</td>\n",
              "      <td>2020-02-04 15:45:36+00:00</td>\n",
              "      <td>comment</td>\n",
              "      <td>22236828</td>\n",
              "      <td>22236621.0</td>\n",
              "      <td>NaN</td>\n",
              "      <td>None</td>\n",
              "      <td>None</td>\n",
              "    </tr>\n",
              "    <tr>\n",
              "      <th>49997</th>\n",
              "      <td>None</td>\n",
              "      <td>None</td>\n",
              "      <td>You can get a pretty decent number for the carbon footprint by using dollars instead.&lt;p&gt;Add the ...</td>\n",
              "      <td>None</td>\n",
              "      <td>ars</td>\n",
              "      <td>NaN</td>\n",
              "      <td>1568924058</td>\n",
              "      <td>2019-09-19 20:14:18+00:00</td>\n",
              "      <td>comment</td>\n",
              "      <td>21020254</td>\n",
              "      <td>21018030.0</td>\n",
              "      <td>NaN</td>\n",
              "      <td>None</td>\n",
              "      <td>None</td>\n",
              "    </tr>\n",
              "    <tr>\n",
              "      <th>49998</th>\n",
              "      <td>NASA wants more humans to walk on the moon – and stay there</td>\n",
              "      <td>https://www.usatoday.com/story/tech/nation-now/2018/07/18/nasa-return-moon/795647002/</td>\n",
              "      <td>None</td>\n",
              "      <td>None</td>\n",
              "      <td>evo_9</td>\n",
              "      <td>1.0</td>\n",
              "      <td>1532008721</td>\n",
              "      <td>2018-07-19 13:58:41+00:00</td>\n",
              "      <td>story</td>\n",
              "      <td>17566297</td>\n",
              "      <td>NaN</td>\n",
              "      <td>1.0</td>\n",
              "      <td>None</td>\n",
              "      <td>None</td>\n",
              "    </tr>\n",
              "    <tr>\n",
              "      <th>49999</th>\n",
              "      <td>None</td>\n",
              "      <td>None</td>\n",
              "      <td>If someone won&amp;#x27;t hire you to &lt;i&gt;write code&lt;/i&gt; based on how you &lt;i&gt;dress&lt;/i&gt; (assuming you ...</td>\n",
              "      <td>None</td>\n",
              "      <td>stephenr</td>\n",
              "      <td>NaN</td>\n",
              "      <td>1497201395</td>\n",
              "      <td>2017-06-11 17:16:35+00:00</td>\n",
              "      <td>comment</td>\n",
              "      <td>14532768</td>\n",
              "      <td>14531514.0</td>\n",
              "      <td>NaN</td>\n",
              "      <td>None</td>\n",
              "      <td>None</td>\n",
              "    </tr>\n",
              "  </tbody>\n",
              "</table>\n",
              "<p>49973 rows × 14 columns</p>\n",
              "</div>"
            ],
            "text/plain": [
              "                                                             title  \\\n",
              "0                                                             None   \n",
              "1                                             Modern ClojureScript   \n",
              "2                                                             None   \n",
              "3                                                             None   \n",
              "4                                                             None   \n",
              "...                                                            ...   \n",
              "49995                                                         None   \n",
              "49996                                                         None   \n",
              "49997                                                         None   \n",
              "49998  NASA wants more humans to walk on the moon – and stay there   \n",
              "49999                                                         None   \n",
              "\n",
              "                                                                                         url  \\\n",
              "0                                                                                       None   \n",
              "1                                                   https://github.com/magomimmo/modern-cljs   \n",
              "2                                                                                       None   \n",
              "3                                                                                       None   \n",
              "4                                                                                       None   \n",
              "...                                                                                      ...   \n",
              "49995                                                                                   None   \n",
              "49996                                                                                   None   \n",
              "49997                                                                                   None   \n",
              "49998  https://www.usatoday.com/story/tech/nation-now/2018/07/18/nasa-return-moon/795647002/   \n",
              "49999                                                                                   None   \n",
              "\n",
              "                                                                                                      text  \\\n",
              "0      Like I said, to be honest I do not know if it is in any way an <i>accurate</i> analogy, but it s...   \n",
              "1                                                                                                     None   \n",
              "2      Well, because heat dissipation is proportional to the square of the voltage, you end up giving u...   \n",
              "3      So?<p><a href=\"https:&#x2F;&#x2F;streeteasy.com&#x2F;blog&#x2F;live-in-new-jersey-work-in-new-yo...   \n",
              "4      Yes, because beating someone for doing or thinking something is a proven way of making them stop...   \n",
              "...                                                                                                    ...   \n",
              "49995  I believe that you hold your views in good faith, but the way you&#x27;ve presented them in this...   \n",
              "49996                                                                           Another vote for Fastmail!   \n",
              "49997  You can get a pretty decent number for the carbon footprint by using dollars instead.<p>Add the ...   \n",
              "49998                                                                                                 None   \n",
              "49999  If someone won&#x27;t hire you to <i>write code</i> based on how you <i>dress</i> (assuming you ...   \n",
              "\n",
              "       dead           by  score        time                 timestamp  \\\n",
              "0      None       davidw    NaN  1222716762 2008-09-29 19:32:42+00:00   \n",
              "1      None     brudgers   83.0  1438621836 2015-08-03 17:10:36+00:00   \n",
              "2      None   stcredzero    NaN  1340822020 2012-06-27 18:33:40+00:00   \n",
              "3      None    perl4ever    NaN  1570229208 2019-10-04 22:46:48+00:00   \n",
              "4      None     TeMPOraL    NaN  1570531967 2019-10-08 10:52:47+00:00   \n",
              "...     ...          ...    ...         ...                       ...   \n",
              "49995  None         dang    NaN  1565715946 2019-08-13 17:05:46+00:00   \n",
              "49996  None  toomuchtodo    NaN  1580831136 2020-02-04 15:45:36+00:00   \n",
              "49997  None          ars    NaN  1568924058 2019-09-19 20:14:18+00:00   \n",
              "49998  None        evo_9    1.0  1532008721 2018-07-19 13:58:41+00:00   \n",
              "49999  None     stephenr    NaN  1497201395 2017-06-11 17:16:35+00:00   \n",
              "\n",
              "          type        id      parent  descendants ranking deleted  \n",
              "0      comment    318709    318705.0          NaN    None    None  \n",
              "1        story   9997830         NaN         11.0    None    None  \n",
              "2      comment   4168406   4165347.0          NaN    None    None  \n",
              "3      comment  21162521  21160429.0          NaN    None    None  \n",
              "4      comment  21190821  21190776.0          NaN    None    None  \n",
              "...        ...       ...         ...          ...     ...     ...  \n",
              "49995  comment  20687789  20685847.0          NaN    None    None  \n",
              "49996  comment  22236828  22236621.0          NaN    None    None  \n",
              "49997  comment  21020254  21018030.0          NaN    None    None  \n",
              "49998    story  17566297         NaN          1.0    None    None  \n",
              "49999  comment  14532768  14531514.0          NaN    None    None  \n",
              "\n",
              "[49973 rows x 14 columns]"
            ]
          },
          "metadata": {
            "tags": []
          },
          "execution_count": 121
        }
      ]
    },
    {
      "cell_type": "code",
      "metadata": {
        "id": "XGPNpnSIvJKG",
        "colab_type": "code",
        "colab": {}
      },
      "source": [
        "# drop some columns\n",
        "#drop title, has 447,218 null values \n",
        "#drop ranking, has 500000 null values\n",
        "#drop score, has 446968 null values \n",
        "clean_df = df.drop(['time', 'descendants', 'deleted', 'url', 'dead', 'title', 'ranking', 'score'], axis=1)"
      ],
      "execution_count": 122,
      "outputs": []
    },
    {
      "cell_type": "code",
      "metadata": {
        "id": "RV-zl3K5o3ju",
        "colab_type": "code",
        "colab": {
          "base_uri": "https://localhost:8080/",
          "height": 34
        },
        "outputId": "d0d63efe-ffdf-4b09-c475-701afd90999e"
      },
      "source": [
        "# average of all texts\n",
        "clean_df['text'].str.len().mean()"
      ],
      "execution_count": 123,
      "outputs": [
        {
          "output_type": "execute_result",
          "data": {
            "text/plain": [
              "425.17194560014315"
            ]
          },
          "metadata": {
            "tags": []
          },
          "execution_count": 123
        }
      ]
    },
    {
      "cell_type": "code",
      "metadata": {
        "id": "k7fXCCbqtf5V",
        "colab_type": "code",
        "colab": {
          "base_uri": "https://localhost:8080/",
          "height": 282
        },
        "outputId": "d1079e2c-cf7a-4eea-ed27-39134ba8a3c6"
      },
      "source": [
        "# histogram of all text lengths\n",
        "clean_df['text'].str.len().hist()"
      ],
      "execution_count": 124,
      "outputs": [
        {
          "output_type": "execute_result",
          "data": {
            "text/plain": [
              "<matplotlib.axes._subplots.AxesSubplot at 0x7fbac9817780>"
            ]
          },
          "metadata": {
            "tags": []
          },
          "execution_count": 124
        },
        {
          "output_type": "display_data",
          "data": {
            "image/png": "[encoded data removed]",
            "text/plain": [
              "<Figure size 432x288 with 1 Axes>"
            ]
          },
          "metadata": {
            "tags": [],
            "needs_background": "light"
          }
        }
      ]
    },
    {
      "cell_type": "code",
      "metadata": {
        "id": "RzCxks9TtqOa",
        "colab_type": "code",
        "colab": {
          "base_uri": "https://localhost:8080/",
          "height": 176
        },
        "outputId": "7c9d8eb3-dd39-4bb1-d2f8-8d7373189471"
      },
      "source": [
        "# description of story texts\n",
        "clean_df[clean_df['type'] == 'story']['text'].str.len().describe()"
      ],
      "execution_count": 125,
      "outputs": [
        {
          "output_type": "execute_result",
          "data": {
            "text/plain": [
              "count      58.000000\n",
              "mean      743.172414\n",
              "std       927.866675\n",
              "min        82.000000\n",
              "25%       243.000000\n",
              "50%       455.000000\n",
              "75%       936.000000\n",
              "max      5744.000000\n",
              "Name: text, dtype: float64"
            ]
          },
          "metadata": {
            "tags": []
          },
          "execution_count": 125
        }
      ]
    },
    {
      "cell_type": "code",
      "metadata": {
        "id": "VCRszthJum6N",
        "colab_type": "code",
        "colab": {
          "base_uri": "https://localhost:8080/",
          "height": 176
        },
        "outputId": "def5d5f6-ff3f-41f5-c043-6afbe548ca54"
      },
      "source": [
        "# description of comment texts\n",
        "clean_df[clean_df['type'] == 'comment']['text'].str.len().describe()"
      ],
      "execution_count": 126,
      "outputs": [
        {
          "output_type": "execute_result",
          "data": {
            "text/plain": [
              "count    44621.000000\n",
              "mean       425.001165\n",
              "std        490.450112\n",
              "min          2.000000\n",
              "25%        144.000000\n",
              "50%        276.000000\n",
              "75%        528.000000\n",
              "max       9262.000000\n",
              "Name: text, dtype: float64"
            ]
          },
          "metadata": {
            "tags": []
          },
          "execution_count": 126
        }
      ]
    },
    {
      "cell_type": "code",
      "metadata": {
        "id": "DBiB3OLmvMZ1",
        "colab_type": "code",
        "colab": {
          "base_uri": "https://localhost:8080/",
          "height": 347
        },
        "outputId": "08de9a9e-d895-42b8-cf93-91136d459474"
      },
      "source": [
        "aux = clean_df[clean_df['type'] == 'comment']\n",
        "aux2 = aux[aux['text'].str.len() <= 5]\n",
        "aux2.head(10)"
      ],
      "execution_count": 127,
      "outputs": [
        {
          "output_type": "execute_result",
          "data": {
            "text/html": [
              "<div>\n",
              "<style scoped>\n",
              "    .dataframe tbody tr th:only-of-type {\n",
              "        vertical-align: middle;\n",
              "    }\n",
              "\n",
              "    .dataframe tbody tr th {\n",
              "        vertical-align: top;\n",
              "    }\n",
              "\n",
              "    .dataframe thead th {\n",
              "        text-align: right;\n",
              "    }\n",
              "</style>\n",
              "<table border=\"1\" class=\"dataframe\">\n",
              "  <thead>\n",
              "    <tr style=\"text-align: right;\">\n",
              "      <th></th>\n",
              "      <th>text</th>\n",
              "      <th>by</th>\n",
              "      <th>timestamp</th>\n",
              "      <th>type</th>\n",
              "      <th>id</th>\n",
              "      <th>parent</th>\n",
              "    </tr>\n",
              "  </thead>\n",
              "  <tbody>\n",
              "    <tr>\n",
              "      <th>290</th>\n",
              "      <td>Why?</td>\n",
              "      <td>pjc50</td>\n",
              "      <td>2018-09-03 11:00:32+00:00</td>\n",
              "      <td>comment</td>\n",
              "      <td>17901808</td>\n",
              "      <td>17901803.0</td>\n",
              "    </tr>\n",
              "    <tr>\n",
              "      <th>2868</th>\n",
              "      <td>Sure.</td>\n",
              "      <td>WalterBright</td>\n",
              "      <td>2020-03-26 19:18:06+00:00</td>\n",
              "      <td>comment</td>\n",
              "      <td>22696891</td>\n",
              "      <td>22696659.0</td>\n",
              "    </tr>\n",
              "    <tr>\n",
              "      <th>5497</th>\n",
              "      <td>Why?</td>\n",
              "      <td>fiatjaf</td>\n",
              "      <td>2015-03-16 13:26:51+00:00</td>\n",
              "      <td>comment</td>\n",
              "      <td>9211244</td>\n",
              "      <td>9209702.0</td>\n",
              "    </tr>\n",
              "    <tr>\n",
              "      <th>5571</th>\n",
              "      <td>120</td>\n",
              "      <td>paulddraper</td>\n",
              "      <td>2016-04-25 20:01:08+00:00</td>\n",
              "      <td>comment</td>\n",
              "      <td>11566884</td>\n",
              "      <td>11566290.0</td>\n",
              "    </tr>\n",
              "    <tr>\n",
              "      <th>6391</th>\n",
              "      <td>Chess</td>\n",
              "      <td>ThomPete</td>\n",
              "      <td>2010-06-06 20:52:25+00:00</td>\n",
              "      <td>comment</td>\n",
              "      <td>1409139</td>\n",
              "      <td>1409136.0</td>\n",
              "    </tr>\n",
              "    <tr>\n",
              "      <th>8142</th>\n",
              "      <td>Why?</td>\n",
              "      <td>tptacek</td>\n",
              "      <td>2008-03-16 23:08:38+00:00</td>\n",
              "      <td>comment</td>\n",
              "      <td>138497</td>\n",
              "      <td>138478.0</td>\n",
              "    </tr>\n",
              "    <tr>\n",
              "      <th>10156</th>\n",
              "      <td>No.</td>\n",
              "      <td>onion2k</td>\n",
              "      <td>2018-10-15 12:11:31+00:00</td>\n",
              "      <td>comment</td>\n",
              "      <td>18219037</td>\n",
              "      <td>18218878.0</td>\n",
              "    </tr>\n",
              "    <tr>\n",
              "      <th>12149</th>\n",
              "      <td>Yes.</td>\n",
              "      <td>Tomte</td>\n",
              "      <td>2015-08-07 13:04:37+00:00</td>\n",
              "      <td>comment</td>\n",
              "      <td>10022183</td>\n",
              "      <td>10022155.0</td>\n",
              "    </tr>\n",
              "    <tr>\n",
              "      <th>13139</th>\n",
              "      <td>No.</td>\n",
              "      <td>sjg007</td>\n",
              "      <td>2020-03-31 13:15:33+00:00</td>\n",
              "      <td>comment</td>\n",
              "      <td>22737162</td>\n",
              "      <td>22737153.0</td>\n",
              "    </tr>\n",
              "    <tr>\n",
              "      <th>13188</th>\n",
              "      <td>Yeah.</td>\n",
              "      <td>coldtea</td>\n",
              "      <td>2015-05-02 22:42:58+00:00</td>\n",
              "      <td>comment</td>\n",
              "      <td>9478845</td>\n",
              "      <td>9477854.0</td>\n",
              "    </tr>\n",
              "  </tbody>\n",
              "</table>\n",
              "</div>"
            ],
            "text/plain": [
              "        text            by                 timestamp     type        id  \\\n",
              "290     Why?         pjc50 2018-09-03 11:00:32+00:00  comment  17901808   \n",
              "2868   Sure.  WalterBright 2020-03-26 19:18:06+00:00  comment  22696891   \n",
              "5497    Why?       fiatjaf 2015-03-16 13:26:51+00:00  comment   9211244   \n",
              "5571     120   paulddraper 2016-04-25 20:01:08+00:00  comment  11566884   \n",
              "6391   Chess      ThomPete 2010-06-06 20:52:25+00:00  comment   1409139   \n",
              "8142    Why?       tptacek 2008-03-16 23:08:38+00:00  comment    138497   \n",
              "10156    No.       onion2k 2018-10-15 12:11:31+00:00  comment  18219037   \n",
              "12149   Yes.         Tomte 2015-08-07 13:04:37+00:00  comment  10022183   \n",
              "13139    No.        sjg007 2020-03-31 13:15:33+00:00  comment  22737162   \n",
              "13188  Yeah.       coldtea 2015-05-02 22:42:58+00:00  comment   9478845   \n",
              "\n",
              "           parent  \n",
              "290    17901803.0  \n",
              "2868   22696659.0  \n",
              "5497    9209702.0  \n",
              "5571   11566290.0  \n",
              "6391    1409136.0  \n",
              "8142     138478.0  \n",
              "10156  18218878.0  \n",
              "12149  10022155.0  \n",
              "13139  22737153.0  \n",
              "13188   9477854.0  "
            ]
          },
          "metadata": {
            "tags": []
          },
          "execution_count": 127
        }
      ]
    },
    {
      "cell_type": "code",
      "metadata": {
        "id": "A26Rl2Cs2I0B",
        "colab_type": "code",
        "colab": {
          "base_uri": "https://localhost:8080/",
          "height": 34
        },
        "outputId": "aeedd3e0-eec3-43aa-fbb7-93747e041858"
      },
      "source": [
        "aux2.shape"
      ],
      "execution_count": 128,
      "outputs": [
        {
          "output_type": "execute_result",
          "data": {
            "text/plain": [
              "(42, 6)"
            ]
          },
          "metadata": {
            "tags": []
          },
          "execution_count": 128
        }
      ]
    },
    {
      "cell_type": "code",
      "metadata": {
        "id": "0t81jfgU2TSS",
        "colab_type": "code",
        "colab": {
          "base_uri": "https://localhost:8080/",
          "height": 34
        },
        "outputId": "536cbe37-1f5b-4260-aec7-3ae992b46023"
      },
      "source": [
        "aux2['text'].nunique()"
      ],
      "execution_count": 129,
      "outputs": [
        {
          "output_type": "execute_result",
          "data": {
            "text/plain": [
              "25"
            ]
          },
          "metadata": {
            "tags": []
          },
          "execution_count": 129
        }
      ]
    },
    {
      "cell_type": "code",
      "metadata": {
        "id": "srIqZc2O2Vh2",
        "colab_type": "code",
        "colab": {}
      },
      "source": [
        "#only 507 comments with 5 characters or less, upon analysis doesn't look like they provide much context, \n",
        "#not helpful for model analysis so drop comments with 5 words or less\n",
        "\n",
        "# take only the rows whose text column's length is greater than five\n",
        "# this also removes the texts that are None\n",
        "clean_df = clean_df[clean_df['text'].str.len() > 5]"
      ],
      "execution_count": 130,
      "outputs": []
    },
    {
      "cell_type": "code",
      "metadata": {
        "id": "N0N4Gwc66cOC",
        "colab_type": "code",
        "colab": {
          "base_uri": "https://localhost:8080/",
          "height": 317
        },
        "outputId": "16054357-a1f5-4d36-f961-d1e9650128f6"
      },
      "source": [
        "clean_df.head()"
      ],
      "execution_count": 131,
      "outputs": [
        {
          "output_type": "execute_result",
          "data": {
            "text/html": [
              "<div>\n",
              "<style scoped>\n",
              "    .dataframe tbody tr th:only-of-type {\n",
              "        vertical-align: middle;\n",
              "    }\n",
              "\n",
              "    .dataframe tbody tr th {\n",
              "        vertical-align: top;\n",
              "    }\n",
              "\n",
              "    .dataframe thead th {\n",
              "        text-align: right;\n",
              "    }\n",
              "</style>\n",
              "<table border=\"1\" class=\"dataframe\">\n",
              "  <thead>\n",
              "    <tr style=\"text-align: right;\">\n",
              "      <th></th>\n",
              "      <th>text</th>\n",
              "      <th>by</th>\n",
              "      <th>timestamp</th>\n",
              "      <th>type</th>\n",
              "      <th>id</th>\n",
              "      <th>parent</th>\n",
              "    </tr>\n",
              "  </thead>\n",
              "  <tbody>\n",
              "    <tr>\n",
              "      <th>0</th>\n",
              "      <td>Like I said, to be honest I do not know if it is in any way an &lt;i&gt;accurate&lt;/i&gt; analogy, but it s...</td>\n",
              "      <td>davidw</td>\n",
              "      <td>2008-09-29 19:32:42+00:00</td>\n",
              "      <td>comment</td>\n",
              "      <td>318709</td>\n",
              "      <td>318705.0</td>\n",
              "    </tr>\n",
              "    <tr>\n",
              "      <th>2</th>\n",
              "      <td>Well, because heat dissipation is proportional to the square of the voltage, you end up giving u...</td>\n",
              "      <td>stcredzero</td>\n",
              "      <td>2012-06-27 18:33:40+00:00</td>\n",
              "      <td>comment</td>\n",
              "      <td>4168406</td>\n",
              "      <td>4165347.0</td>\n",
              "    </tr>\n",
              "    <tr>\n",
              "      <th>3</th>\n",
              "      <td>So?&lt;p&gt;&lt;a href=\"https:&amp;#x2F;&amp;#x2F;streeteasy.com&amp;#x2F;blog&amp;#x2F;live-in-new-jersey-work-in-new-yo...</td>\n",
              "      <td>perl4ever</td>\n",
              "      <td>2019-10-04 22:46:48+00:00</td>\n",
              "      <td>comment</td>\n",
              "      <td>21162521</td>\n",
              "      <td>21160429.0</td>\n",
              "    </tr>\n",
              "    <tr>\n",
              "      <th>4</th>\n",
              "      <td>Yes, because beating someone for doing or thinking something is a proven way of making them stop...</td>\n",
              "      <td>TeMPOraL</td>\n",
              "      <td>2019-10-08 10:52:47+00:00</td>\n",
              "      <td>comment</td>\n",
              "      <td>21190821</td>\n",
              "      <td>21190776.0</td>\n",
              "    </tr>\n",
              "    <tr>\n",
              "      <th>5</th>\n",
              "      <td>I think downvotes are fundamentally broken.&lt;p&gt;If upvotes are agree&amp;#x2F;approval and downvotes a...</td>\n",
              "      <td>Someone1234</td>\n",
              "      <td>2019-08-06 21:13:12+00:00</td>\n",
              "      <td>comment</td>\n",
              "      <td>20629696</td>\n",
              "      <td>20628433.0</td>\n",
              "    </tr>\n",
              "  </tbody>\n",
              "</table>\n",
              "</div>"
            ],
            "text/plain": [
              "                                                                                                  text  \\\n",
              "0  Like I said, to be honest I do not know if it is in any way an <i>accurate</i> analogy, but it s...   \n",
              "2  Well, because heat dissipation is proportional to the square of the voltage, you end up giving u...   \n",
              "3  So?<p><a href=\"https:&#x2F;&#x2F;streeteasy.com&#x2F;blog&#x2F;live-in-new-jersey-work-in-new-yo...   \n",
              "4  Yes, because beating someone for doing or thinking something is a proven way of making them stop...   \n",
              "5  I think downvotes are fundamentally broken.<p>If upvotes are agree&#x2F;approval and downvotes a...   \n",
              "\n",
              "            by                 timestamp     type        id      parent  \n",
              "0       davidw 2008-09-29 19:32:42+00:00  comment    318709    318705.0  \n",
              "2   stcredzero 2012-06-27 18:33:40+00:00  comment   4168406   4165347.0  \n",
              "3    perl4ever 2019-10-04 22:46:48+00:00  comment  21162521  21160429.0  \n",
              "4     TeMPOraL 2019-10-08 10:52:47+00:00  comment  21190821  21190776.0  \n",
              "5  Someone1234 2019-08-06 21:13:12+00:00  comment  20629696  20628433.0  "
            ]
          },
          "metadata": {
            "tags": []
          },
          "execution_count": 131
        }
      ]
    },
    {
      "cell_type": "code",
      "metadata": {
        "id": "TLVGnxJx7oZA",
        "colab_type": "code",
        "colab": {
          "base_uri": "https://localhost:8080/",
          "height": 176
        },
        "outputId": "b3b35430-bc96-4756-dc3b-35ecdde1a121"
      },
      "source": [
        "clean_df['text'].str.len().describe()"
      ],
      "execution_count": 132,
      "outputs": [
        {
          "output_type": "execute_result",
          "data": {
            "text/plain": [
              "count    44658.000000\n",
              "mean       425.624905\n",
              "std        491.404972\n",
              "min          6.000000\n",
              "25%        144.000000\n",
              "50%        276.000000\n",
              "75%        528.000000\n",
              "max       9262.000000\n",
              "Name: text, dtype: float64"
            ]
          },
          "metadata": {
            "tags": []
          },
          "execution_count": 132
        }
      ]
    },
    {
      "cell_type": "code",
      "metadata": {
        "id": "QAGY6mTJPVaS",
        "colab_type": "code",
        "colab": {}
      },
      "source": [
        "# Use BS on a single piece of text to remove strange chars and URLs and tags\n",
        "from bs4 import BeautifulSoup\n",
        "\n",
        "def clean_soup(text):\n",
        "    # make a soup - this takes care of strange characters\n",
        "    soup = BeautifulSoup(text, \"html.parser\")\n",
        "\n",
        "    # delete <a> tags as they contain URLs -- remember <a href=\"url_here\">\n",
        "    # tags contain URLs\n",
        "    for s in soup.select('a'):\n",
        "       s.extract()\n",
        "\n",
        "    # the soup contains <p> tags -- here we get rid of those and join them with spaces\n",
        "    strings = soup.find_all(text=True, recursive=True)\n",
        "    result = ' '.join(strings)\n",
        "\n",
        "    return result"
      ],
      "execution_count": 133,
      "outputs": []
    },
    {
      "cell_type": "code",
      "metadata": {
        "id": "zbX55E3BPZum",
        "colab_type": "code",
        "colab": {
          "base_uri": "https://localhost:8080/",
          "height": 72
        },
        "outputId": "c8149e5b-e13d-4c68-c65e-8d712322128d"
      },
      "source": [
        "# Apply that to each comment/story text\n",
        "clean_text = clean_df['text'].apply(clean_soup)"
      ],
      "execution_count": 134,
      "outputs": [
        {
          "output_type": "stream",
          "text": [
            "/usr/local/lib/python3.6/dist-packages/bs4/__init__.py:336: UserWarning: \"https:&#x2F;&#x2F;www.pcisecuritystandards.org&#x2F;documents&#x2F;SAQ_A-EP_v3.pdf\" looks like a URL. Beautiful Soup is not an HTTP client. You should probably use an HTTP client like requests to get the document behind the URL, and feed that document to Beautiful Soup.\n",
            "  ' that document to Beautiful Soup.' % decoded_markup\n"
          ],
          "name": "stderr"
        }
      ]
    },
    {
      "cell_type": "code",
      "metadata": {
        "id": "n2-3krVLaF5u",
        "colab_type": "code",
        "colab": {}
      },
      "source": [
        "clean_df['text'] = clean_text"
      ],
      "execution_count": 135,
      "outputs": []
    },
    {
      "cell_type": "code",
      "metadata": {
        "id": "sdfTUjq9ZTHm",
        "colab_type": "code",
        "colab": {
          "base_uri": "https://localhost:8080/",
          "height": 831
        },
        "outputId": "6571e04a-7a9d-4c1b-bffe-08e1b74ca2c8"
      },
      "source": [
        "import pandas as pd\n",
        "pd.options.display.max_colwidth = 100\n",
        "clean_df.sample(10)"
      ],
      "execution_count": 136,
      "outputs": [
        {
          "output_type": "execute_result",
          "data": {
            "text/html": [
              "<div>\n",
              "<style scoped>\n",
              "    .dataframe tbody tr th:only-of-type {\n",
              "        vertical-align: middle;\n",
              "    }\n",
              "\n",
              "    .dataframe tbody tr th {\n",
              "        vertical-align: top;\n",
              "    }\n",
              "\n",
              "    .dataframe thead th {\n",
              "        text-align: right;\n",
              "    }\n",
              "</style>\n",
              "<table border=\"1\" class=\"dataframe\">\n",
              "  <thead>\n",
              "    <tr style=\"text-align: right;\">\n",
              "      <th></th>\n",
              "      <th>text</th>\n",
              "      <th>by</th>\n",
              "      <th>timestamp</th>\n",
              "      <th>type</th>\n",
              "      <th>id</th>\n",
              "      <th>parent</th>\n",
              "    </tr>\n",
              "  </thead>\n",
              "  <tbody>\n",
              "    <tr>\n",
              "      <th>1874</th>\n",
              "      <td>Fair enough. Did you see my point about just hashing log4j.properties's contents? Since I assume...</td>\n",
              "      <td>Someone1234</td>\n",
              "      <td>2015-01-26 18:22:38+00:00</td>\n",
              "      <td>comment</td>\n",
              "      <td>8948555</td>\n",
              "      <td>8948533.0</td>\n",
              "    </tr>\n",
              "    <tr>\n",
              "      <th>27153</th>\n",
              "      <td>wow.  Macro posts one slightly vapid but inoffensive comment and is struck by instant death ligh...</td>\n",
              "      <td>tedunangst</td>\n",
              "      <td>2012-08-30 03:57:33+00:00</td>\n",
              "      <td>comment</td>\n",
              "      <td>4452873</td>\n",
              "      <td>4452842.0</td>\n",
              "    </tr>\n",
              "    <tr>\n",
              "      <th>21115</th>\n",
              "      <td>I'm rather conflicted about this. Whenever big companies say a new regulation is going to be \"di...</td>\n",
              "      <td>ams6110</td>\n",
              "      <td>2018-09-12 12:27:38+00:00</td>\n",
              "      <td>comment</td>\n",
              "      <td>17967814</td>\n",
              "      <td>17967366.0</td>\n",
              "    </tr>\n",
              "    <tr>\n",
              "      <th>20407</th>\n",
              "      <td>It's also impossible to determine which areas they cover after signing up for an account. I've g...</td>\n",
              "      <td>dangrossman</td>\n",
              "      <td>2012-01-16 00:09:52+00:00</td>\n",
              "      <td>comment</td>\n",
              "      <td>3468745</td>\n",
              "      <td>3468737.0</td>\n",
              "    </tr>\n",
              "    <tr>\n",
              "      <th>47006</th>\n",
              "      <td>Yes. There is a book by Serhii Plonkhy called ‘Chrrnobyl’. The lasting impression I have is that...</td>\n",
              "      <td>lostlogin</td>\n",
              "      <td>2019-02-16 21:16:03+00:00</td>\n",
              "      <td>comment</td>\n",
              "      <td>19180986</td>\n",
              "      <td>19178586.0</td>\n",
              "    </tr>\n",
              "    <tr>\n",
              "      <th>18420</th>\n",
              "      <td>Doesn't apply to US-International keyboards, I use \"~\" all the time.</td>\n",
              "      <td>ricardobeat</td>\n",
              "      <td>2013-02-02 03:15:42+00:00</td>\n",
              "      <td>comment</td>\n",
              "      <td>5154988</td>\n",
              "      <td>5154833.0</td>\n",
              "    </tr>\n",
              "    <tr>\n",
              "      <th>20388</th>\n",
              "      <td>Do you have actual facts to support your statements that you can reference?  It's fine to make a...</td>\n",
              "      <td>melling</td>\n",
              "      <td>2011-12-26 16:21:01+00:00</td>\n",
              "      <td>comment</td>\n",
              "      <td>3393172</td>\n",
              "      <td>3393155.0</td>\n",
              "    </tr>\n",
              "    <tr>\n",
              "      <th>39360</th>\n",
              "      <td>The important thing is that you've found a way to feel superior to pretty much everyone.</td>\n",
              "      <td>CamperBob2</td>\n",
              "      <td>2018-02-15 08:34:41+00:00</td>\n",
              "      <td>comment</td>\n",
              "      <td>16382622</td>\n",
              "      <td>16382366.0</td>\n",
              "    </tr>\n",
              "    <tr>\n",
              "      <th>14705</th>\n",
              "      <td>Actually, it's any platform that has a well documented protocol and open source reference implem...</td>\n",
              "      <td>EGreg</td>\n",
              "      <td>2012-07-08 06:35:02+00:00</td>\n",
              "      <td>comment</td>\n",
              "      <td>4213891</td>\n",
              "      <td>4213667.0</td>\n",
              "    </tr>\n",
              "    <tr>\n",
              "      <th>25862</th>\n",
              "      <td>Do you have any evidence for these bold claims? the world might be interested in hearing what yo...</td>\n",
              "      <td>mahmud</td>\n",
              "      <td>2009-12-15 10:42:07+00:00</td>\n",
              "      <td>comment</td>\n",
              "      <td>996256</td>\n",
              "      <td>996246.0</td>\n",
              "    </tr>\n",
              "  </tbody>\n",
              "</table>\n",
              "</div>"
            ],
            "text/plain": [
              "                                                                                                      text  \\\n",
              "1874   Fair enough. Did you see my point about just hashing log4j.properties's contents? Since I assume...   \n",
              "27153  wow.  Macro posts one slightly vapid but inoffensive comment and is struck by instant death ligh...   \n",
              "21115  I'm rather conflicted about this. Whenever big companies say a new regulation is going to be \"di...   \n",
              "20407  It's also impossible to determine which areas they cover after signing up for an account. I've g...   \n",
              "47006  Yes. There is a book by Serhii Plonkhy called ‘Chrrnobyl’. The lasting impression I have is that...   \n",
              "18420                                 Doesn't apply to US-International keyboards, I use \"~\" all the time.   \n",
              "20388  Do you have actual facts to support your statements that you can reference?  It's fine to make a...   \n",
              "39360             The important thing is that you've found a way to feel superior to pretty much everyone.   \n",
              "14705  Actually, it's any platform that has a well documented protocol and open source reference implem...   \n",
              "25862  Do you have any evidence for these bold claims? the world might be interested in hearing what yo...   \n",
              "\n",
              "                by                 timestamp     type        id      parent  \n",
              "1874   Someone1234 2015-01-26 18:22:38+00:00  comment   8948555   8948533.0  \n",
              "27153   tedunangst 2012-08-30 03:57:33+00:00  comment   4452873   4452842.0  \n",
              "21115      ams6110 2018-09-12 12:27:38+00:00  comment  17967814  17967366.0  \n",
              "20407  dangrossman 2012-01-16 00:09:52+00:00  comment   3468745   3468737.0  \n",
              "47006    lostlogin 2019-02-16 21:16:03+00:00  comment  19180986  19178586.0  \n",
              "18420  ricardobeat 2013-02-02 03:15:42+00:00  comment   5154988   5154833.0  \n",
              "20388      melling 2011-12-26 16:21:01+00:00  comment   3393172   3393155.0  \n",
              "39360   CamperBob2 2018-02-15 08:34:41+00:00  comment  16382622  16382366.0  \n",
              "14705        EGreg 2012-07-08 06:35:02+00:00  comment   4213891   4213667.0  \n",
              "25862       mahmud 2009-12-15 10:42:07+00:00  comment    996256    996246.0  "
            ]
          },
          "metadata": {
            "tags": []
          },
          "execution_count": 136
        }
      ]
    },
    {
      "cell_type": "code",
      "metadata": {
        "id": "pcCvgbfeaW9N",
        "colab_type": "code",
        "colab": {
          "base_uri": "https://localhost:8080/",
          "height": 141
        },
        "outputId": "fd2610c3-63ce-4454-d2bf-34a82c13756d"
      },
      "source": [
        "#makes sense the parent would have some null values, if they are the first comment\n",
        "clean_df.isnull().sum()"
      ],
      "execution_count": 137,
      "outputs": [
        {
          "output_type": "execute_result",
          "data": {
            "text/plain": [
              "text          0\n",
              "by            0\n",
              "timestamp     0\n",
              "type          0\n",
              "id            0\n",
              "parent       79\n",
              "dtype: int64"
            ]
          },
          "metadata": {
            "tags": []
          },
          "execution_count": 137
        }
      ]
    },
    {
      "cell_type": "markdown",
      "metadata": {
        "id": "POlu6GsgHXCt",
        "colab_type": "text"
      },
      "source": [
        "#Pyrom\n",
        "##---------------------------"
      ]
    },
    {
      "cell_type": "code",
      "metadata": {
        "id": "scvJHSfnHKYt",
        "colab_type": "code",
        "colab": {
          "base_uri": "https://localhost:8080/",
          "height": 143
        },
        "outputId": "3fbf96c6-32c6-4251-d3f6-ee1be9ed4710"
      },
      "source": [
        "pip install vaderSentiment"
      ],
      "execution_count": 138,
      "outputs": [
        {
          "output_type": "stream",
          "text": [
            "Requirement already satisfied: vaderSentiment in /usr/local/lib/python3.6/dist-packages (3.3.2)\n",
            "Requirement already satisfied: requests in /usr/local/lib/python3.6/dist-packages (from vaderSentiment) (2.23.0)\n",
            "Requirement already satisfied: certifi>=2017.4.17 in /usr/local/lib/python3.6/dist-packages (from requests->vaderSentiment) (2020.4.5.2)\n",
            "Requirement already satisfied: urllib3!=1.25.0,!=1.25.1,<1.26,>=1.21.1 in /usr/local/lib/python3.6/dist-packages (from requests->vaderSentiment) (1.24.3)\n",
            "Requirement already satisfied: idna<3,>=2.5 in /usr/local/lib/python3.6/dist-packages (from requests->vaderSentiment) (2.9)\n",
            "Requirement already satisfied: chardet<4,>=3.0.2 in /usr/local/lib/python3.6/dist-packages (from requests->vaderSentiment) (3.0.4)\n"
          ],
          "name": "stdout"
        }
      ]
    },
    {
      "cell_type": "code",
      "metadata": {
        "id": "xBvsAdqkHimw",
        "colab_type": "code",
        "colab": {}
      },
      "source": [
        "from vaderSentiment.vaderSentiment import SentimentIntensityAnalyzer\n",
        "\n",
        "#Panda Settings\n",
        "pd.set_option('display.max_rows', 200)\n",
        "pd.set_option('display.max_columns', 200)"
      ],
      "execution_count": 139,
      "outputs": []
    },
    {
      "cell_type": "code",
      "metadata": {
        "id": "2wzaI6mGIAFW",
        "colab_type": "code",
        "colab": {
          "base_uri": "https://localhost:8080/",
          "height": 364
        },
        "outputId": "a431ee9e-4b36-4b43-d05b-a4b190d73298"
      },
      "source": [
        "clean_df.head()"
      ],
      "execution_count": 140,
      "outputs": [
        {
          "output_type": "execute_result",
          "data": {
            "text/html": [
              "<div>\n",
              "<style scoped>\n",
              "    .dataframe tbody tr th:only-of-type {\n",
              "        vertical-align: middle;\n",
              "    }\n",
              "\n",
              "    .dataframe tbody tr th {\n",
              "        vertical-align: top;\n",
              "    }\n",
              "\n",
              "    .dataframe thead th {\n",
              "        text-align: right;\n",
              "    }\n",
              "</style>\n",
              "<table border=\"1\" class=\"dataframe\">\n",
              "  <thead>\n",
              "    <tr style=\"text-align: right;\">\n",
              "      <th></th>\n",
              "      <th>text</th>\n",
              "      <th>by</th>\n",
              "      <th>timestamp</th>\n",
              "      <th>type</th>\n",
              "      <th>id</th>\n",
              "      <th>parent</th>\n",
              "    </tr>\n",
              "  </thead>\n",
              "  <tbody>\n",
              "    <tr>\n",
              "      <th>0</th>\n",
              "      <td>Like I said, to be honest I do not know if it is in any way an  accurate  analogy, but it seems ...</td>\n",
              "      <td>davidw</td>\n",
              "      <td>2008-09-29 19:32:42+00:00</td>\n",
              "      <td>comment</td>\n",
              "      <td>318709</td>\n",
              "      <td>318705.0</td>\n",
              "    </tr>\n",
              "    <tr>\n",
              "      <th>2</th>\n",
              "      <td>Well, because heat dissipation is proportional to the square of the voltage, you end up giving u...</td>\n",
              "      <td>stcredzero</td>\n",
              "      <td>2012-06-27 18:33:40+00:00</td>\n",
              "      <td>comment</td>\n",
              "      <td>4168406</td>\n",
              "      <td>4165347.0</td>\n",
              "    </tr>\n",
              "    <tr>\n",
              "      <th>3</th>\n",
              "      <td>So?</td>\n",
              "      <td>perl4ever</td>\n",
              "      <td>2019-10-04 22:46:48+00:00</td>\n",
              "      <td>comment</td>\n",
              "      <td>21162521</td>\n",
              "      <td>21160429.0</td>\n",
              "    </tr>\n",
              "    <tr>\n",
              "      <th>4</th>\n",
              "      <td>Yes, because beating someone for doing or thinking something is a proven way of making them stop...</td>\n",
              "      <td>TeMPOraL</td>\n",
              "      <td>2019-10-08 10:52:47+00:00</td>\n",
              "      <td>comment</td>\n",
              "      <td>21190821</td>\n",
              "      <td>21190776.0</td>\n",
              "    </tr>\n",
              "    <tr>\n",
              "      <th>5</th>\n",
              "      <td>I think downvotes are fundamentally broken. If upvotes are agree/approval and downvotes are disa...</td>\n",
              "      <td>Someone1234</td>\n",
              "      <td>2019-08-06 21:13:12+00:00</td>\n",
              "      <td>comment</td>\n",
              "      <td>20629696</td>\n",
              "      <td>20628433.0</td>\n",
              "    </tr>\n",
              "  </tbody>\n",
              "</table>\n",
              "</div>"
            ],
            "text/plain": [
              "                                                                                                  text  \\\n",
              "0  Like I said, to be honest I do not know if it is in any way an  accurate  analogy, but it seems ...   \n",
              "2  Well, because heat dissipation is proportional to the square of the voltage, you end up giving u...   \n",
              "3                                                                                                  So?   \n",
              "4  Yes, because beating someone for doing or thinking something is a proven way of making them stop...   \n",
              "5  I think downvotes are fundamentally broken. If upvotes are agree/approval and downvotes are disa...   \n",
              "\n",
              "            by                 timestamp     type        id      parent  \n",
              "0       davidw 2008-09-29 19:32:42+00:00  comment    318709    318705.0  \n",
              "2   stcredzero 2012-06-27 18:33:40+00:00  comment   4168406   4165347.0  \n",
              "3    perl4ever 2019-10-04 22:46:48+00:00  comment  21162521  21160429.0  \n",
              "4     TeMPOraL 2019-10-08 10:52:47+00:00  comment  21190821  21190776.0  \n",
              "5  Someone1234 2019-08-06 21:13:12+00:00  comment  20629696  20628433.0  "
            ]
          },
          "metadata": {
            "tags": []
          },
          "execution_count": 140
        }
      ]
    },
    {
      "cell_type": "code",
      "metadata": {
        "id": "Bem0dr5eIDUB",
        "colab_type": "code",
        "colab": {
          "base_uri": "https://localhost:8080/",
          "height": 247
        },
        "outputId": "95986b31-5afc-469a-8957-8ffa819dc36b"
      },
      "source": [
        "df = clean_df.drop(columns=['timestamp', 'type', 'id', 'parent'])\n",
        "df.head()"
      ],
      "execution_count": 141,
      "outputs": [
        {
          "output_type": "execute_result",
          "data": {
            "text/html": [
              "<div>\n",
              "<style scoped>\n",
              "    .dataframe tbody tr th:only-of-type {\n",
              "        vertical-align: middle;\n",
              "    }\n",
              "\n",
              "    .dataframe tbody tr th {\n",
              "        vertical-align: top;\n",
              "    }\n",
              "\n",
              "    .dataframe thead th {\n",
              "        text-align: right;\n",
              "    }\n",
              "</style>\n",
              "<table border=\"1\" class=\"dataframe\">\n",
              "  <thead>\n",
              "    <tr style=\"text-align: right;\">\n",
              "      <th></th>\n",
              "      <th>text</th>\n",
              "      <th>by</th>\n",
              "    </tr>\n",
              "  </thead>\n",
              "  <tbody>\n",
              "    <tr>\n",
              "      <th>0</th>\n",
              "      <td>Like I said, to be honest I do not know if it is in any way an  accurate  analogy, but it seems ...</td>\n",
              "      <td>davidw</td>\n",
              "    </tr>\n",
              "    <tr>\n",
              "      <th>2</th>\n",
              "      <td>Well, because heat dissipation is proportional to the square of the voltage, you end up giving u...</td>\n",
              "      <td>stcredzero</td>\n",
              "    </tr>\n",
              "    <tr>\n",
              "      <th>3</th>\n",
              "      <td>So?</td>\n",
              "      <td>perl4ever</td>\n",
              "    </tr>\n",
              "    <tr>\n",
              "      <th>4</th>\n",
              "      <td>Yes, because beating someone for doing or thinking something is a proven way of making them stop...</td>\n",
              "      <td>TeMPOraL</td>\n",
              "    </tr>\n",
              "    <tr>\n",
              "      <th>5</th>\n",
              "      <td>I think downvotes are fundamentally broken. If upvotes are agree/approval and downvotes are disa...</td>\n",
              "      <td>Someone1234</td>\n",
              "    </tr>\n",
              "  </tbody>\n",
              "</table>\n",
              "</div>"
            ],
            "text/plain": [
              "                                                                                                  text  \\\n",
              "0  Like I said, to be honest I do not know if it is in any way an  accurate  analogy, but it seems ...   \n",
              "2  Well, because heat dissipation is proportional to the square of the voltage, you end up giving u...   \n",
              "3                                                                                                  So?   \n",
              "4  Yes, because beating someone for doing or thinking something is a proven way of making them stop...   \n",
              "5  I think downvotes are fundamentally broken. If upvotes are agree/approval and downvotes are disa...   \n",
              "\n",
              "            by  \n",
              "0       davidw  \n",
              "2   stcredzero  \n",
              "3    perl4ever  \n",
              "4     TeMPOraL  \n",
              "5  Someone1234  "
            ]
          },
          "metadata": {
            "tags": []
          },
          "execution_count": 141
        }
      ]
    },
    {
      "cell_type": "code",
      "metadata": {
        "id": "DKv_VuhXIUI7",
        "colab_type": "code",
        "colab": {}
      },
      "source": [
        "#Convert to string values\n",
        "df = df.astype(str)"
      ],
      "execution_count": 142,
      "outputs": []
    },
    {
      "cell_type": "code",
      "metadata": {
        "id": "oH7hVDV1IdRR",
        "colab_type": "code",
        "colab": {
          "base_uri": "https://localhost:8080/",
          "height": 34
        },
        "outputId": "13e0265a-c8ab-4f4f-ab6c-799cbaa10ef3"
      },
      "source": [
        "#No. of rows\n",
        "df.shape"
      ],
      "execution_count": 143,
      "outputs": [
        {
          "output_type": "execute_result",
          "data": {
            "text/plain": [
              "(44658, 2)"
            ]
          },
          "metadata": {
            "tags": []
          },
          "execution_count": 143
        }
      ]
    },
    {
      "cell_type": "code",
      "metadata": {
        "id": "4CVkADejMKSo",
        "colab_type": "code",
        "colab": {}
      },
      "source": [
        "#Slim out users with less than 1000 comments, more manageable, cuts data in half\n",
        "def slim(df):\n",
        "    \"\"\"\n",
        "    Slim out dataset to user with 1000 or more comments.\n",
        "\n",
        "    Returns a filtered dataframe.\n",
        "    \"\"\"\n",
        "\n",
        "    X = df.copy()\n",
        "    X = X.groupby('by').filter(lambda x: x['by'].count()<1000)\n",
        "\n",
        "    return X"
      ],
      "execution_count": 144,
      "outputs": []
    },
    {
      "cell_type": "code",
      "metadata": {
        "id": "YtN48hCQMPaQ",
        "colab_type": "code",
        "colab": {
          "base_uri": "https://localhost:8080/",
          "height": 265
        },
        "outputId": "b6fa3a6e-fdf4-4970-f5c7-ef4962eac1ae"
      },
      "source": [
        "new_df = slim(df)\n",
        "print(new_df.shape)\n",
        "new_df.head()"
      ],
      "execution_count": 145,
      "outputs": [
        {
          "output_type": "stream",
          "text": [
            "(44658, 2)\n"
          ],
          "name": "stdout"
        },
        {
          "output_type": "execute_result",
          "data": {
            "text/html": [
              "<div>\n",
              "<style scoped>\n",
              "    .dataframe tbody tr th:only-of-type {\n",
              "        vertical-align: middle;\n",
              "    }\n",
              "\n",
              "    .dataframe tbody tr th {\n",
              "        vertical-align: top;\n",
              "    }\n",
              "\n",
              "    .dataframe thead th {\n",
              "        text-align: right;\n",
              "    }\n",
              "</style>\n",
              "<table border=\"1\" class=\"dataframe\">\n",
              "  <thead>\n",
              "    <tr style=\"text-align: right;\">\n",
              "      <th></th>\n",
              "      <th>text</th>\n",
              "      <th>by</th>\n",
              "    </tr>\n",
              "  </thead>\n",
              "  <tbody>\n",
              "    <tr>\n",
              "      <th>0</th>\n",
              "      <td>Like I said, to be honest I do not know if it is in any way an  accurate  analogy, but it seems ...</td>\n",
              "      <td>davidw</td>\n",
              "    </tr>\n",
              "    <tr>\n",
              "      <th>2</th>\n",
              "      <td>Well, because heat dissipation is proportional to the square of the voltage, you end up giving u...</td>\n",
              "      <td>stcredzero</td>\n",
              "    </tr>\n",
              "    <tr>\n",
              "      <th>3</th>\n",
              "      <td>So?</td>\n",
              "      <td>perl4ever</td>\n",
              "    </tr>\n",
              "    <tr>\n",
              "      <th>4</th>\n",
              "      <td>Yes, because beating someone for doing or thinking something is a proven way of making them stop...</td>\n",
              "      <td>TeMPOraL</td>\n",
              "    </tr>\n",
              "    <tr>\n",
              "      <th>5</th>\n",
              "      <td>I think downvotes are fundamentally broken. If upvotes are agree/approval and downvotes are disa...</td>\n",
              "      <td>Someone1234</td>\n",
              "    </tr>\n",
              "  </tbody>\n",
              "</table>\n",
              "</div>"
            ],
            "text/plain": [
              "                                                                                                  text  \\\n",
              "0  Like I said, to be honest I do not know if it is in any way an  accurate  analogy, but it seems ...   \n",
              "2  Well, because heat dissipation is proportional to the square of the voltage, you end up giving u...   \n",
              "3                                                                                                  So?   \n",
              "4  Yes, because beating someone for doing or thinking something is a proven way of making them stop...   \n",
              "5  I think downvotes are fundamentally broken. If upvotes are agree/approval and downvotes are disa...   \n",
              "\n",
              "            by  \n",
              "0       davidw  \n",
              "2   stcredzero  \n",
              "3    perl4ever  \n",
              "4     TeMPOraL  \n",
              "5  Someone1234  "
            ]
          },
          "metadata": {
            "tags": []
          },
          "execution_count": 145
        }
      ]
    },
    {
      "cell_type": "code",
      "metadata": {
        "id": "0Dze_XXiIf63",
        "colab_type": "code",
        "colab": {
          "base_uri": "https://localhost:8080/",
          "height": 34
        },
        "outputId": "cbe4124d-9a64-4b47-99a2-f71560515464"
      },
      "source": [
        "#No. of usernames\n",
        "new_df['by'].value_counts().sum()"
      ],
      "execution_count": 146,
      "outputs": [
        {
          "output_type": "execute_result",
          "data": {
            "text/plain": [
              "44658"
            ]
          },
          "metadata": {
            "tags": []
          },
          "execution_count": 146
        }
      ]
    },
    {
      "cell_type": "code",
      "metadata": {
        "id": "DKugvnExI22N",
        "colab_type": "code",
        "colab": {
          "base_uri": "https://localhost:8080/",
          "height": 70
        },
        "outputId": "238fd1eb-edf0-49ee-c38d-9e7d1a3d4bf9"
      },
      "source": [
        "new_df.isnull().sum()"
      ],
      "execution_count": 147,
      "outputs": [
        {
          "output_type": "execute_result",
          "data": {
            "text/plain": [
              "text    0\n",
              "by      0\n",
              "dtype: int64"
            ]
          },
          "metadata": {
            "tags": []
          },
          "execution_count": 147
        }
      ]
    },
    {
      "cell_type": "code",
      "metadata": {
        "id": "DE5aQH67JFjd",
        "colab_type": "code",
        "colab": {}
      },
      "source": [
        "#Machine Learning, using VADER Sentiment Analysis\n",
        "\n",
        "def sentiment_score(comment):\n",
        "    analyser = SentimentIntensityAnalyzer()\n",
        "    \n",
        "    x = 0\n",
        "    score = analyser.polarity_scores(comment)\n",
        "    x = x + score['pos']\n",
        "    x = x + score['compound']\n",
        "    x = x - score['neg'] \n",
        "\n",
        "    return x"
      ],
      "execution_count": 148,
      "outputs": []
    },
    {
      "cell_type": "code",
      "metadata": {
        "id": "VM2mIw7OJR9S",
        "colab_type": "code",
        "colab": {}
      },
      "source": [
        "#Apply function to 'text' column, values added to new column called Saltiness\n",
        "new_df['Saltiness'] = new_df['text'].apply(sentiment_score)"
      ],
      "execution_count": 149,
      "outputs": []
    },
    {
      "cell_type": "code",
      "metadata": {
        "id": "s_JTtAtAOZYH",
        "colab_type": "code",
        "colab": {
          "base_uri": "https://localhost:8080/",
          "height": 264
        },
        "outputId": "e09e4273-b97d-4a54-e68a-b724abe71206"
      },
      "source": [
        "new_df.head()"
      ],
      "execution_count": 150,
      "outputs": [
        {
          "output_type": "execute_result",
          "data": {
            "text/html": [
              "<div>\n",
              "<style scoped>\n",
              "    .dataframe tbody tr th:only-of-type {\n",
              "        vertical-align: middle;\n",
              "    }\n",
              "\n",
              "    .dataframe tbody tr th {\n",
              "        vertical-align: top;\n",
              "    }\n",
              "\n",
              "    .dataframe thead th {\n",
              "        text-align: right;\n",
              "    }\n",
              "</style>\n",
              "<table border=\"1\" class=\"dataframe\">\n",
              "  <thead>\n",
              "    <tr style=\"text-align: right;\">\n",
              "      <th></th>\n",
              "      <th>text</th>\n",
              "      <th>by</th>\n",
              "      <th>Saltiness</th>\n",
              "    </tr>\n",
              "  </thead>\n",
              "  <tbody>\n",
              "    <tr>\n",
              "      <th>0</th>\n",
              "      <td>Like I said, to be honest I do not know if it is in any way an  accurate  analogy, but it seems ...</td>\n",
              "      <td>davidw</td>\n",
              "      <td>-0.6304</td>\n",
              "    </tr>\n",
              "    <tr>\n",
              "      <th>2</th>\n",
              "      <td>Well, because heat dissipation is proportional to the square of the voltage, you end up giving u...</td>\n",
              "      <td>stcredzero</td>\n",
              "      <td>1.0085</td>\n",
              "    </tr>\n",
              "    <tr>\n",
              "      <th>3</th>\n",
              "      <td>So?</td>\n",
              "      <td>perl4ever</td>\n",
              "      <td>0.0000</td>\n",
              "    </tr>\n",
              "    <tr>\n",
              "      <th>4</th>\n",
              "      <td>Yes, because beating someone for doing or thinking something is a proven way of making them stop...</td>\n",
              "      <td>TeMPOraL</td>\n",
              "      <td>-0.8053</td>\n",
              "    </tr>\n",
              "    <tr>\n",
              "      <th>5</th>\n",
              "      <td>I think downvotes are fundamentally broken. If upvotes are agree/approval and downvotes are disa...</td>\n",
              "      <td>Someone1234</td>\n",
              "      <td>0.2368</td>\n",
              "    </tr>\n",
              "  </tbody>\n",
              "</table>\n",
              "</div>"
            ],
            "text/plain": [
              "                                                                                                  text  \\\n",
              "0  Like I said, to be honest I do not know if it is in any way an  accurate  analogy, but it seems ...   \n",
              "2  Well, because heat dissipation is proportional to the square of the voltage, you end up giving u...   \n",
              "3                                                                                                  So?   \n",
              "4  Yes, because beating someone for doing or thinking something is a proven way of making them stop...   \n",
              "5  I think downvotes are fundamentally broken. If upvotes are agree/approval and downvotes are disa...   \n",
              "\n",
              "            by  Saltiness  \n",
              "0       davidw    -0.6304  \n",
              "2   stcredzero     1.0085  \n",
              "3    perl4ever     0.0000  \n",
              "4     TeMPOraL    -0.8053  \n",
              "5  Someone1234     0.2368  "
            ]
          },
          "metadata": {
            "tags": []
          },
          "execution_count": 150
        }
      ]
    },
    {
      "cell_type": "code",
      "metadata": {
        "id": "91EAUopaUt9g",
        "colab_type": "code",
        "colab": {}
      },
      "source": [
        "#Rename columns\n",
        "new_df.columns = ['Comment', 'Username', 'Saltiness']"
      ],
      "execution_count": 151,
      "outputs": []
    },
    {
      "cell_type": "code",
      "metadata": {
        "id": "b9BSLiB6U48k",
        "colab_type": "code",
        "colab": {}
      },
      "source": [
        "#Rearrange columns, sort by username\n",
        "order = ['Username', 'Comment', 'Saltiness']\n",
        "users_score = new_df[order]"
      ],
      "execution_count": 152,
      "outputs": []
    },
    {
      "cell_type": "code",
      "metadata": {
        "id": "NPtGgouoVRKp",
        "colab_type": "code",
        "colab": {}
      },
      "source": [
        "#Sort\n",
        "users_score.sort_values(by=['Username'], inplace=True)"
      ],
      "execution_count": 153,
      "outputs": []
    },
    {
      "cell_type": "code",
      "metadata": {
        "id": "WGyCUKFAn0ve",
        "colab_type": "code",
        "colab": {}
      },
      "source": [
        "#Created copy just in case df needed to be reset\n",
        "#import copy\n",
        "\n",
        "#reset_df = copy.copy(new_df)"
      ],
      "execution_count": 154,
      "outputs": []
    },
    {
      "cell_type": "code",
      "metadata": {
        "id": "sPpfjJIMogFG",
        "colab_type": "code",
        "colab": {}
      },
      "source": [
        "#reset_df.head()"
      ],
      "execution_count": 155,
      "outputs": []
    },
    {
      "cell_type": "code",
      "metadata": {
        "id": "Sk7J4ca5ubWr",
        "colab_type": "code",
        "colab": {}
      },
      "source": [
        "#users_score = copy.copy(reset_df)"
      ],
      "execution_count": 156,
      "outputs": []
    },
    {
      "cell_type": "code",
      "metadata": {
        "id": "aaBK7isoWjMK",
        "colab_type": "code",
        "colab": {
          "base_uri": "https://localhost:8080/",
          "height": 197
        },
        "outputId": "fc7e4f29-8bfc-4d69-c344-09566e8ad203"
      },
      "source": [
        "#Drop comment column, and groupby username\n",
        "users_score.drop(columns=['Comment'], inplace=True)\n",
        "users_score.head()"
      ],
      "execution_count": 157,
      "outputs": [
        {
          "output_type": "execute_result",
          "data": {
            "text/html": [
              "<div>\n",
              "<style scoped>\n",
              "    .dataframe tbody tr th:only-of-type {\n",
              "        vertical-align: middle;\n",
              "    }\n",
              "\n",
              "    .dataframe tbody tr th {\n",
              "        vertical-align: top;\n",
              "    }\n",
              "\n",
              "    .dataframe thead th {\n",
              "        text-align: right;\n",
              "    }\n",
              "</style>\n",
              "<table border=\"1\" class=\"dataframe\">\n",
              "  <thead>\n",
              "    <tr style=\"text-align: right;\">\n",
              "      <th></th>\n",
              "      <th>Username</th>\n",
              "      <th>Saltiness</th>\n",
              "    </tr>\n",
              "  </thead>\n",
              "  <tbody>\n",
              "    <tr>\n",
              "      <th>15981</th>\n",
              "      <td>001sky</td>\n",
              "      <td>-0.7535</td>\n",
              "    </tr>\n",
              "    <tr>\n",
              "      <th>39939</th>\n",
              "      <td>001sky</td>\n",
              "      <td>0.3831</td>\n",
              "    </tr>\n",
              "    <tr>\n",
              "      <th>331</th>\n",
              "      <td>001sky</td>\n",
              "      <td>-0.3710</td>\n",
              "    </tr>\n",
              "    <tr>\n",
              "      <th>9403</th>\n",
              "      <td>001sky</td>\n",
              "      <td>-0.1810</td>\n",
              "    </tr>\n",
              "    <tr>\n",
              "      <th>35763</th>\n",
              "      <td>001sky</td>\n",
              "      <td>0.9129</td>\n",
              "    </tr>\n",
              "  </tbody>\n",
              "</table>\n",
              "</div>"
            ],
            "text/plain": [
              "      Username  Saltiness\n",
              "15981   001sky    -0.7535\n",
              "39939   001sky     0.3831\n",
              "331     001sky    -0.3710\n",
              "9403    001sky    -0.1810\n",
              "35763   001sky     0.9129"
            ]
          },
          "metadata": {
            "tags": []
          },
          "execution_count": 157
        }
      ]
    },
    {
      "cell_type": "code",
      "metadata": {
        "id": "nqli1NB9_OjT",
        "colab_type": "code",
        "colab": {}
      },
      "source": [
        "users_score = users_score.groupby('Username', as_index=False)['Saltiness'].mean()"
      ],
      "execution_count": 158,
      "outputs": []
    },
    {
      "cell_type": "code",
      "metadata": {
        "id": "WF_Zv_W7-IuJ",
        "colab_type": "code",
        "colab": {
          "base_uri": "https://localhost:8080/",
          "height": 347
        },
        "outputId": "ecc3a033-9aa8-4b73-bf7a-db7ff9fc5b98"
      },
      "source": [
        "users_score.head(10)"
      ],
      "execution_count": 159,
      "outputs": [
        {
          "output_type": "execute_result",
          "data": {
            "text/html": [
              "<div>\n",
              "<style scoped>\n",
              "    .dataframe tbody tr th:only-of-type {\n",
              "        vertical-align: middle;\n",
              "    }\n",
              "\n",
              "    .dataframe tbody tr th {\n",
              "        vertical-align: top;\n",
              "    }\n",
              "\n",
              "    .dataframe thead th {\n",
              "        text-align: right;\n",
              "    }\n",
              "</style>\n",
              "<table border=\"1\" class=\"dataframe\">\n",
              "  <thead>\n",
              "    <tr style=\"text-align: right;\">\n",
              "      <th></th>\n",
              "      <th>Username</th>\n",
              "      <th>Saltiness</th>\n",
              "    </tr>\n",
              "  </thead>\n",
              "  <tbody>\n",
              "    <tr>\n",
              "      <th>0</th>\n",
              "      <td>001sky</td>\n",
              "      <td>0.059852</td>\n",
              "    </tr>\n",
              "    <tr>\n",
              "      <th>1</th>\n",
              "      <td>Alex3917</td>\n",
              "      <td>0.087417</td>\n",
              "    </tr>\n",
              "    <tr>\n",
              "      <th>2</th>\n",
              "      <td>AndrewKemendo</td>\n",
              "      <td>0.388931</td>\n",
              "    </tr>\n",
              "    <tr>\n",
              "      <th>3</th>\n",
              "      <td>AnimalMuppet</td>\n",
              "      <td>0.192187</td>\n",
              "    </tr>\n",
              "    <tr>\n",
              "      <th>4</th>\n",
              "      <td>Animats</td>\n",
              "      <td>0.071777</td>\n",
              "    </tr>\n",
              "    <tr>\n",
              "      <th>5</th>\n",
              "      <td>Anon84</td>\n",
              "      <td>0.380692</td>\n",
              "    </tr>\n",
              "    <tr>\n",
              "      <th>6</th>\n",
              "      <td>AnthonyMouse</td>\n",
              "      <td>0.027867</td>\n",
              "    </tr>\n",
              "    <tr>\n",
              "      <th>7</th>\n",
              "      <td>Apocryphon</td>\n",
              "      <td>0.332398</td>\n",
              "    </tr>\n",
              "    <tr>\n",
              "      <th>8</th>\n",
              "      <td>AstralStorm</td>\n",
              "      <td>0.140393</td>\n",
              "    </tr>\n",
              "    <tr>\n",
              "      <th>9</th>\n",
              "      <td>BurningFrog</td>\n",
              "      <td>0.106077</td>\n",
              "    </tr>\n",
              "  </tbody>\n",
              "</table>\n",
              "</div>"
            ],
            "text/plain": [
              "        Username  Saltiness\n",
              "0         001sky   0.059852\n",
              "1       Alex3917   0.087417\n",
              "2  AndrewKemendo   0.388931\n",
              "3   AnimalMuppet   0.192187\n",
              "4        Animats   0.071777\n",
              "5         Anon84   0.380692\n",
              "6   AnthonyMouse   0.027867\n",
              "7     Apocryphon   0.332398\n",
              "8    AstralStorm   0.140393\n",
              "9    BurningFrog   0.106077"
            ]
          },
          "metadata": {
            "tags": []
          },
          "execution_count": 159
        }
      ]
    },
    {
      "cell_type": "code",
      "metadata": {
        "id": "8Dy9O1UKAnE1",
        "colab_type": "code",
        "colab": {}
      },
      "source": [
        "#Copied df to test column multiplication\n",
        "#import copy\n",
        "#copy_df = copy.copy(users_score)\n",
        "#copy_df.head()"
      ],
      "execution_count": 160,
      "outputs": []
    },
    {
      "cell_type": "code",
      "metadata": {
        "id": "JhGdXeoG-chB",
        "colab_type": "code",
        "colab": {}
      },
      "source": [
        "##TODO: multiply by -1 so the higher the score=the more salty\n",
        "#copy_df['Saltiness'].mul(-1)"
      ],
      "execution_count": 161,
      "outputs": []
    },
    {
      "cell_type": "code",
      "metadata": {
        "id": "5fkn5UEMBGRt",
        "colab_type": "code",
        "colab": {}
      },
      "source": [
        "#Convert Saltiness column to percent\n",
        "#copy_df['Saltiness']=copy_df['Saltiness'].apply('{:.0%}'.format)\n",
        "#copy_df.head()"
      ],
      "execution_count": 162,
      "outputs": []
    },
    {
      "cell_type": "code",
      "metadata": {
        "id": "3mUdtc0_KENV",
        "colab_type": "code",
        "colab": {
          "base_uri": "https://localhost:8080/",
          "height": 230
        },
        "outputId": "2551fb1d-6ecb-4f71-e6ba-68386e04beee"
      },
      "source": [
        "#Multiply Saltiness by -1, the higher the score=the more salty\n",
        "users_score['Saltiness'].mul(-1)"
      ],
      "execution_count": 163,
      "outputs": [
        {
          "output_type": "execute_result",
          "data": {
            "text/plain": [
              "0     -0.059852\n",
              "1     -0.087417\n",
              "2     -0.388931\n",
              "3     -0.192187\n",
              "4     -0.071777\n",
              "         ...   \n",
              "492   -0.192763\n",
              "493   -0.063193\n",
              "494   -0.127670\n",
              "495   -0.076360\n",
              "496   -0.329136\n",
              "Name: Saltiness, Length: 497, dtype: float64"
            ]
          },
          "metadata": {
            "tags": []
          },
          "execution_count": 163
        }
      ]
    },
    {
      "cell_type": "code",
      "metadata": {
        "id": "ynco5Gjj-Daw",
        "colab_type": "code",
        "colab": {}
      },
      "source": [
        "#Convert Saltiness column to percent\n",
        "users_score['Saltiness']=users_score['Saltiness'].apply('{:.0%}'.format)"
      ],
      "execution_count": 164,
      "outputs": []
    },
    {
      "cell_type": "code",
      "metadata": {
        "id": "cLTPzJqI-hPe",
        "colab_type": "code",
        "colab": {
          "base_uri": "https://localhost:8080/",
          "height": 1000
        },
        "outputId": "0ded4472-054f-4372-9296-ef3360cf1d07"
      },
      "source": [
        "users_score.head(40)"
      ],
      "execution_count": 165,
      "outputs": [
        {
          "output_type": "execute_result",
          "data": {
            "text/html": [
              "<div>\n",
              "<style scoped>\n",
              "    .dataframe tbody tr th:only-of-type {\n",
              "        vertical-align: middle;\n",
              "    }\n",
              "\n",
              "    .dataframe tbody tr th {\n",
              "        vertical-align: top;\n",
              "    }\n",
              "\n",
              "    .dataframe thead th {\n",
              "        text-align: right;\n",
              "    }\n",
              "</style>\n",
              "<table border=\"1\" class=\"dataframe\">\n",
              "  <thead>\n",
              "    <tr style=\"text-align: right;\">\n",
              "      <th></th>\n",
              "      <th>Username</th>\n",
              "      <th>Saltiness</th>\n",
              "    </tr>\n",
              "  </thead>\n",
              "  <tbody>\n",
              "    <tr>\n",
              "      <th>0</th>\n",
              "      <td>001sky</td>\n",
              "      <td>6%</td>\n",
              "    </tr>\n",
              "    <tr>\n",
              "      <th>1</th>\n",
              "      <td>Alex3917</td>\n",
              "      <td>9%</td>\n",
              "    </tr>\n",
              "    <tr>\n",
              "      <th>2</th>\n",
              "      <td>AndrewKemendo</td>\n",
              "      <td>39%</td>\n",
              "    </tr>\n",
              "    <tr>\n",
              "      <th>3</th>\n",
              "      <td>AnimalMuppet</td>\n",
              "      <td>19%</td>\n",
              "    </tr>\n",
              "    <tr>\n",
              "      <th>4</th>\n",
              "      <td>Animats</td>\n",
              "      <td>7%</td>\n",
              "    </tr>\n",
              "    <tr>\n",
              "      <th>5</th>\n",
              "      <td>Anon84</td>\n",
              "      <td>38%</td>\n",
              "    </tr>\n",
              "    <tr>\n",
              "      <th>6</th>\n",
              "      <td>AnthonyMouse</td>\n",
              "      <td>3%</td>\n",
              "    </tr>\n",
              "    <tr>\n",
              "      <th>7</th>\n",
              "      <td>Apocryphon</td>\n",
              "      <td>33%</td>\n",
              "    </tr>\n",
              "    <tr>\n",
              "      <th>8</th>\n",
              "      <td>AstralStorm</td>\n",
              "      <td>14%</td>\n",
              "    </tr>\n",
              "    <tr>\n",
              "      <th>9</th>\n",
              "      <td>BurningFrog</td>\n",
              "      <td>11%</td>\n",
              "    </tr>\n",
              "    <tr>\n",
              "      <th>10</th>\n",
              "      <td>CamperBob2</td>\n",
              "      <td>10%</td>\n",
              "    </tr>\n",
              "    <tr>\n",
              "      <th>11</th>\n",
              "      <td>ChuckMcM</td>\n",
              "      <td>55%</td>\n",
              "    </tr>\n",
              "    <tr>\n",
              "      <th>12</th>\n",
              "      <td>ColinWright</td>\n",
              "      <td>24%</td>\n",
              "    </tr>\n",
              "    <tr>\n",
              "      <th>13</th>\n",
              "      <td>ComputerGuru</td>\n",
              "      <td>21%</td>\n",
              "    </tr>\n",
              "    <tr>\n",
              "      <th>14</th>\n",
              "      <td>Cthulhu_</td>\n",
              "      <td>22%</td>\n",
              "    </tr>\n",
              "    <tr>\n",
              "      <th>15</th>\n",
              "      <td>CydeWeys</td>\n",
              "      <td>20%</td>\n",
              "    </tr>\n",
              "    <tr>\n",
              "      <th>16</th>\n",
              "      <td>DanBC</td>\n",
              "      <td>-2%</td>\n",
              "    </tr>\n",
              "    <tr>\n",
              "      <th>17</th>\n",
              "      <td>DanielBMarkham</td>\n",
              "      <td>40%</td>\n",
              "    </tr>\n",
              "    <tr>\n",
              "      <th>18</th>\n",
              "      <td>DanielRibeiro</td>\n",
              "      <td>46%</td>\n",
              "    </tr>\n",
              "    <tr>\n",
              "      <th>19</th>\n",
              "      <td>DannyBee</td>\n",
              "      <td>20%</td>\n",
              "    </tr>\n",
              "    <tr>\n",
              "      <th>20</th>\n",
              "      <td>DenisM</td>\n",
              "      <td>12%</td>\n",
              "    </tr>\n",
              "    <tr>\n",
              "      <th>21</th>\n",
              "      <td>DennisP</td>\n",
              "      <td>15%</td>\n",
              "    </tr>\n",
              "    <tr>\n",
              "      <th>22</th>\n",
              "      <td>DiabloD3</td>\n",
              "      <td>9%</td>\n",
              "    </tr>\n",
              "    <tr>\n",
              "      <th>23</th>\n",
              "      <td>DonHopkins</td>\n",
              "      <td>18%</td>\n",
              "    </tr>\n",
              "    <tr>\n",
              "      <th>24</th>\n",
              "      <td>DoreenMichele</td>\n",
              "      <td>13%</td>\n",
              "    </tr>\n",
              "    <tr>\n",
              "      <th>25</th>\n",
              "      <td>DrScump</td>\n",
              "      <td>-4%</td>\n",
              "    </tr>\n",
              "    <tr>\n",
              "      <th>26</th>\n",
              "      <td>Dylan16807</td>\n",
              "      <td>5%</td>\n",
              "    </tr>\n",
              "    <tr>\n",
              "      <th>27</th>\n",
              "      <td>DyslexicAtheist</td>\n",
              "      <td>-1%</td>\n",
              "    </tr>\n",
              "    <tr>\n",
              "      <th>28</th>\n",
              "      <td>EGreg</td>\n",
              "      <td>32%</td>\n",
              "    </tr>\n",
              "    <tr>\n",
              "      <th>29</th>\n",
              "      <td>ErrantX</td>\n",
              "      <td>30%</td>\n",
              "    </tr>\n",
              "    <tr>\n",
              "      <th>30</th>\n",
              "      <td>Garbage</td>\n",
              "      <td>1%</td>\n",
              "    </tr>\n",
              "    <tr>\n",
              "      <th>31</th>\n",
              "      <td>Gibbon1</td>\n",
              "      <td>-0%</td>\n",
              "    </tr>\n",
              "    <tr>\n",
              "      <th>32</th>\n",
              "      <td>Groxx</td>\n",
              "      <td>28%</td>\n",
              "    </tr>\n",
              "    <tr>\n",
              "      <th>33</th>\n",
              "      <td>Houshalter</td>\n",
              "      <td>13%</td>\n",
              "    </tr>\n",
              "    <tr>\n",
              "      <th>34</th>\n",
              "      <td>IgorPartola</td>\n",
              "      <td>36%</td>\n",
              "    </tr>\n",
              "    <tr>\n",
              "      <th>35</th>\n",
              "      <td>InclinedPlane</td>\n",
              "      <td>20%</td>\n",
              "    </tr>\n",
              "    <tr>\n",
              "      <th>36</th>\n",
              "      <td>JoeAltmaier</td>\n",
              "      <td>12%</td>\n",
              "    </tr>\n",
              "    <tr>\n",
              "      <th>37</th>\n",
              "      <td>JoshTriplett</td>\n",
              "      <td>41%</td>\n",
              "    </tr>\n",
              "    <tr>\n",
              "      <th>38</th>\n",
              "      <td>JumpCrisscross</td>\n",
              "      <td>18%</td>\n",
              "    </tr>\n",
              "    <tr>\n",
              "      <th>39</th>\n",
              "      <td>JustSomeNobody</td>\n",
              "      <td>17%</td>\n",
              "    </tr>\n",
              "  </tbody>\n",
              "</table>\n",
              "</div>"
            ],
            "text/plain": [
              "           Username Saltiness\n",
              "0            001sky        6%\n",
              "1          Alex3917        9%\n",
              "2     AndrewKemendo       39%\n",
              "3      AnimalMuppet       19%\n",
              "4           Animats        7%\n",
              "5            Anon84       38%\n",
              "6      AnthonyMouse        3%\n",
              "7        Apocryphon       33%\n",
              "8       AstralStorm       14%\n",
              "9       BurningFrog       11%\n",
              "10       CamperBob2       10%\n",
              "11         ChuckMcM       55%\n",
              "12      ColinWright       24%\n",
              "13     ComputerGuru       21%\n",
              "14         Cthulhu_       22%\n",
              "15         CydeWeys       20%\n",
              "16            DanBC       -2%\n",
              "17   DanielBMarkham       40%\n",
              "18    DanielRibeiro       46%\n",
              "19         DannyBee       20%\n",
              "20           DenisM       12%\n",
              "21          DennisP       15%\n",
              "22         DiabloD3        9%\n",
              "23       DonHopkins       18%\n",
              "24    DoreenMichele       13%\n",
              "25          DrScump       -4%\n",
              "26       Dylan16807        5%\n",
              "27  DyslexicAtheist       -1%\n",
              "28            EGreg       32%\n",
              "29          ErrantX       30%\n",
              "30          Garbage        1%\n",
              "31          Gibbon1       -0%\n",
              "32            Groxx       28%\n",
              "33       Houshalter       13%\n",
              "34      IgorPartola       36%\n",
              "35    InclinedPlane       20%\n",
              "36      JoeAltmaier       12%\n",
              "37     JoshTriplett       41%\n",
              "38   JumpCrisscross       18%\n",
              "39   JustSomeNobody       17%"
            ]
          },
          "metadata": {
            "tags": []
          },
          "execution_count": 165
        }
      ]
    },
    {
      "cell_type": "code",
      "metadata": {
        "id": "hd0buevht-NP",
        "colab_type": "code",
        "colab": {}
      },
      "source": [
        ""
      ],
      "execution_count": 165,
      "outputs": []
    }
  ]
}