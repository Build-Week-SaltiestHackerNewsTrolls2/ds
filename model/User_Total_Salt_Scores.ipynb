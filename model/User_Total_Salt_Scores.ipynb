{
  "nbformat": 4,
  "nbformat_minor": 0,
  "metadata": {
    "colab": {
      "name": "User_Total_Salt_Scores",
      "provenance": [],
      "collapsed_sections": []
    },
    "kernelspec": {
      "name": "python3",
      "display_name": "Python 3"
    }
  },
  "cells": [
    {
      "cell_type": "markdown",
      "metadata": {
        "id": "ubM5HX9pHOLT",
        "colab_type": "text"
      },
      "source": [
        "#Becca\n",
        "##---------------------------"
      ]
    },
    {
      "cell_type": "code",
      "metadata": {
        "id": "HIBkD7W7EXuO",
        "colab_type": "code",
        "colab": {}
      },
      "source": [
        "import sys, os\n",
        "cwd = os.getcwd()\n",
        "sys.path[0] = cwd[:cwd.rfind('/')]"
      ],
      "execution_count": 1,
      "outputs": []
    },
    {
      "cell_type": "code",
      "metadata": {
        "id": "Mkr1QHIaEmjC",
        "colab_type": "code",
        "colab": {}
      },
      "source": [
        "import numpy as np\n",
        "import pandas as pd\n",
        "from google.cloud import bigquery"
      ],
      "execution_count": 2,
      "outputs": []
    },
    {
      "cell_type": "code",
      "metadata": {
        "id": "_KjeyJokPzHe",
        "colab_type": "code",
        "colab": {}
      },
      "source": [
        "#Google cloud credentials\n",
        "os.environ['GOOGLE_APPLICATION_CREDENTIALS']='/content/Saltiest HN Trolls.json'\n",
        "\n",
        "# Create a \"Client\" object\n",
        "client = bigquery.Client()\n",
        "\n",
        "# Bigquery dataset reference\n",
        "hn_ref = client.dataset('hacker_news', project='hn-dataset')"
      ],
      "execution_count": 3,
      "outputs": []
    },
    {
      "cell_type": "code",
      "metadata": {
        "id": "rgGN_H4heHfl",
        "colab_type": "code",
        "colab": {}
      },
      "source": [
        "# Run SQL query to obtain filtered table\n",
        "query_string = \"\"\"\n",
        "SELECT C.by\n",
        "FROM (\n",
        "  SELECT A.by, COUNT(*) AS count\n",
        "  FROM `bigquery-public-data.hacker_news.full` AS A\n",
        "  GROUP BY A.by\n",
        "  ORDER BY count DESC\n",
        "  LIMIT 100\n",
        ") AS C\n",
        "WHERE C.by != \"None\"\n",
        "\"\"\"\n",
        "\n",
        "frequent_users = client.query(query_string).result().to_dataframe()"
      ],
      "execution_count": 4,
      "outputs": []
    },
    {
      "cell_type": "code",
      "metadata": {
        "id": "RymGkInflY8B",
        "colab_type": "code",
        "colab": {}
      },
      "source": [
        "# This is a triple-nested query that gets a number of comments made only by the most\n",
        "# frequent users.  Change the \"LIMIT XXX\" part of the inner-most query to tune the\n",
        "# number of users.  Change the outermost \"LIMIT YYY\" to change the total number of comments.\n",
        "query_string = \"\"\"\n",
        "SELECT *\n",
        "FROM `bigquery-public-data.hacker_news.full` AS A\n",
        "WHERE A.by IN (\n",
        "  SELECT C.by\n",
        "  FROM (\n",
        "    SELECT A.by, COUNT(*) AS count\n",
        "    FROM `bigquery-public-data.hacker_news.full` AS A\n",
        "    GROUP BY A.by\n",
        "    ORDER BY count DESC\n",
        "    LIMIT 500\n",
        "  ) AS C\n",
        "  WHERE C.by != \"None\"\n",
        ")\n",
        "LIMIT 50000\n",
        "\"\"\"\n",
        "\n",
        "df = client.query(query_string).result().to_dataframe()"
      ],
      "execution_count": 5,
      "outputs": []
    },
    {
      "cell_type": "code",
      "metadata": {
        "id": "QYJahnTKmSQk",
        "colab_type": "code",
        "colab": {
          "base_uri": "https://localhost:8080/",
          "height": 484
        },
        "outputId": "c9a21b19-8193-4a08-deec-1831c8f792da"
      },
      "source": [
        "df.head()"
      ],
      "execution_count": 6,
      "outputs": [
        {
          "output_type": "execute_result",
          "data": {
            "text/html": [
              "<div>\n",
              "<style scoped>\n",
              "    .dataframe tbody tr th:only-of-type {\n",
              "        vertical-align: middle;\n",
              "    }\n",
              "\n",
              "    .dataframe tbody tr th {\n",
              "        vertical-align: top;\n",
              "    }\n",
              "\n",
              "    .dataframe thead th {\n",
              "        text-align: right;\n",
              "    }\n",
              "</style>\n",
              "<table border=\"1\" class=\"dataframe\">\n",
              "  <thead>\n",
              "    <tr style=\"text-align: right;\">\n",
              "      <th></th>\n",
              "      <th>title</th>\n",
              "      <th>url</th>\n",
              "      <th>text</th>\n",
              "      <th>dead</th>\n",
              "      <th>by</th>\n",
              "      <th>score</th>\n",
              "      <th>time</th>\n",
              "      <th>timestamp</th>\n",
              "      <th>type</th>\n",
              "      <th>id</th>\n",
              "      <th>parent</th>\n",
              "      <th>descendants</th>\n",
              "      <th>ranking</th>\n",
              "      <th>deleted</th>\n",
              "    </tr>\n",
              "  </thead>\n",
              "  <tbody>\n",
              "    <tr>\n",
              "      <th>0</th>\n",
              "      <td>None</td>\n",
              "      <td>None</td>\n",
              "      <td>Cannabis has never been &amp;#x27;completely legal...</td>\n",
              "      <td>None</td>\n",
              "      <td>roel_v</td>\n",
              "      <td>NaN</td>\n",
              "      <td>1551582184</td>\n",
              "      <td>2019-03-03 03:03:04+00:00</td>\n",
              "      <td>comment</td>\n",
              "      <td>19292438</td>\n",
              "      <td>19292418.0</td>\n",
              "      <td>NaN</td>\n",
              "      <td>None</td>\n",
              "      <td>None</td>\n",
              "    </tr>\n",
              "    <tr>\n",
              "      <th>1</th>\n",
              "      <td>Starlight - History Channel</td>\n",
              "      <td>https://www.youtube.com/watch?v=U5F_ptPX7_8</td>\n",
              "      <td>None</td>\n",
              "      <td>None</td>\n",
              "      <td>bane</td>\n",
              "      <td>1.0</td>\n",
              "      <td>1379672467</td>\n",
              "      <td>2013-09-20 10:21:07+00:00</td>\n",
              "      <td>story</td>\n",
              "      <td>6416876</td>\n",
              "      <td>NaN</td>\n",
              "      <td>0.0</td>\n",
              "      <td>None</td>\n",
              "      <td>None</td>\n",
              "    </tr>\n",
              "    <tr>\n",
              "      <th>2</th>\n",
              "      <td>Nepal bans solo, disabled and underaged climbe...</td>\n",
              "      <td>https://www.upi.com/Top_News/World-News/2017/1...</td>\n",
              "      <td>None</td>\n",
              "      <td>None</td>\n",
              "      <td>DoreenMichele</td>\n",
              "      <td>9.0</td>\n",
              "      <td>1514657287</td>\n",
              "      <td>2017-12-30 18:08:07+00:00</td>\n",
              "      <td>story</td>\n",
              "      <td>16036448</td>\n",
              "      <td>NaN</td>\n",
              "      <td>1.0</td>\n",
              "      <td>None</td>\n",
              "      <td>None</td>\n",
              "    </tr>\n",
              "    <tr>\n",
              "      <th>3</th>\n",
              "      <td>None</td>\n",
              "      <td>None</td>\n",
              "      <td>There are very few career mistakes that hurt y...</td>\n",
              "      <td>None</td>\n",
              "      <td>nostrademons</td>\n",
              "      <td>NaN</td>\n",
              "      <td>1306613116</td>\n",
              "      <td>2011-05-28 20:05:16+00:00</td>\n",
              "      <td>comment</td>\n",
              "      <td>2595097</td>\n",
              "      <td>2595030.0</td>\n",
              "      <td>NaN</td>\n",
              "      <td>None</td>\n",
              "      <td>None</td>\n",
              "    </tr>\n",
              "    <tr>\n",
              "      <th>4</th>\n",
              "      <td>None</td>\n",
              "      <td>None</td>\n",
              "      <td>I dunno, man. What do you enjoy?&lt;p&gt;Pick a proj...</td>\n",
              "      <td>None</td>\n",
              "      <td>bitwize</td>\n",
              "      <td>NaN</td>\n",
              "      <td>1548884795</td>\n",
              "      <td>2019-01-30 21:46:35+00:00</td>\n",
              "      <td>comment</td>\n",
              "      <td>19039896</td>\n",
              "      <td>19039016.0</td>\n",
              "      <td>NaN</td>\n",
              "      <td>None</td>\n",
              "      <td>None</td>\n",
              "    </tr>\n",
              "  </tbody>\n",
              "</table>\n",
              "</div>"
            ],
            "text/plain": [
              "                                               title  ... deleted\n",
              "0                                               None  ...    None\n",
              "1                        Starlight - History Channel  ...    None\n",
              "2  Nepal bans solo, disabled and underaged climbe...  ...    None\n",
              "3                                               None  ...    None\n",
              "4                                               None  ...    None\n",
              "\n",
              "[5 rows x 14 columns]"
            ]
          },
          "metadata": {
            "tags": []
          },
          "execution_count": 6
        }
      ]
    },
    {
      "cell_type": "code",
      "metadata": {
        "id": "Q9sqJUoVm-uA",
        "colab_type": "code",
        "colab": {
          "base_uri": "https://localhost:8080/",
          "height": 34
        },
        "outputId": "a8718581-978d-44e3-93a8-2b54389531cb"
      },
      "source": [
        "df.shape"
      ],
      "execution_count": 7,
      "outputs": [
        {
          "output_type": "execute_result",
          "data": {
            "text/plain": [
              "(50000, 14)"
            ]
          },
          "metadata": {
            "tags": []
          },
          "execution_count": 7
        }
      ]
    },
    {
      "cell_type": "code",
      "metadata": {
        "id": "POiQRD6MrRpe",
        "colab_type": "code",
        "colab": {
          "base_uri": "https://localhost:8080/",
          "height": 230
        },
        "outputId": "33d497bb-3300-40ab-c0d9-89809bfc9367"
      },
      "source": [
        "df['by'].value_counts()"
      ],
      "execution_count": 8,
      "outputs": [
        {
          "output_type": "execute_result",
          "data": {
            "text/plain": [
              "tptacek         767\n",
              "dang            555\n",
              "jacquesm        536\n",
              "rbanffy         462\n",
              "dragonwriter    440\n",
              "               ... \n",
              "sillysaurus3     47\n",
              "iProject         46\n",
              "mehrdadn         45\n",
              "crdoconnor       45\n",
              "BurningFrog      39\n",
              "Name: by, Length: 499, dtype: int64"
            ]
          },
          "metadata": {
            "tags": []
          },
          "execution_count": 8
        }
      ]
    },
    {
      "cell_type": "code",
      "metadata": {
        "id": "mRzw6-VEulmw",
        "colab_type": "code",
        "colab": {
          "base_uri": "https://localhost:8080/",
          "height": 105
        },
        "outputId": "ca74693c-3019-4ee9-c415-5953240123c9"
      },
      "source": [
        "df['type'].value_counts()"
      ],
      "execution_count": 9,
      "outputs": [
        {
          "output_type": "execute_result",
          "data": {
            "text/plain": [
              "comment    44771\n",
              "story       5198\n",
              "pollopt       25\n",
              "poll           6\n",
              "Name: type, dtype: int64"
            ]
          },
          "metadata": {
            "tags": []
          },
          "execution_count": 9
        }
      ]
    },
    {
      "cell_type": "code",
      "metadata": {
        "id": "BWfXAsGduaAN",
        "colab_type": "code",
        "colab": {
          "base_uri": "https://localhost:8080/",
          "height": 876
        },
        "outputId": "b8f24758-c8e5-45cc-edc9-2744b8c2434d"
      },
      "source": [
        "# filter out by type (keep story and comment)\n",
        "df[(df['type'] == 'story') | (df['type'] == 'comment')]"
      ],
      "execution_count": 10,
      "outputs": [
        {
          "output_type": "execute_result",
          "data": {
            "text/html": [
              "<div>\n",
              "<style scoped>\n",
              "    .dataframe tbody tr th:only-of-type {\n",
              "        vertical-align: middle;\n",
              "    }\n",
              "\n",
              "    .dataframe tbody tr th {\n",
              "        vertical-align: top;\n",
              "    }\n",
              "\n",
              "    .dataframe thead th {\n",
              "        text-align: right;\n",
              "    }\n",
              "</style>\n",
              "<table border=\"1\" class=\"dataframe\">\n",
              "  <thead>\n",
              "    <tr style=\"text-align: right;\">\n",
              "      <th></th>\n",
              "      <th>title</th>\n",
              "      <th>url</th>\n",
              "      <th>text</th>\n",
              "      <th>dead</th>\n",
              "      <th>by</th>\n",
              "      <th>score</th>\n",
              "      <th>time</th>\n",
              "      <th>timestamp</th>\n",
              "      <th>type</th>\n",
              "      <th>id</th>\n",
              "      <th>parent</th>\n",
              "      <th>descendants</th>\n",
              "      <th>ranking</th>\n",
              "      <th>deleted</th>\n",
              "    </tr>\n",
              "  </thead>\n",
              "  <tbody>\n",
              "    <tr>\n",
              "      <th>0</th>\n",
              "      <td>None</td>\n",
              "      <td>None</td>\n",
              "      <td>Cannabis has never been &amp;#x27;completely legal...</td>\n",
              "      <td>None</td>\n",
              "      <td>roel_v</td>\n",
              "      <td>NaN</td>\n",
              "      <td>1551582184</td>\n",
              "      <td>2019-03-03 03:03:04+00:00</td>\n",
              "      <td>comment</td>\n",
              "      <td>19292438</td>\n",
              "      <td>19292418.0</td>\n",
              "      <td>NaN</td>\n",
              "      <td>None</td>\n",
              "      <td>None</td>\n",
              "    </tr>\n",
              "    <tr>\n",
              "      <th>1</th>\n",
              "      <td>Starlight - History Channel</td>\n",
              "      <td>https://www.youtube.com/watch?v=U5F_ptPX7_8</td>\n",
              "      <td>None</td>\n",
              "      <td>None</td>\n",
              "      <td>bane</td>\n",
              "      <td>1.0</td>\n",
              "      <td>1379672467</td>\n",
              "      <td>2013-09-20 10:21:07+00:00</td>\n",
              "      <td>story</td>\n",
              "      <td>6416876</td>\n",
              "      <td>NaN</td>\n",
              "      <td>0.0</td>\n",
              "      <td>None</td>\n",
              "      <td>None</td>\n",
              "    </tr>\n",
              "    <tr>\n",
              "      <th>2</th>\n",
              "      <td>Nepal bans solo, disabled and underaged climbe...</td>\n",
              "      <td>https://www.upi.com/Top_News/World-News/2017/1...</td>\n",
              "      <td>None</td>\n",
              "      <td>None</td>\n",
              "      <td>DoreenMichele</td>\n",
              "      <td>9.0</td>\n",
              "      <td>1514657287</td>\n",
              "      <td>2017-12-30 18:08:07+00:00</td>\n",
              "      <td>story</td>\n",
              "      <td>16036448</td>\n",
              "      <td>NaN</td>\n",
              "      <td>1.0</td>\n",
              "      <td>None</td>\n",
              "      <td>None</td>\n",
              "    </tr>\n",
              "    <tr>\n",
              "      <th>3</th>\n",
              "      <td>None</td>\n",
              "      <td>None</td>\n",
              "      <td>There are very few career mistakes that hurt y...</td>\n",
              "      <td>None</td>\n",
              "      <td>nostrademons</td>\n",
              "      <td>NaN</td>\n",
              "      <td>1306613116</td>\n",
              "      <td>2011-05-28 20:05:16+00:00</td>\n",
              "      <td>comment</td>\n",
              "      <td>2595097</td>\n",
              "      <td>2595030.0</td>\n",
              "      <td>NaN</td>\n",
              "      <td>None</td>\n",
              "      <td>None</td>\n",
              "    </tr>\n",
              "    <tr>\n",
              "      <th>4</th>\n",
              "      <td>None</td>\n",
              "      <td>None</td>\n",
              "      <td>I dunno, man. What do you enjoy?&lt;p&gt;Pick a proj...</td>\n",
              "      <td>None</td>\n",
              "      <td>bitwize</td>\n",
              "      <td>NaN</td>\n",
              "      <td>1548884795</td>\n",
              "      <td>2019-01-30 21:46:35+00:00</td>\n",
              "      <td>comment</td>\n",
              "      <td>19039896</td>\n",
              "      <td>19039016.0</td>\n",
              "      <td>NaN</td>\n",
              "      <td>None</td>\n",
              "      <td>None</td>\n",
              "    </tr>\n",
              "    <tr>\n",
              "      <th>...</th>\n",
              "      <td>...</td>\n",
              "      <td>...</td>\n",
              "      <td>...</td>\n",
              "      <td>...</td>\n",
              "      <td>...</td>\n",
              "      <td>...</td>\n",
              "      <td>...</td>\n",
              "      <td>...</td>\n",
              "      <td>...</td>\n",
              "      <td>...</td>\n",
              "      <td>...</td>\n",
              "      <td>...</td>\n",
              "      <td>...</td>\n",
              "      <td>...</td>\n",
              "    </tr>\n",
              "    <tr>\n",
              "      <th>49995</th>\n",
              "      <td>None</td>\n",
              "      <td>None</td>\n",
              "      <td>In a recent job I ended up rewriting some of t...</td>\n",
              "      <td>None</td>\n",
              "      <td>grandalf</td>\n",
              "      <td>NaN</td>\n",
              "      <td>1434989168</td>\n",
              "      <td>2015-06-22 16:06:08+00:00</td>\n",
              "      <td>comment</td>\n",
              "      <td>9759256</td>\n",
              "      <td>9757892.0</td>\n",
              "      <td>NaN</td>\n",
              "      <td>None</td>\n",
              "      <td>None</td>\n",
              "    </tr>\n",
              "    <tr>\n",
              "      <th>49996</th>\n",
              "      <td>None</td>\n",
              "      <td>None</td>\n",
              "      <td>I would argue that the American right and Brit...</td>\n",
              "      <td>None</td>\n",
              "      <td>humanrebar</td>\n",
              "      <td>NaN</td>\n",
              "      <td>1360328326</td>\n",
              "      <td>2013-02-08 12:58:46+00:00</td>\n",
              "      <td>comment</td>\n",
              "      <td>5187597</td>\n",
              "      <td>5187474.0</td>\n",
              "      <td>NaN</td>\n",
              "      <td>None</td>\n",
              "      <td>None</td>\n",
              "    </tr>\n",
              "    <tr>\n",
              "      <th>49997</th>\n",
              "      <td>None</td>\n",
              "      <td>None</td>\n",
              "      <td>Back in the late 1990s, my team's SourceSafe r...</td>\n",
              "      <td>None</td>\n",
              "      <td>cpeterso</td>\n",
              "      <td>NaN</td>\n",
              "      <td>1324150520</td>\n",
              "      <td>2011-12-17 19:35:20+00:00</td>\n",
              "      <td>comment</td>\n",
              "      <td>3364921</td>\n",
              "      <td>3364603.0</td>\n",
              "      <td>NaN</td>\n",
              "      <td>None</td>\n",
              "      <td>None</td>\n",
              "    </tr>\n",
              "    <tr>\n",
              "      <th>49998</th>\n",
              "      <td>None</td>\n",
              "      <td>None</td>\n",
              "      <td>We all see how well &amp;quot;feeling safe is the ...</td>\n",
              "      <td>None</td>\n",
              "      <td>mschuster91</td>\n",
              "      <td>NaN</td>\n",
              "      <td>1444137331</td>\n",
              "      <td>2015-10-06 13:15:31+00:00</td>\n",
              "      <td>comment</td>\n",
              "      <td>10338606</td>\n",
              "      <td>10338572.0</td>\n",
              "      <td>NaN</td>\n",
              "      <td>None</td>\n",
              "      <td>None</td>\n",
              "    </tr>\n",
              "    <tr>\n",
              "      <th>49999</th>\n",
              "      <td>None</td>\n",
              "      <td>None</td>\n",
              "      <td>&amp;gt; These things only work if everyone is usi...</td>\n",
              "      <td>None</td>\n",
              "      <td>Someone1234</td>\n",
              "      <td>NaN</td>\n",
              "      <td>1524510997</td>\n",
              "      <td>2018-04-23 19:16:37+00:00</td>\n",
              "      <td>comment</td>\n",
              "      <td>16906501</td>\n",
              "      <td>16905513.0</td>\n",
              "      <td>NaN</td>\n",
              "      <td>None</td>\n",
              "      <td>None</td>\n",
              "    </tr>\n",
              "  </tbody>\n",
              "</table>\n",
              "<p>49969 rows × 14 columns</p>\n",
              "</div>"
            ],
            "text/plain": [
              "                                                   title  ... deleted\n",
              "0                                                   None  ...    None\n",
              "1                            Starlight - History Channel  ...    None\n",
              "2      Nepal bans solo, disabled and underaged climbe...  ...    None\n",
              "3                                                   None  ...    None\n",
              "4                                                   None  ...    None\n",
              "...                                                  ...  ...     ...\n",
              "49995                                               None  ...    None\n",
              "49996                                               None  ...    None\n",
              "49997                                               None  ...    None\n",
              "49998                                               None  ...    None\n",
              "49999                                               None  ...    None\n",
              "\n",
              "[49969 rows x 14 columns]"
            ]
          },
          "metadata": {
            "tags": []
          },
          "execution_count": 10
        }
      ]
    },
    {
      "cell_type": "code",
      "metadata": {
        "id": "XGPNpnSIvJKG",
        "colab_type": "code",
        "colab": {}
      },
      "source": [
        "# drop some columns\n",
        "#drop title, has 447,218 null values \n",
        "#drop ranking, has 500000 null values\n",
        "#drop score, has 446968 null values \n",
        "clean_df = df.drop(['time', 'descendants', 'deleted', 'url', 'dead', 'title', 'ranking', 'score'], axis=1)"
      ],
      "execution_count": 11,
      "outputs": []
    },
    {
      "cell_type": "code",
      "metadata": {
        "id": "RV-zl3K5o3ju",
        "colab_type": "code",
        "colab": {
          "base_uri": "https://localhost:8080/",
          "height": 34
        },
        "outputId": "ec1d0da9-3fce-40e2-8e2e-15190b0cad91"
      },
      "source": [
        "# average of all texts\n",
        "clean_df['text'].str.len().mean()"
      ],
      "execution_count": 12,
      "outputs": [
        {
          "output_type": "execute_result",
          "data": {
            "text/plain": [
              "426.90236508325717"
            ]
          },
          "metadata": {
            "tags": []
          },
          "execution_count": 12
        }
      ]
    },
    {
      "cell_type": "code",
      "metadata": {
        "id": "k7fXCCbqtf5V",
        "colab_type": "code",
        "colab": {
          "base_uri": "https://localhost:8080/",
          "height": 282
        },
        "outputId": "e7ae28be-5a65-4a4f-ade0-c2131386668a"
      },
      "source": [
        "# histogram of all text lengths\n",
        "clean_df['text'].str.len().hist()"
      ],
      "execution_count": 13,
      "outputs": [
        {
          "output_type": "execute_result",
          "data": {
            "text/plain": [
              "<matplotlib.axes._subplots.AxesSubplot at 0x7f2777c14c18>"
            ]
          },
          "metadata": {
            "tags": []
          },
          "execution_count": 13
        },
        {
          "output_type": "display_data",
          "data": {
            "image/png": "[encoded data removed]",
            "text/plain": [
              "<Figure size 432x288 with 1 Axes>"
            ]
          },
          "metadata": {
            "tags": [],
            "needs_background": "light"
          }
        }
      ]
    },
    {
      "cell_type": "code",
      "metadata": {
        "id": "RzCxks9TtqOa",
        "colab_type": "code",
        "colab": {
          "base_uri": "https://localhost:8080/",
          "height": 176
        },
        "outputId": "578bb3ea-4b5e-45a7-cba8-b48b1427f904"
      },
      "source": [
        "# description of story texts\n",
        "clean_df[clean_df['type'] == 'story']['text'].str.len().describe()"
      ],
      "execution_count": 14,
      "outputs": [
        {
          "output_type": "execute_result",
          "data": {
            "text/plain": [
              "count      59.000000\n",
              "mean      559.508475\n",
              "std       648.102572\n",
              "min        65.000000\n",
              "25%       243.000000\n",
              "50%       396.000000\n",
              "75%       660.500000\n",
              "max      4661.000000\n",
              "Name: text, dtype: float64"
            ]
          },
          "metadata": {
            "tags": []
          },
          "execution_count": 14
        }
      ]
    },
    {
      "cell_type": "code",
      "metadata": {
        "id": "VCRszthJum6N",
        "colab_type": "code",
        "colab": {
          "base_uri": "https://localhost:8080/",
          "height": 176
        },
        "outputId": "70410f42-735e-47fd-b1b6-cbc704d5de23"
      },
      "source": [
        "# description of comment texts\n",
        "clean_df[clean_df['type'] == 'comment']['text'].str.len().describe()"
      ],
      "execution_count": 15,
      "outputs": [
        {
          "output_type": "execute_result",
          "data": {
            "text/plain": [
              "count    44771.000000\n",
              "mean       426.969199\n",
              "std        508.118165\n",
              "min          1.000000\n",
              "25%        144.000000\n",
              "50%        278.000000\n",
              "75%        522.000000\n",
              "max      17564.000000\n",
              "Name: text, dtype: float64"
            ]
          },
          "metadata": {
            "tags": []
          },
          "execution_count": 15
        }
      ]
    },
    {
      "cell_type": "code",
      "metadata": {
        "id": "DBiB3OLmvMZ1",
        "colab_type": "code",
        "colab": {
          "base_uri": "https://localhost:8080/",
          "height": 347
        },
        "outputId": "d2c63659-6d17-442f-cf40-67c573178ba4"
      },
      "source": [
        "aux = clean_df[clean_df['type'] == 'comment']\n",
        "aux2 = aux[aux['text'].str.len() <= 5]\n",
        "aux2.head(10)"
      ],
      "execution_count": 16,
      "outputs": [
        {
          "output_type": "execute_result",
          "data": {
            "text/html": [
              "<div>\n",
              "<style scoped>\n",
              "    .dataframe tbody tr th:only-of-type {\n",
              "        vertical-align: middle;\n",
              "    }\n",
              "\n",
              "    .dataframe tbody tr th {\n",
              "        vertical-align: top;\n",
              "    }\n",
              "\n",
              "    .dataframe thead th {\n",
              "        text-align: right;\n",
              "    }\n",
              "</style>\n",
              "<table border=\"1\" class=\"dataframe\">\n",
              "  <thead>\n",
              "    <tr style=\"text-align: right;\">\n",
              "      <th></th>\n",
              "      <th>text</th>\n",
              "      <th>by</th>\n",
              "      <th>timestamp</th>\n",
              "      <th>type</th>\n",
              "      <th>id</th>\n",
              "      <th>parent</th>\n",
              "    </tr>\n",
              "  </thead>\n",
              "  <tbody>\n",
              "    <tr>\n",
              "      <th>2922</th>\n",
              "      <td>OK!</td>\n",
              "      <td>sctb</td>\n",
              "      <td>2018-08-16 21:54:26+00:00</td>\n",
              "      <td>comment</td>\n",
              "      <td>17778732</td>\n",
              "      <td>17778440.0</td>\n",
              "    </tr>\n",
              "    <tr>\n",
              "      <th>7546</th>\n",
              "      <td>Ok.</td>\n",
              "      <td>dang</td>\n",
              "      <td>2014-08-11 19:46:56+00:00</td>\n",
              "      <td>comment</td>\n",
              "      <td>8164864</td>\n",
              "      <td>8163726.0</td>\n",
              "    </tr>\n",
              "    <tr>\n",
              "      <th>7595</th>\n",
              "      <td>No.</td>\n",
              "      <td>SwellJoe</td>\n",
              "      <td>2008-09-01 06:11:58+00:00</td>\n",
              "      <td>comment</td>\n",
              "      <td>291752</td>\n",
              "      <td>291632.0</td>\n",
              "    </tr>\n",
              "    <tr>\n",
              "      <th>8690</th>\n",
              "      <td>yes.</td>\n",
              "      <td>signa11</td>\n",
              "      <td>2008-07-09 07:32:25+00:00</td>\n",
              "      <td>comment</td>\n",
              "      <td>240892</td>\n",
              "      <td>240787.0</td>\n",
              "    </tr>\n",
              "    <tr>\n",
              "      <th>10013</th>\n",
              "      <td>Yes.</td>\n",
              "      <td>Dylan16807</td>\n",
              "      <td>2015-11-17 16:00:10+00:00</td>\n",
              "      <td>comment</td>\n",
              "      <td>10581887</td>\n",
              "      <td>10580600.0</td>\n",
              "    </tr>\n",
              "    <tr>\n",
              "      <th>10887</th>\n",
              "      <td>Wow</td>\n",
              "      <td>tonyedgecombe</td>\n",
              "      <td>2015-07-23 12:21:34+00:00</td>\n",
              "      <td>comment</td>\n",
              "      <td>9935210</td>\n",
              "      <td>9935054.0</td>\n",
              "    </tr>\n",
              "    <tr>\n",
              "      <th>10997</th>\n",
              "      <td>.</td>\n",
              "      <td>jacobolus</td>\n",
              "      <td>2019-09-01 03:52:08+00:00</td>\n",
              "      <td>comment</td>\n",
              "      <td>20850404</td>\n",
              "      <td>20850397.0</td>\n",
              "    </tr>\n",
              "    <tr>\n",
              "      <th>11025</th>\n",
              "      <td>Yes.</td>\n",
              "      <td>toomuchtodo</td>\n",
              "      <td>2013-03-27 18:29:33+00:00</td>\n",
              "      <td>comment</td>\n",
              "      <td>5451141</td>\n",
              "      <td>5450475.0</td>\n",
              "    </tr>\n",
              "    <tr>\n",
              "      <th>11272</th>\n",
              "      <td>Aye.</td>\n",
              "      <td>jerf</td>\n",
              "      <td>2012-05-08 10:29:33+00:00</td>\n",
              "      <td>comment</td>\n",
              "      <td>3943008</td>\n",
              "      <td>3942913.0</td>\n",
              "    </tr>\n",
              "    <tr>\n",
              "      <th>12154</th>\n",
              "      <td>Done.</td>\n",
              "      <td>sctb</td>\n",
              "      <td>2017-02-13 18:45:40+00:00</td>\n",
              "      <td>comment</td>\n",
              "      <td>13637661</td>\n",
              "      <td>13637556.0</td>\n",
              "    </tr>\n",
              "  </tbody>\n",
              "</table>\n",
              "</div>"
            ],
            "text/plain": [
              "        text             by  ...        id      parent\n",
              "2922     OK!           sctb  ...  17778732  17778440.0\n",
              "7546     Ok.           dang  ...   8164864   8163726.0\n",
              "7595     No.       SwellJoe  ...    291752    291632.0\n",
              "8690    yes.        signa11  ...    240892    240787.0\n",
              "10013   Yes.     Dylan16807  ...  10581887  10580600.0\n",
              "10887    Wow  tonyedgecombe  ...   9935210   9935054.0\n",
              "10997      .      jacobolus  ...  20850404  20850397.0\n",
              "11025   Yes.    toomuchtodo  ...   5451141   5450475.0\n",
              "11272   Aye.           jerf  ...   3943008   3942913.0\n",
              "12154  Done.           sctb  ...  13637661  13637556.0\n",
              "\n",
              "[10 rows x 6 columns]"
            ]
          },
          "metadata": {
            "tags": []
          },
          "execution_count": 16
        }
      ]
    },
    {
      "cell_type": "code",
      "metadata": {
        "id": "A26Rl2Cs2I0B",
        "colab_type": "code",
        "colab": {
          "base_uri": "https://localhost:8080/",
          "height": 34
        },
        "outputId": "61effd1b-ea3d-48e4-a805-be1014710971"
      },
      "source": [
        "aux2.shape"
      ],
      "execution_count": 17,
      "outputs": [
        {
          "output_type": "execute_result",
          "data": {
            "text/plain": [
              "(54, 6)"
            ]
          },
          "metadata": {
            "tags": []
          },
          "execution_count": 17
        }
      ]
    },
    {
      "cell_type": "code",
      "metadata": {
        "id": "0t81jfgU2TSS",
        "colab_type": "code",
        "colab": {
          "base_uri": "https://localhost:8080/",
          "height": 34
        },
        "outputId": "323c1a02-901a-4376-e845-d50b76d3ee0e"
      },
      "source": [
        "aux2['text'].nunique()"
      ],
      "execution_count": 18,
      "outputs": [
        {
          "output_type": "execute_result",
          "data": {
            "text/plain": [
              "38"
            ]
          },
          "metadata": {
            "tags": []
          },
          "execution_count": 18
        }
      ]
    },
    {
      "cell_type": "code",
      "metadata": {
        "id": "srIqZc2O2Vh2",
        "colab_type": "code",
        "colab": {}
      },
      "source": [
        "#only 507 comments with 5 characters or less, upon analysis doesn't look like they provide much context, \n",
        "#not helpful for model analysis so drop comments with 5 words or less\n",
        "\n",
        "# take only the rows whose text column's length is greater than five\n",
        "# this also removes the texts that are None\n",
        "clean_df = clean_df[clean_df['text'].str.len() > 5]"
      ],
      "execution_count": 19,
      "outputs": []
    },
    {
      "cell_type": "code",
      "metadata": {
        "id": "N0N4Gwc66cOC",
        "colab_type": "code",
        "colab": {
          "base_uri": "https://localhost:8080/",
          "height": 197
        },
        "outputId": "3b4ad896-0617-463a-f322-5d77f65a9c1a"
      },
      "source": [
        "clean_df.head()"
      ],
      "execution_count": 20,
      "outputs": [
        {
          "output_type": "execute_result",
          "data": {
            "text/html": [
              "<div>\n",
              "<style scoped>\n",
              "    .dataframe tbody tr th:only-of-type {\n",
              "        vertical-align: middle;\n",
              "    }\n",
              "\n",
              "    .dataframe tbody tr th {\n",
              "        vertical-align: top;\n",
              "    }\n",
              "\n",
              "    .dataframe thead th {\n",
              "        text-align: right;\n",
              "    }\n",
              "</style>\n",
              "<table border=\"1\" class=\"dataframe\">\n",
              "  <thead>\n",
              "    <tr style=\"text-align: right;\">\n",
              "      <th></th>\n",
              "      <th>text</th>\n",
              "      <th>by</th>\n",
              "      <th>timestamp</th>\n",
              "      <th>type</th>\n",
              "      <th>id</th>\n",
              "      <th>parent</th>\n",
              "    </tr>\n",
              "  </thead>\n",
              "  <tbody>\n",
              "    <tr>\n",
              "      <th>0</th>\n",
              "      <td>Cannabis has never been &amp;#x27;completely legal...</td>\n",
              "      <td>roel_v</td>\n",
              "      <td>2019-03-03 03:03:04+00:00</td>\n",
              "      <td>comment</td>\n",
              "      <td>19292438</td>\n",
              "      <td>19292418.0</td>\n",
              "    </tr>\n",
              "    <tr>\n",
              "      <th>3</th>\n",
              "      <td>There are very few career mistakes that hurt y...</td>\n",
              "      <td>nostrademons</td>\n",
              "      <td>2011-05-28 20:05:16+00:00</td>\n",
              "      <td>comment</td>\n",
              "      <td>2595097</td>\n",
              "      <td>2595030.0</td>\n",
              "    </tr>\n",
              "    <tr>\n",
              "      <th>4</th>\n",
              "      <td>I dunno, man. What do you enjoy?&lt;p&gt;Pick a proj...</td>\n",
              "      <td>bitwize</td>\n",
              "      <td>2019-01-30 21:46:35+00:00</td>\n",
              "      <td>comment</td>\n",
              "      <td>19039896</td>\n",
              "      <td>19039016.0</td>\n",
              "    </tr>\n",
              "    <tr>\n",
              "      <th>5</th>\n",
              "      <td>&amp;gt;&lt;i&gt;That&amp;#x27;s ignoring all the computing ...</td>\n",
              "      <td>coldtea</td>\n",
              "      <td>2016-04-27 17:19:53+00:00</td>\n",
              "      <td>comment</td>\n",
              "      <td>11582419</td>\n",
              "      <td>11578417.0</td>\n",
              "    </tr>\n",
              "    <tr>\n",
              "      <th>8</th>\n",
              "      <td>Look, if you really want to debate this, I cou...</td>\n",
              "      <td>thaumaturgy</td>\n",
              "      <td>2012-09-04 00:15:50+00:00</td>\n",
              "      <td>comment</td>\n",
              "      <td>4472441</td>\n",
              "      <td>4472381.0</td>\n",
              "    </tr>\n",
              "  </tbody>\n",
              "</table>\n",
              "</div>"
            ],
            "text/plain": [
              "                                                text  ...      parent\n",
              "0  Cannabis has never been &#x27;completely legal...  ...  19292418.0\n",
              "3  There are very few career mistakes that hurt y...  ...   2595030.0\n",
              "4  I dunno, man. What do you enjoy?<p>Pick a proj...  ...  19039016.0\n",
              "5  &gt;<i>That&#x27;s ignoring all the computing ...  ...  11578417.0\n",
              "8  Look, if you really want to debate this, I cou...  ...   4472381.0\n",
              "\n",
              "[5 rows x 6 columns]"
            ]
          },
          "metadata": {
            "tags": []
          },
          "execution_count": 20
        }
      ]
    },
    {
      "cell_type": "code",
      "metadata": {
        "id": "TLVGnxJx7oZA",
        "colab_type": "code",
        "colab": {
          "base_uri": "https://localhost:8080/",
          "height": 176
        },
        "outputId": "9e7a363e-daf6-49aa-d4ac-820eaa992d6d"
      },
      "source": [
        "clean_df['text'].str.len().describe()"
      ],
      "execution_count": 21,
      "outputs": [
        {
          "output_type": "execute_result",
          "data": {
            "text/plain": [
              "count    44804.000000\n",
              "mean       427.440831\n",
              "std        508.356942\n",
              "min          6.000000\n",
              "25%        145.000000\n",
              "50%        278.000000\n",
              "75%        522.000000\n",
              "max      17564.000000\n",
              "Name: text, dtype: float64"
            ]
          },
          "metadata": {
            "tags": []
          },
          "execution_count": 21
        }
      ]
    },
    {
      "cell_type": "code",
      "metadata": {
        "id": "QAGY6mTJPVaS",
        "colab_type": "code",
        "colab": {}
      },
      "source": [
        "# Use BS on a single piece of text to remove strange chars and URLs and tags\n",
        "from bs4 import BeautifulSoup\n",
        "\n",
        "def clean_soup(text):\n",
        "    # make a soup - this takes care of strange characters\n",
        "    soup = BeautifulSoup(text, \"html.parser\")\n",
        "\n",
        "    # delete <a> tags as they contain URLs -- remember <a href=\"url_here\">\n",
        "    # tags contain URLs\n",
        "    for s in soup.select('a'):\n",
        "       s.extract()\n",
        "\n",
        "    # the soup contains <p> tags -- here we get rid of those and join them with spaces\n",
        "    strings = soup.find_all(text=True, recursive=True)\n",
        "    result = ' '.join(strings)\n",
        "\n",
        "    return result"
      ],
      "execution_count": 22,
      "outputs": []
    },
    {
      "cell_type": "code",
      "metadata": {
        "id": "zbX55E3BPZum",
        "colab_type": "code",
        "colab": {
          "base_uri": "https://localhost:8080/",
          "height": 72
        },
        "outputId": "08724abc-df67-4815-db44-7a6451bd5dda"
      },
      "source": [
        "# Apply that to each comment/story text\n",
        "clean_text = clean_df['text'].apply(clean_soup)"
      ],
      "execution_count": 23,
      "outputs": [
        {
          "output_type": "stream",
          "text": [
            "/usr/local/lib/python3.6/dist-packages/bs4/__init__.py:336: UserWarning: \"http:&#x2F;&#x2F;www.dailymail.co.uk&#x2F;news&#x2F;article-2579955&#x2F;US-officials-convinced-two-separate-communications-systems-Malaysian-jet-DELIBERATELY-shut-14-minutes-apart-emerges-aircraft-pinging-FIVE-hours-vanished-flying.html\" looks like a URL. Beautiful Soup is not an HTTP client. You should probably use an HTTP client like requests to get the document behind the URL, and feed that document to Beautiful Soup.\n",
            "  ' that document to Beautiful Soup.' % decoded_markup\n"
          ],
          "name": "stderr"
        }
      ]
    },
    {
      "cell_type": "code",
      "metadata": {
        "id": "n2-3krVLaF5u",
        "colab_type": "code",
        "colab": {}
      },
      "source": [
        "clean_df['text'] = clean_text"
      ],
      "execution_count": 24,
      "outputs": []
    },
    {
      "cell_type": "code",
      "metadata": {
        "id": "sdfTUjq9ZTHm",
        "colab_type": "code",
        "colab": {
          "base_uri": "https://localhost:8080/",
          "height": 514
        },
        "outputId": "7ff72a65-5fac-45d2-9edf-0b59a8092691"
      },
      "source": [
        "import pandas as pd\n",
        "pd.options.display.max_colwidth = 100\n",
        "clean_df.sample(10)"
      ],
      "execution_count": 25,
      "outputs": [
        {
          "output_type": "execute_result",
          "data": {
            "text/html": [
              "<div>\n",
              "<style scoped>\n",
              "    .dataframe tbody tr th:only-of-type {\n",
              "        vertical-align: middle;\n",
              "    }\n",
              "\n",
              "    .dataframe tbody tr th {\n",
              "        vertical-align: top;\n",
              "    }\n",
              "\n",
              "    .dataframe thead th {\n",
              "        text-align: right;\n",
              "    }\n",
              "</style>\n",
              "<table border=\"1\" class=\"dataframe\">\n",
              "  <thead>\n",
              "    <tr style=\"text-align: right;\">\n",
              "      <th></th>\n",
              "      <th>text</th>\n",
              "      <th>by</th>\n",
              "      <th>timestamp</th>\n",
              "      <th>type</th>\n",
              "      <th>id</th>\n",
              "      <th>parent</th>\n",
              "    </tr>\n",
              "  </thead>\n",
              "  <tbody>\n",
              "    <tr>\n",
              "      <th>36800</th>\n",
              "      <td>The CPU seems to have run at 4MHz ( ). However, I spot a 4.9152 MHz crystal on the photo of the ...</td>\n",
              "      <td>Someone</td>\n",
              "      <td>2017-12-27 12:32:29+00:00</td>\n",
              "      <td>comment</td>\n",
              "      <td>16014376</td>\n",
              "      <td>16011179.0</td>\n",
              "    </tr>\n",
              "    <tr>\n",
              "      <th>17383</th>\n",
              "      <td>In all the EF projects I have been on it caused weird issues  after a while. Code first projects...</td>\n",
              "      <td>maxxxxx</td>\n",
              "      <td>2017-08-16 18:45:42+00:00</td>\n",
              "      <td>comment</td>\n",
              "      <td>15030033</td>\n",
              "      <td>15028785.0</td>\n",
              "    </tr>\n",
              "    <tr>\n",
              "      <th>9908</th>\n",
              "      <td>The point you're making has nothing to do with the article. The article isn't \"meandering drivel...</td>\n",
              "      <td>tptacek</td>\n",
              "      <td>2012-09-26 19:16:51+00:00</td>\n",
              "      <td>comment</td>\n",
              "      <td>4577457</td>\n",
              "      <td>4577447.0</td>\n",
              "    </tr>\n",
              "    <tr>\n",
              "      <th>18654</th>\n",
              "      <td>Thanks for the clarification - yep, I need to be able to create real symlinks on remote machines.</td>\n",
              "      <td>nailer</td>\n",
              "      <td>2009-04-18 16:37:16+00:00</td>\n",
              "      <td>comment</td>\n",
              "      <td>568468</td>\n",
              "      <td>568457.0</td>\n",
              "    </tr>\n",
              "    <tr>\n",
              "      <th>14576</th>\n",
              "      <td>&gt;  It's an abuse of the purpose of URL fragments Would you just look at who's preaching... If it...</td>\n",
              "      <td>huhtenberg</td>\n",
              "      <td>2019-02-15 16:37:29+00:00</td>\n",
              "      <td>comment</td>\n",
              "      <td>19172239</td>\n",
              "      <td>19169383.0</td>\n",
              "    </tr>\n",
              "    <tr>\n",
              "      <th>19169</th>\n",
              "      <td>\"Dual use\" in the ITAR sense? A rule of thumb would be if you wouldn't sell it to Iran you shoul...</td>\n",
              "      <td>pjc50</td>\n",
              "      <td>2019-02-23 00:02:38+00:00</td>\n",
              "      <td>comment</td>\n",
              "      <td>19230379</td>\n",
              "      <td>19230180.0</td>\n",
              "    </tr>\n",
              "    <tr>\n",
              "      <th>3996</th>\n",
              "      <td>&gt;&gt; Why is it so hard for a woman to bother a man with sexual harassment? Oh, that's actually ver...</td>\n",
              "      <td>YeGoblynQueenne</td>\n",
              "      <td>2018-08-09 00:02:25+00:00</td>\n",
              "      <td>comment</td>\n",
              "      <td>17720688</td>\n",
              "      <td>17717017.0</td>\n",
              "    </tr>\n",
              "    <tr>\n",
              "      <th>14905</th>\n",
              "      <td>&gt; Presentation hasn't changed in 15 years. I think you mean 7. They changed their default theme ...</td>\n",
              "      <td>TazeTSchnitzel</td>\n",
              "      <td>2017-04-19 23:02:06+00:00</td>\n",
              "      <td>comment</td>\n",
              "      <td>14152556</td>\n",
              "      <td>14151406.0</td>\n",
              "    </tr>\n",
              "    <tr>\n",
              "      <th>25052</th>\n",
              "      <td>It's an abuse of HN to use it primarily for political or ideological battle. Since this account ...</td>\n",
              "      <td>dang</td>\n",
              "      <td>2017-08-10 07:34:26+00:00</td>\n",
              "      <td>comment</td>\n",
              "      <td>14977277</td>\n",
              "      <td>14976877.0</td>\n",
              "    </tr>\n",
              "    <tr>\n",
              "      <th>10447</th>\n",
              "      <td>Single page version</td>\n",
              "      <td>contingencies</td>\n",
              "      <td>2014-10-14 11:09:37+00:00</td>\n",
              "      <td>comment</td>\n",
              "      <td>8452835</td>\n",
              "      <td>8451905.0</td>\n",
              "    </tr>\n",
              "  </tbody>\n",
              "</table>\n",
              "</div>"
            ],
            "text/plain": [
              "                                                                                                      text  ...      parent\n",
              "36800  The CPU seems to have run at 4MHz ( ). However, I spot a 4.9152 MHz crystal on the photo of the ...  ...  16011179.0\n",
              "17383  In all the EF projects I have been on it caused weird issues  after a while. Code first projects...  ...  15028785.0\n",
              "9908   The point you're making has nothing to do with the article. The article isn't \"meandering drivel...  ...   4577447.0\n",
              "18654    Thanks for the clarification - yep, I need to be able to create real symlinks on remote machines.  ...    568457.0\n",
              "14576  >  It's an abuse of the purpose of URL fragments Would you just look at who's preaching... If it...  ...  19169383.0\n",
              "19169  \"Dual use\" in the ITAR sense? A rule of thumb would be if you wouldn't sell it to Iran you shoul...  ...  19230180.0\n",
              "3996   >> Why is it so hard for a woman to bother a man with sexual harassment? Oh, that's actually ver...  ...  17717017.0\n",
              "14905  > Presentation hasn't changed in 15 years. I think you mean 7. They changed their default theme ...  ...  14151406.0\n",
              "25052  It's an abuse of HN to use it primarily for political or ideological battle. Since this account ...  ...  14976877.0\n",
              "10447                                                                                 Single page version   ...   8451905.0\n",
              "\n",
              "[10 rows x 6 columns]"
            ]
          },
          "metadata": {
            "tags": []
          },
          "execution_count": 25
        }
      ]
    },
    {
      "cell_type": "code",
      "metadata": {
        "id": "pcCvgbfeaW9N",
        "colab_type": "code",
        "colab": {
          "base_uri": "https://localhost:8080/",
          "height": 141
        },
        "outputId": "6e965782-501c-457c-fd61-b35139f6144d"
      },
      "source": [
        "#makes sense the parent would have some null values, if they are the first comment\n",
        "clean_df.isnull().sum()"
      ],
      "execution_count": 26,
      "outputs": [
        {
          "output_type": "execute_result",
          "data": {
            "text/plain": [
              "text          0\n",
              "by            0\n",
              "timestamp     0\n",
              "type          0\n",
              "id            0\n",
              "parent       87\n",
              "dtype: int64"
            ]
          },
          "metadata": {
            "tags": []
          },
          "execution_count": 26
        }
      ]
    },
    {
      "cell_type": "markdown",
      "metadata": {
        "id": "POlu6GsgHXCt",
        "colab_type": "text"
      },
      "source": [
        "#Pyrom\n",
        "##---------------------------"
      ]
    },
    {
      "cell_type": "code",
      "metadata": {
        "id": "scvJHSfnHKYt",
        "colab_type": "code",
        "colab": {
          "base_uri": "https://localhost:8080/",
          "height": 214
        },
        "outputId": "77300249-8dc9-4ca7-bbac-9cf344d2985d"
      },
      "source": [
        "pip install vaderSentiment"
      ],
      "execution_count": 27,
      "outputs": [
        {
          "output_type": "stream",
          "text": [
            "Collecting vaderSentiment\n",
            "\u001b[?25l  Downloading https://files.pythonhosted.org/packages/76/fc/310e16254683c1ed35eeb97386986d6c00bc29df17ce280aed64d55537e9/vaderSentiment-3.3.2-py2.py3-none-any.whl (125kB)\n",
            "\r\u001b[K     |██▋                             | 10kB 19.5MB/s eta 0:00:01\r\u001b[K     |█████▏                          | 20kB 1.6MB/s eta 0:00:01\r\u001b[K     |███████▉                        | 30kB 1.9MB/s eta 0:00:01\r\u001b[K     |██████████▍                     | 40kB 2.1MB/s eta 0:00:01\r\u001b[K     |█████████████                   | 51kB 1.9MB/s eta 0:00:01\r\u001b[K     |███████████████▋                | 61kB 2.2MB/s eta 0:00:01\r\u001b[K     |██████████████████▏             | 71kB 2.4MB/s eta 0:00:01\r\u001b[K     |████████████████████▉           | 81kB 2.6MB/s eta 0:00:01\r\u001b[K     |███████████████████████▍        | 92kB 2.8MB/s eta 0:00:01\r\u001b[K     |██████████████████████████      | 102kB 2.7MB/s eta 0:00:01\r\u001b[K     |████████████████████████████▋   | 112kB 2.7MB/s eta 0:00:01\r\u001b[K     |███████████████████████████████▏| 122kB 2.7MB/s eta 0:00:01\r\u001b[K     |████████████████████████████████| 133kB 2.7MB/s \n",
            "\u001b[?25hRequirement already satisfied: requests in /usr/local/lib/python3.6/dist-packages (from vaderSentiment) (2.23.0)\n",
            "Requirement already satisfied: urllib3!=1.25.0,!=1.25.1,<1.26,>=1.21.1 in /usr/local/lib/python3.6/dist-packages (from requests->vaderSentiment) (1.24.3)\n",
            "Requirement already satisfied: chardet<4,>=3.0.2 in /usr/local/lib/python3.6/dist-packages (from requests->vaderSentiment) (3.0.4)\n",
            "Requirement already satisfied: certifi>=2017.4.17 in /usr/local/lib/python3.6/dist-packages (from requests->vaderSentiment) (2020.4.5.2)\n",
            "Requirement already satisfied: idna<3,>=2.5 in /usr/local/lib/python3.6/dist-packages (from requests->vaderSentiment) (2.9)\n",
            "Installing collected packages: vaderSentiment\n",
            "Successfully installed vaderSentiment-3.3.2\n"
          ],
          "name": "stdout"
        }
      ]
    },
    {
      "cell_type": "code",
      "metadata": {
        "id": "xBvsAdqkHimw",
        "colab_type": "code",
        "colab": {}
      },
      "source": [
        "from vaderSentiment.vaderSentiment import SentimentIntensityAnalyzer\n",
        "\n",
        "#Panda Settings\n",
        "pd.set_option('display.max_rows', 200)\n",
        "pd.set_option('display.max_columns', 200)"
      ],
      "execution_count": 28,
      "outputs": []
    },
    {
      "cell_type": "code",
      "metadata": {
        "id": "2wzaI6mGIAFW",
        "colab_type": "code",
        "colab": {
          "base_uri": "https://localhost:8080/",
          "height": 197
        },
        "outputId": "16e59594-3248-4627-e609-3e9b93773c67"
      },
      "source": [
        "clean_df.head()"
      ],
      "execution_count": 29,
      "outputs": [
        {
          "output_type": "execute_result",
          "data": {
            "text/html": [
              "<div>\n",
              "<style scoped>\n",
              "    .dataframe tbody tr th:only-of-type {\n",
              "        vertical-align: middle;\n",
              "    }\n",
              "\n",
              "    .dataframe tbody tr th {\n",
              "        vertical-align: top;\n",
              "    }\n",
              "\n",
              "    .dataframe thead th {\n",
              "        text-align: right;\n",
              "    }\n",
              "</style>\n",
              "<table border=\"1\" class=\"dataframe\">\n",
              "  <thead>\n",
              "    <tr style=\"text-align: right;\">\n",
              "      <th></th>\n",
              "      <th>text</th>\n",
              "      <th>by</th>\n",
              "      <th>timestamp</th>\n",
              "      <th>type</th>\n",
              "      <th>id</th>\n",
              "      <th>parent</th>\n",
              "    </tr>\n",
              "  </thead>\n",
              "  <tbody>\n",
              "    <tr>\n",
              "      <th>0</th>\n",
              "      <td>Cannabis has never been 'completely legal' anywhere in the Netherlands. It depends a bit though ...</td>\n",
              "      <td>roel_v</td>\n",
              "      <td>2019-03-03 03:03:04+00:00</td>\n",
              "      <td>comment</td>\n",
              "      <td>19292438</td>\n",
              "      <td>19292418.0</td>\n",
              "    </tr>\n",
              "    <tr>\n",
              "      <th>3</th>\n",
              "      <td>There are very few career mistakes that hurt you permanently, if you make an effort to recover f...</td>\n",
              "      <td>nostrademons</td>\n",
              "      <td>2011-05-28 20:05:16+00:00</td>\n",
              "      <td>comment</td>\n",
              "      <td>2595097</td>\n",
              "      <td>2595030.0</td>\n",
              "    </tr>\n",
              "    <tr>\n",
              "      <th>4</th>\n",
              "      <td>I dunno, man. What do you enjoy? Pick a project to work on in your free time. A game, an audio s...</td>\n",
              "      <td>bitwize</td>\n",
              "      <td>2019-01-30 21:46:35+00:00</td>\n",
              "      <td>comment</td>\n",
              "      <td>19039896</td>\n",
              "      <td>19039016.0</td>\n",
              "    </tr>\n",
              "    <tr>\n",
              "      <th>5</th>\n",
              "      <td>&gt; That's ignoring all the computing work done before C. And we can really ignore it software wis...</td>\n",
              "      <td>coldtea</td>\n",
              "      <td>2016-04-27 17:19:53+00:00</td>\n",
              "      <td>comment</td>\n",
              "      <td>11582419</td>\n",
              "      <td>11578417.0</td>\n",
              "    </tr>\n",
              "    <tr>\n",
              "      <th>8</th>\n",
              "      <td>Look, if you really want to debate this, I could try to defend what he said, but I will have to ...</td>\n",
              "      <td>thaumaturgy</td>\n",
              "      <td>2012-09-04 00:15:50+00:00</td>\n",
              "      <td>comment</td>\n",
              "      <td>4472441</td>\n",
              "      <td>4472381.0</td>\n",
              "    </tr>\n",
              "  </tbody>\n",
              "</table>\n",
              "</div>"
            ],
            "text/plain": [
              "                                                                                                  text  \\\n",
              "0  Cannabis has never been 'completely legal' anywhere in the Netherlands. It depends a bit though ...   \n",
              "3  There are very few career mistakes that hurt you permanently, if you make an effort to recover f...   \n",
              "4  I dunno, man. What do you enjoy? Pick a project to work on in your free time. A game, an audio s...   \n",
              "5  > That's ignoring all the computing work done before C. And we can really ignore it software wis...   \n",
              "8  Look, if you really want to debate this, I could try to defend what he said, but I will have to ...   \n",
              "\n",
              "             by                 timestamp     type        id      parent  \n",
              "0        roel_v 2019-03-03 03:03:04+00:00  comment  19292438  19292418.0  \n",
              "3  nostrademons 2011-05-28 20:05:16+00:00  comment   2595097   2595030.0  \n",
              "4       bitwize 2019-01-30 21:46:35+00:00  comment  19039896  19039016.0  \n",
              "5       coldtea 2016-04-27 17:19:53+00:00  comment  11582419  11578417.0  \n",
              "8   thaumaturgy 2012-09-04 00:15:50+00:00  comment   4472441   4472381.0  "
            ]
          },
          "metadata": {
            "tags": []
          },
          "execution_count": 29
        }
      ]
    },
    {
      "cell_type": "code",
      "metadata": {
        "id": "Bem0dr5eIDUB",
        "colab_type": "code",
        "colab": {
          "base_uri": "https://localhost:8080/",
          "height": 197
        },
        "outputId": "05e591d1-0cb6-4440-f68f-96b2bce0fe60"
      },
      "source": [
        "df = clean_df.drop(columns=['timestamp', 'type', 'id', 'parent'])\n",
        "df.head()"
      ],
      "execution_count": 30,
      "outputs": [
        {
          "output_type": "execute_result",
          "data": {
            "text/html": [
              "<div>\n",
              "<style scoped>\n",
              "    .dataframe tbody tr th:only-of-type {\n",
              "        vertical-align: middle;\n",
              "    }\n",
              "\n",
              "    .dataframe tbody tr th {\n",
              "        vertical-align: top;\n",
              "    }\n",
              "\n",
              "    .dataframe thead th {\n",
              "        text-align: right;\n",
              "    }\n",
              "</style>\n",
              "<table border=\"1\" class=\"dataframe\">\n",
              "  <thead>\n",
              "    <tr style=\"text-align: right;\">\n",
              "      <th></th>\n",
              "      <th>text</th>\n",
              "      <th>by</th>\n",
              "    </tr>\n",
              "  </thead>\n",
              "  <tbody>\n",
              "    <tr>\n",
              "      <th>0</th>\n",
              "      <td>Cannabis has never been 'completely legal' anywhere in the Netherlands. It depends a bit though ...</td>\n",
              "      <td>roel_v</td>\n",
              "    </tr>\n",
              "    <tr>\n",
              "      <th>3</th>\n",
              "      <td>There are very few career mistakes that hurt you permanently, if you make an effort to recover f...</td>\n",
              "      <td>nostrademons</td>\n",
              "    </tr>\n",
              "    <tr>\n",
              "      <th>4</th>\n",
              "      <td>I dunno, man. What do you enjoy? Pick a project to work on in your free time. A game, an audio s...</td>\n",
              "      <td>bitwize</td>\n",
              "    </tr>\n",
              "    <tr>\n",
              "      <th>5</th>\n",
              "      <td>&gt; That's ignoring all the computing work done before C. And we can really ignore it software wis...</td>\n",
              "      <td>coldtea</td>\n",
              "    </tr>\n",
              "    <tr>\n",
              "      <th>8</th>\n",
              "      <td>Look, if you really want to debate this, I could try to defend what he said, but I will have to ...</td>\n",
              "      <td>thaumaturgy</td>\n",
              "    </tr>\n",
              "  </tbody>\n",
              "</table>\n",
              "</div>"
            ],
            "text/plain": [
              "                                                                                                  text  \\\n",
              "0  Cannabis has never been 'completely legal' anywhere in the Netherlands. It depends a bit though ...   \n",
              "3  There are very few career mistakes that hurt you permanently, if you make an effort to recover f...   \n",
              "4  I dunno, man. What do you enjoy? Pick a project to work on in your free time. A game, an audio s...   \n",
              "5  > That's ignoring all the computing work done before C. And we can really ignore it software wis...   \n",
              "8  Look, if you really want to debate this, I could try to defend what he said, but I will have to ...   \n",
              "\n",
              "             by  \n",
              "0        roel_v  \n",
              "3  nostrademons  \n",
              "4       bitwize  \n",
              "5       coldtea  \n",
              "8   thaumaturgy  "
            ]
          },
          "metadata": {
            "tags": []
          },
          "execution_count": 30
        }
      ]
    },
    {
      "cell_type": "code",
      "metadata": {
        "id": "DKv_VuhXIUI7",
        "colab_type": "code",
        "colab": {}
      },
      "source": [
        "#Convert to string values\n",
        "df = df.astype(str)"
      ],
      "execution_count": 31,
      "outputs": []
    },
    {
      "cell_type": "code",
      "metadata": {
        "id": "oH7hVDV1IdRR",
        "colab_type": "code",
        "colab": {
          "base_uri": "https://localhost:8080/",
          "height": 34
        },
        "outputId": "2e9fd1d0-9d3f-4629-97cb-7d4c3457a0a4"
      },
      "source": [
        "#No. of rows\n",
        "df.shape"
      ],
      "execution_count": 32,
      "outputs": [
        {
          "output_type": "execute_result",
          "data": {
            "text/plain": [
              "(44804, 2)"
            ]
          },
          "metadata": {
            "tags": []
          },
          "execution_count": 32
        }
      ]
    },
    {
      "cell_type": "code",
      "metadata": {
        "id": "4CVkADejMKSo",
        "colab_type": "code",
        "colab": {}
      },
      "source": [
        "#Slim out users with less than 1000 comments, more manageable, cuts data in half\n",
        "def slim(df):\n",
        "    \"\"\"\n",
        "    Slim out dataset to user with 1000 or more comments.\n",
        "\n",
        "    Returns a filtered dataframe.\n",
        "    \"\"\"\n",
        "\n",
        "    X = df.copy()\n",
        "    X = X.groupby('by').filter(lambda x: x['by'].count()<1000)\n",
        "\n",
        "    return X"
      ],
      "execution_count": 33,
      "outputs": []
    },
    {
      "cell_type": "code",
      "metadata": {
        "id": "YtN48hCQMPaQ",
        "colab_type": "code",
        "colab": {
          "base_uri": "https://localhost:8080/",
          "height": 215
        },
        "outputId": "82472497-1cee-4de3-862e-31fc2deb2caf"
      },
      "source": [
        "new_df = slim(df)\n",
        "print(new_df.shape)\n",
        "new_df.head()"
      ],
      "execution_count": 34,
      "outputs": [
        {
          "output_type": "stream",
          "text": [
            "(44804, 2)\n"
          ],
          "name": "stdout"
        },
        {
          "output_type": "execute_result",
          "data": {
            "text/html": [
              "<div>\n",
              "<style scoped>\n",
              "    .dataframe tbody tr th:only-of-type {\n",
              "        vertical-align: middle;\n",
              "    }\n",
              "\n",
              "    .dataframe tbody tr th {\n",
              "        vertical-align: top;\n",
              "    }\n",
              "\n",
              "    .dataframe thead th {\n",
              "        text-align: right;\n",
              "    }\n",
              "</style>\n",
              "<table border=\"1\" class=\"dataframe\">\n",
              "  <thead>\n",
              "    <tr style=\"text-align: right;\">\n",
              "      <th></th>\n",
              "      <th>text</th>\n",
              "      <th>by</th>\n",
              "    </tr>\n",
              "  </thead>\n",
              "  <tbody>\n",
              "    <tr>\n",
              "      <th>0</th>\n",
              "      <td>Cannabis has never been 'completely legal' anywhere in the Netherlands. It depends a bit though ...</td>\n",
              "      <td>roel_v</td>\n",
              "    </tr>\n",
              "    <tr>\n",
              "      <th>3</th>\n",
              "      <td>There are very few career mistakes that hurt you permanently, if you make an effort to recover f...</td>\n",
              "      <td>nostrademons</td>\n",
              "    </tr>\n",
              "    <tr>\n",
              "      <th>4</th>\n",
              "      <td>I dunno, man. What do you enjoy? Pick a project to work on in your free time. A game, an audio s...</td>\n",
              "      <td>bitwize</td>\n",
              "    </tr>\n",
              "    <tr>\n",
              "      <th>5</th>\n",
              "      <td>&gt; That's ignoring all the computing work done before C. And we can really ignore it software wis...</td>\n",
              "      <td>coldtea</td>\n",
              "    </tr>\n",
              "    <tr>\n",
              "      <th>8</th>\n",
              "      <td>Look, if you really want to debate this, I could try to defend what he said, but I will have to ...</td>\n",
              "      <td>thaumaturgy</td>\n",
              "    </tr>\n",
              "  </tbody>\n",
              "</table>\n",
              "</div>"
            ],
            "text/plain": [
              "                                                                                                  text  \\\n",
              "0  Cannabis has never been 'completely legal' anywhere in the Netherlands. It depends a bit though ...   \n",
              "3  There are very few career mistakes that hurt you permanently, if you make an effort to recover f...   \n",
              "4  I dunno, man. What do you enjoy? Pick a project to work on in your free time. A game, an audio s...   \n",
              "5  > That's ignoring all the computing work done before C. And we can really ignore it software wis...   \n",
              "8  Look, if you really want to debate this, I could try to defend what he said, but I will have to ...   \n",
              "\n",
              "             by  \n",
              "0        roel_v  \n",
              "3  nostrademons  \n",
              "4       bitwize  \n",
              "5       coldtea  \n",
              "8   thaumaturgy  "
            ]
          },
          "metadata": {
            "tags": []
          },
          "execution_count": 34
        }
      ]
    },
    {
      "cell_type": "code",
      "metadata": {
        "id": "0Dze_XXiIf63",
        "colab_type": "code",
        "colab": {
          "base_uri": "https://localhost:8080/",
          "height": 34
        },
        "outputId": "d1a71e60-4086-41b0-fb50-e64f306b862e"
      },
      "source": [
        "#No. of usernames\n",
        "new_df['by'].value_counts().sum()"
      ],
      "execution_count": 35,
      "outputs": [
        {
          "output_type": "execute_result",
          "data": {
            "text/plain": [
              "44804"
            ]
          },
          "metadata": {
            "tags": []
          },
          "execution_count": 35
        }
      ]
    },
    {
      "cell_type": "code",
      "metadata": {
        "id": "DKugvnExI22N",
        "colab_type": "code",
        "colab": {
          "base_uri": "https://localhost:8080/",
          "height": 70
        },
        "outputId": "39484df9-4091-46a6-983a-e3051ab07d05"
      },
      "source": [
        "new_df.isnull().sum()"
      ],
      "execution_count": 36,
      "outputs": [
        {
          "output_type": "execute_result",
          "data": {
            "text/plain": [
              "text    0\n",
              "by      0\n",
              "dtype: int64"
            ]
          },
          "metadata": {
            "tags": []
          },
          "execution_count": 36
        }
      ]
    },
    {
      "cell_type": "code",
      "metadata": {
        "id": "DE5aQH67JFjd",
        "colab_type": "code",
        "colab": {}
      },
      "source": [
        "#Machine Learning, using VADER Sentiment Analysis\n",
        "\n",
        "def sentiment_score(comment):\n",
        "    analyser = SentimentIntensityAnalyzer()\n",
        "    \n",
        "    x = 0\n",
        "    score = analyser.polarity_scores(comment)\n",
        "    x = x + score['pos']\n",
        "    x = x + score['compound']\n",
        "    x = x - score['neg'] \n",
        "\n",
        "    return x"
      ],
      "execution_count": 37,
      "outputs": []
    },
    {
      "cell_type": "code",
      "metadata": {
        "id": "VM2mIw7OJR9S",
        "colab_type": "code",
        "colab": {}
      },
      "source": [
        "#Apply function to 'text' column, values added to new column called Saltiness\n",
        "new_df['Saltiness'] = new_df['text'].apply(sentiment_score)"
      ],
      "execution_count": 38,
      "outputs": []
    },
    {
      "cell_type": "code",
      "metadata": {
        "id": "s_JTtAtAOZYH",
        "colab_type": "code",
        "colab": {
          "base_uri": "https://localhost:8080/",
          "height": 197
        },
        "outputId": "c8889ed8-1717-46d7-cf09-9377518aaee3"
      },
      "source": [
        "new_df.head()"
      ],
      "execution_count": 39,
      "outputs": [
        {
          "output_type": "execute_result",
          "data": {
            "text/html": [
              "<div>\n",
              "<style scoped>\n",
              "    .dataframe tbody tr th:only-of-type {\n",
              "        vertical-align: middle;\n",
              "    }\n",
              "\n",
              "    .dataframe tbody tr th {\n",
              "        vertical-align: top;\n",
              "    }\n",
              "\n",
              "    .dataframe thead th {\n",
              "        text-align: right;\n",
              "    }\n",
              "</style>\n",
              "<table border=\"1\" class=\"dataframe\">\n",
              "  <thead>\n",
              "    <tr style=\"text-align: right;\">\n",
              "      <th></th>\n",
              "      <th>text</th>\n",
              "      <th>by</th>\n",
              "      <th>Saltiness</th>\n",
              "    </tr>\n",
              "  </thead>\n",
              "  <tbody>\n",
              "    <tr>\n",
              "      <th>0</th>\n",
              "      <td>Cannabis has never been 'completely legal' anywhere in the Netherlands. It depends a bit though ...</td>\n",
              "      <td>roel_v</td>\n",
              "      <td>0.0612</td>\n",
              "    </tr>\n",
              "    <tr>\n",
              "      <th>3</th>\n",
              "      <td>There are very few career mistakes that hurt you permanently, if you make an effort to recover f...</td>\n",
              "      <td>nostrademons</td>\n",
              "      <td>0.2880</td>\n",
              "    </tr>\n",
              "    <tr>\n",
              "      <th>4</th>\n",
              "      <td>I dunno, man. What do you enjoy? Pick a project to work on in your free time. A game, an audio s...</td>\n",
              "      <td>bitwize</td>\n",
              "      <td>1.0888</td>\n",
              "    </tr>\n",
              "    <tr>\n",
              "      <th>5</th>\n",
              "      <td>&gt; That's ignoring all the computing work done before C. And we can really ignore it software wis...</td>\n",
              "      <td>coldtea</td>\n",
              "      <td>-0.4174</td>\n",
              "    </tr>\n",
              "    <tr>\n",
              "      <th>8</th>\n",
              "      <td>Look, if you really want to debate this, I could try to defend what he said, but I will have to ...</td>\n",
              "      <td>thaumaturgy</td>\n",
              "      <td>-1.0465</td>\n",
              "    </tr>\n",
              "  </tbody>\n",
              "</table>\n",
              "</div>"
            ],
            "text/plain": [
              "                                                                                                  text  \\\n",
              "0  Cannabis has never been 'completely legal' anywhere in the Netherlands. It depends a bit though ...   \n",
              "3  There are very few career mistakes that hurt you permanently, if you make an effort to recover f...   \n",
              "4  I dunno, man. What do you enjoy? Pick a project to work on in your free time. A game, an audio s...   \n",
              "5  > That's ignoring all the computing work done before C. And we can really ignore it software wis...   \n",
              "8  Look, if you really want to debate this, I could try to defend what he said, but I will have to ...   \n",
              "\n",
              "             by  Saltiness  \n",
              "0        roel_v     0.0612  \n",
              "3  nostrademons     0.2880  \n",
              "4       bitwize     1.0888  \n",
              "5       coldtea    -0.4174  \n",
              "8   thaumaturgy    -1.0465  "
            ]
          },
          "metadata": {
            "tags": []
          },
          "execution_count": 39
        }
      ]
    },
    {
      "cell_type": "code",
      "metadata": {
        "id": "91EAUopaUt9g",
        "colab_type": "code",
        "colab": {}
      },
      "source": [
        "#Rename columns\n",
        "new_df.columns = ['Comment', 'Username', 'Saltiness']"
      ],
      "execution_count": 40,
      "outputs": []
    },
    {
      "cell_type": "code",
      "metadata": {
        "id": "b9BSLiB6U48k",
        "colab_type": "code",
        "colab": {}
      },
      "source": [
        "#Rearrange columns, sort by username\n",
        "order = ['Username', 'Comment', 'Saltiness']\n",
        "users_score = new_df[order]"
      ],
      "execution_count": 41,
      "outputs": []
    },
    {
      "cell_type": "code",
      "metadata": {
        "id": "NPtGgouoVRKp",
        "colab_type": "code",
        "colab": {}
      },
      "source": [
        "#Sort\n",
        "users_score.sort_values(by=['Username'], inplace=True)"
      ],
      "execution_count": 42,
      "outputs": []
    },
    {
      "cell_type": "code",
      "metadata": {
        "id": "2fS5r6RcXkWn",
        "colab_type": "code",
        "colab": {}
      },
      "source": [
        "#def add_rank(df):\n",
        "    \n",
        "    # Create separate dataframe based on user overall rank\n",
        "    # Reset index twice to get new numeric column\n",
        "#    rank_df = df.groupby('Username')['Saltiness'].sum().sort_values(ascending=True).reset_index().reset_index()\n",
        "    \n",
        "    # Add 1 to get the rank\n",
        "#    rank_df['index'] = rank_df['index'] + 1\n",
        "    \n",
        "    # Wrangle the rank_df\n",
        "#    rank_df = rank_df[['index', 'Username']]\n",
        "    \n",
        "    # Change the rank_df column names\n",
        "#    rank_df.columns = ['Ranking', 'Username']\n",
        "    \n",
        "    # Left merge rank_df with original df on 'author' column\n",
        "#    merged = pd.merge(df, rank_df, how='left', on='Username')\n",
        "    \n",
        "    # Wrangle merged dataframe\n",
        "    #merged = merged.drop(columns=['ranking_x', 'deleted', 'dead'])\n",
        "    \n",
        "    # Rename columns\n",
        "    #merged.columns = ['Username','Saltiness', 'Ranking']\n",
        "    \n",
        "#    return merged"
      ],
      "execution_count": 43,
      "outputs": []
    },
    {
      "cell_type": "code",
      "metadata": {
        "id": "rDChdGZKZG1o",
        "colab_type": "code",
        "colab": {}
      },
      "source": [
        "#letssee = add_rank(new_df)\n",
        "#letssee.head()"
      ],
      "execution_count": 44,
      "outputs": []
    },
    {
      "cell_type": "code",
      "metadata": {
        "id": "aaBK7isoWjMK",
        "colab_type": "code",
        "colab": {
          "base_uri": "https://localhost:8080/",
          "height": 197
        },
        "outputId": "858ba8b5-9f42-428b-d08b-88ac5633344c"
      },
      "source": [
        "#Drop comment column, and groupby username\n",
        "users_score.drop(columns=['Comment'], inplace=True)\n",
        "users_score.head()"
      ],
      "execution_count": 45,
      "outputs": [
        {
          "output_type": "execute_result",
          "data": {
            "text/html": [
              "<div>\n",
              "<style scoped>\n",
              "    .dataframe tbody tr th:only-of-type {\n",
              "        vertical-align: middle;\n",
              "    }\n",
              "\n",
              "    .dataframe tbody tr th {\n",
              "        vertical-align: top;\n",
              "    }\n",
              "\n",
              "    .dataframe thead th {\n",
              "        text-align: right;\n",
              "    }\n",
              "</style>\n",
              "<table border=\"1\" class=\"dataframe\">\n",
              "  <thead>\n",
              "    <tr style=\"text-align: right;\">\n",
              "      <th></th>\n",
              "      <th>Username</th>\n",
              "      <th>Saltiness</th>\n",
              "    </tr>\n",
              "  </thead>\n",
              "  <tbody>\n",
              "    <tr>\n",
              "      <th>36228</th>\n",
              "      <td>001sky</td>\n",
              "      <td>0.0000</td>\n",
              "    </tr>\n",
              "    <tr>\n",
              "      <th>40512</th>\n",
              "      <td>001sky</td>\n",
              "      <td>-0.5956</td>\n",
              "    </tr>\n",
              "    <tr>\n",
              "      <th>2880</th>\n",
              "      <td>001sky</td>\n",
              "      <td>0.0000</td>\n",
              "    </tr>\n",
              "    <tr>\n",
              "      <th>427</th>\n",
              "      <td>001sky</td>\n",
              "      <td>0.2942</td>\n",
              "    </tr>\n",
              "    <tr>\n",
              "      <th>30998</th>\n",
              "      <td>001sky</td>\n",
              "      <td>0.8908</td>\n",
              "    </tr>\n",
              "  </tbody>\n",
              "</table>\n",
              "</div>"
            ],
            "text/plain": [
              "      Username  Saltiness\n",
              "36228   001sky     0.0000\n",
              "40512   001sky    -0.5956\n",
              "2880    001sky     0.0000\n",
              "427     001sky     0.2942\n",
              "30998   001sky     0.8908"
            ]
          },
          "metadata": {
            "tags": []
          },
          "execution_count": 45
        }
      ]
    },
    {
      "cell_type": "code",
      "metadata": {
        "id": "V_TicLXOqFlG",
        "colab_type": "code",
        "colab": {
          "base_uri": "https://localhost:8080/",
          "height": 197
        },
        "outputId": "ccfba42b-22ab-438e-cca3-22bac041a04d"
      },
      "source": [
        "users_score.head()"
      ],
      "execution_count": 47,
      "outputs": [
        {
          "output_type": "execute_result",
          "data": {
            "text/html": [
              "<div>\n",
              "<style scoped>\n",
              "    .dataframe tbody tr th:only-of-type {\n",
              "        vertical-align: middle;\n",
              "    }\n",
              "\n",
              "    .dataframe tbody tr th {\n",
              "        vertical-align: top;\n",
              "    }\n",
              "\n",
              "    .dataframe thead th {\n",
              "        text-align: right;\n",
              "    }\n",
              "</style>\n",
              "<table border=\"1\" class=\"dataframe\">\n",
              "  <thead>\n",
              "    <tr style=\"text-align: right;\">\n",
              "      <th></th>\n",
              "      <th>Username</th>\n",
              "      <th>Saltiness</th>\n",
              "    </tr>\n",
              "  </thead>\n",
              "  <tbody>\n",
              "    <tr>\n",
              "      <th>36228</th>\n",
              "      <td>001sky</td>\n",
              "      <td>0.0000</td>\n",
              "    </tr>\n",
              "    <tr>\n",
              "      <th>40512</th>\n",
              "      <td>001sky</td>\n",
              "      <td>-0.5956</td>\n",
              "    </tr>\n",
              "    <tr>\n",
              "      <th>2880</th>\n",
              "      <td>001sky</td>\n",
              "      <td>0.0000</td>\n",
              "    </tr>\n",
              "    <tr>\n",
              "      <th>427</th>\n",
              "      <td>001sky</td>\n",
              "      <td>0.2942</td>\n",
              "    </tr>\n",
              "    <tr>\n",
              "      <th>30998</th>\n",
              "      <td>001sky</td>\n",
              "      <td>0.8908</td>\n",
              "    </tr>\n",
              "  </tbody>\n",
              "</table>\n",
              "</div>"
            ],
            "text/plain": [
              "      Username  Saltiness\n",
              "36228   001sky     0.0000\n",
              "40512   001sky    -0.5956\n",
              "2880    001sky     0.0000\n",
              "427     001sky     0.2942\n",
              "30998   001sky     0.8908"
            ]
          },
          "metadata": {
            "tags": []
          },
          "execution_count": 47
        }
      ]
    },
    {
      "cell_type": "code",
      "metadata": {
        "id": "nqli1NB9_OjT",
        "colab_type": "code",
        "colab": {}
      },
      "source": [
        "users_score.groupby('Username', as_index=False)['Saltiness'].mean()"
      ],
      "execution_count": null,
      "outputs": []
    },
    {
      "cell_type": "code",
      "metadata": {
        "id": "uzFLl2OL91Hw",
        "colab_type": "code",
        "colab": {}
      },
      "source": [
        "#users_score = users_score.set_index('Username')"
      ],
      "execution_count": 56,
      "outputs": []
    },
    {
      "cell_type": "code",
      "metadata": {
        "id": "ETzpVnAUrPJU",
        "colab_type": "code",
        "colab": {}
      },
      "source": [
        "#users_score = users_score.groupby('Username').sum()"
      ],
      "execution_count": 67,
      "outputs": []
    },
    {
      "cell_type": "code",
      "metadata": {
        "id": "WF_Zv_W7-IuJ",
        "colab_type": "code",
        "colab": {
          "base_uri": "https://localhost:8080/",
          "height": 227
        },
        "outputId": "4c098474-2491-4065-c7b1-45b2f9443f64"
      },
      "source": [
        "users_score.head()"
      ],
      "execution_count": 58,
      "outputs": [
        {
          "output_type": "execute_result",
          "data": {
            "text/html": [
              "<div>\n",
              "<style scoped>\n",
              "    .dataframe tbody tr th:only-of-type {\n",
              "        vertical-align: middle;\n",
              "    }\n",
              "\n",
              "    .dataframe tbody tr th {\n",
              "        vertical-align: top;\n",
              "    }\n",
              "\n",
              "    .dataframe thead th {\n",
              "        text-align: right;\n",
              "    }\n",
              "</style>\n",
              "<table border=\"1\" class=\"dataframe\">\n",
              "  <thead>\n",
              "    <tr style=\"text-align: right;\">\n",
              "      <th></th>\n",
              "      <th>Saltiness</th>\n",
              "    </tr>\n",
              "    <tr>\n",
              "      <th>Username</th>\n",
              "      <th></th>\n",
              "    </tr>\n",
              "  </thead>\n",
              "  <tbody>\n",
              "    <tr>\n",
              "      <th>001sky</th>\n",
              "      <td>-0.6138</td>\n",
              "    </tr>\n",
              "    <tr>\n",
              "      <th>Alex3917</th>\n",
              "      <td>15.0743</td>\n",
              "    </tr>\n",
              "    <tr>\n",
              "      <th>AndrewKemendo</th>\n",
              "      <td>12.1152</td>\n",
              "    </tr>\n",
              "    <tr>\n",
              "      <th>AnimalMuppet</th>\n",
              "      <td>10.3761</td>\n",
              "    </tr>\n",
              "    <tr>\n",
              "      <th>Animats</th>\n",
              "      <td>6.5789</td>\n",
              "    </tr>\n",
              "  </tbody>\n",
              "</table>\n",
              "</div>"
            ],
            "text/plain": [
              "               Saltiness\n",
              "Username                \n",
              "001sky           -0.6138\n",
              "Alex3917         15.0743\n",
              "AndrewKemendo    12.1152\n",
              "AnimalMuppet     10.3761\n",
              "Animats           6.5789"
            ]
          },
          "metadata": {
            "tags": []
          },
          "execution_count": 58
        }
      ]
    },
    {
      "cell_type": "code",
      "metadata": {
        "id": "zXnFaf-s9re6",
        "colab_type": "code",
        "colab": {}
      },
      "source": [
        "users_score = users_score.reset_index()"
      ],
      "execution_count": 61,
      "outputs": []
    },
    {
      "cell_type": "code",
      "metadata": {
        "id": "vIJq4f_QKZjd",
        "colab_type": "code",
        "colab": {
          "base_uri": "https://localhost:8080/",
          "height": 197
        },
        "outputId": "0901a8cc-8d8e-4d78-bb9a-cca180c81616"
      },
      "source": [
        "#Convert Saltiness column to percent\n",
        "#users_score['Saltiness']=users_score['Saltiness'].apply('{:.0%}'.format) \n",
        "#users_score.head()"
      ],
      "execution_count": 64,
      "outputs": [
        {
          "output_type": "execute_result",
          "data": {
            "text/html": [
              "<div>\n",
              "<style scoped>\n",
              "    .dataframe tbody tr th:only-of-type {\n",
              "        vertical-align: middle;\n",
              "    }\n",
              "\n",
              "    .dataframe tbody tr th {\n",
              "        vertical-align: top;\n",
              "    }\n",
              "\n",
              "    .dataframe thead th {\n",
              "        text-align: right;\n",
              "    }\n",
              "</style>\n",
              "<table border=\"1\" class=\"dataframe\">\n",
              "  <thead>\n",
              "    <tr style=\"text-align: right;\">\n",
              "      <th></th>\n",
              "      <th>Username</th>\n",
              "      <th>Saltiness</th>\n",
              "    </tr>\n",
              "  </thead>\n",
              "  <tbody>\n",
              "    <tr>\n",
              "      <th>0</th>\n",
              "      <td>001sky</td>\n",
              "      <td>-61%</td>\n",
              "    </tr>\n",
              "    <tr>\n",
              "      <th>1</th>\n",
              "      <td>Alex3917</td>\n",
              "      <td>1507%</td>\n",
              "    </tr>\n",
              "    <tr>\n",
              "      <th>2</th>\n",
              "      <td>AndrewKemendo</td>\n",
              "      <td>1212%</td>\n",
              "    </tr>\n",
              "    <tr>\n",
              "      <th>3</th>\n",
              "      <td>AnimalMuppet</td>\n",
              "      <td>1038%</td>\n",
              "    </tr>\n",
              "    <tr>\n",
              "      <th>4</th>\n",
              "      <td>Animats</td>\n",
              "      <td>658%</td>\n",
              "    </tr>\n",
              "  </tbody>\n",
              "</table>\n",
              "</div>"
            ],
            "text/plain": [
              "        Username Saltiness\n",
              "0         001sky      -61%\n",
              "1       Alex3917     1507%\n",
              "2  AndrewKemendo     1212%\n",
              "3   AnimalMuppet     1038%\n",
              "4        Animats      658%"
            ]
          },
          "metadata": {
            "tags": []
          },
          "execution_count": 64
        }
      ]
    },
    {
      "cell_type": "code",
      "metadata": {
        "id": "ynco5Gjj-Daw",
        "colab_type": "code",
        "colab": {
          "base_uri": "https://localhost:8080/",
          "height": 977
        },
        "outputId": "03a94590-dc8a-41b1-a37e-0599fc44f125"
      },
      "source": [
        "users_score.head(30)"
      ],
      "execution_count": 68,
      "outputs": [
        {
          "output_type": "execute_result",
          "data": {
            "text/html": [
              "<div>\n",
              "<style scoped>\n",
              "    .dataframe tbody tr th:only-of-type {\n",
              "        vertical-align: middle;\n",
              "    }\n",
              "\n",
              "    .dataframe tbody tr th {\n",
              "        vertical-align: top;\n",
              "    }\n",
              "\n",
              "    .dataframe thead th {\n",
              "        text-align: right;\n",
              "    }\n",
              "</style>\n",
              "<table border=\"1\" class=\"dataframe\">\n",
              "  <thead>\n",
              "    <tr style=\"text-align: right;\">\n",
              "      <th></th>\n",
              "      <th>Saltiness</th>\n",
              "    </tr>\n",
              "    <tr>\n",
              "      <th>Username</th>\n",
              "      <th></th>\n",
              "    </tr>\n",
              "  </thead>\n",
              "  <tbody>\n",
              "    <tr>\n",
              "      <th>001sky</th>\n",
              "      <td>-61%</td>\n",
              "    </tr>\n",
              "    <tr>\n",
              "      <th>Alex3917</th>\n",
              "      <td>1507%</td>\n",
              "    </tr>\n",
              "    <tr>\n",
              "      <th>AndrewKemendo</th>\n",
              "      <td>1212%</td>\n",
              "    </tr>\n",
              "    <tr>\n",
              "      <th>AnimalMuppet</th>\n",
              "      <td>1038%</td>\n",
              "    </tr>\n",
              "    <tr>\n",
              "      <th>Animats</th>\n",
              "      <td>658%</td>\n",
              "    </tr>\n",
              "    <tr>\n",
              "      <th>Anon84</th>\n",
              "      <td>689%</td>\n",
              "    </tr>\n",
              "    <tr>\n",
              "      <th>AnthonyMouse</th>\n",
              "      <td>1708%</td>\n",
              "    </tr>\n",
              "    <tr>\n",
              "      <th>Apocryphon</th>\n",
              "      <td>551%</td>\n",
              "    </tr>\n",
              "    <tr>\n",
              "      <th>AstralStorm</th>\n",
              "      <td>117%</td>\n",
              "    </tr>\n",
              "    <tr>\n",
              "      <th>BurningFrog</th>\n",
              "      <td>807%</td>\n",
              "    </tr>\n",
              "    <tr>\n",
              "      <th>CamperBob2</th>\n",
              "      <td>1000%</td>\n",
              "    </tr>\n",
              "    <tr>\n",
              "      <th>ChuckMcM</th>\n",
              "      <td>9390%</td>\n",
              "    </tr>\n",
              "    <tr>\n",
              "      <th>ColinWright</th>\n",
              "      <td>3563%</td>\n",
              "    </tr>\n",
              "    <tr>\n",
              "      <th>ComputerGuru</th>\n",
              "      <td>2001%</td>\n",
              "    </tr>\n",
              "    <tr>\n",
              "      <th>Cthulhu_</th>\n",
              "      <td>653%</td>\n",
              "    </tr>\n",
              "    <tr>\n",
              "      <th>CydeWeys</th>\n",
              "      <td>770%</td>\n",
              "    </tr>\n",
              "    <tr>\n",
              "      <th>DanBC</th>\n",
              "      <td>-3485%</td>\n",
              "    </tr>\n",
              "    <tr>\n",
              "      <th>DanielBMarkham</th>\n",
              "      <td>4436%</td>\n",
              "    </tr>\n",
              "    <tr>\n",
              "      <th>DanielRibeiro</th>\n",
              "      <td>808%</td>\n",
              "    </tr>\n",
              "    <tr>\n",
              "      <th>DannyBee</th>\n",
              "      <td>1740%</td>\n",
              "    </tr>\n",
              "    <tr>\n",
              "      <th>DenisM</th>\n",
              "      <td>1553%</td>\n",
              "    </tr>\n",
              "    <tr>\n",
              "      <th>DennisP</th>\n",
              "      <td>1954%</td>\n",
              "    </tr>\n",
              "    <tr>\n",
              "      <th>DiabloD3</th>\n",
              "      <td>-144%</td>\n",
              "    </tr>\n",
              "    <tr>\n",
              "      <th>DonHopkins</th>\n",
              "      <td>1470%</td>\n",
              "    </tr>\n",
              "    <tr>\n",
              "      <th>DoreenMichele</th>\n",
              "      <td>1761%</td>\n",
              "    </tr>\n",
              "    <tr>\n",
              "      <th>DrScump</th>\n",
              "      <td>756%</td>\n",
              "    </tr>\n",
              "    <tr>\n",
              "      <th>Dylan16807</th>\n",
              "      <td>-122%</td>\n",
              "    </tr>\n",
              "    <tr>\n",
              "      <th>DyslexicAtheist</th>\n",
              "      <td>227%</td>\n",
              "    </tr>\n",
              "    <tr>\n",
              "      <th>EGreg</th>\n",
              "      <td>3557%</td>\n",
              "    </tr>\n",
              "    <tr>\n",
              "      <th>ErrantX</th>\n",
              "      <td>1261%</td>\n",
              "    </tr>\n",
              "  </tbody>\n",
              "</table>\n",
              "</div>"
            ],
            "text/plain": [
              "                Saltiness\n",
              "Username                 \n",
              "001sky               -61%\n",
              "Alex3917            1507%\n",
              "AndrewKemendo       1212%\n",
              "AnimalMuppet        1038%\n",
              "Animats              658%\n",
              "Anon84               689%\n",
              "AnthonyMouse        1708%\n",
              "Apocryphon           551%\n",
              "AstralStorm          117%\n",
              "BurningFrog          807%\n",
              "CamperBob2          1000%\n",
              "ChuckMcM            9390%\n",
              "ColinWright         3563%\n",
              "ComputerGuru        2001%\n",
              "Cthulhu_             653%\n",
              "CydeWeys             770%\n",
              "DanBC              -3485%\n",
              "DanielBMarkham      4436%\n",
              "DanielRibeiro        808%\n",
              "DannyBee            1740%\n",
              "DenisM              1553%\n",
              "DennisP             1954%\n",
              "DiabloD3            -144%\n",
              "DonHopkins          1470%\n",
              "DoreenMichele       1761%\n",
              "DrScump              756%\n",
              "Dylan16807          -122%\n",
              "DyslexicAtheist      227%\n",
              "EGreg               3557%\n",
              "ErrantX             1261%"
            ]
          },
          "metadata": {
            "tags": []
          },
          "execution_count": 68
        }
      ]
    },
    {
      "cell_type": "code",
      "metadata": {
        "id": "cLTPzJqI-hPe",
        "colab_type": "code",
        "colab": {}
      },
      "source": [
        ""
      ],
      "execution_count": null,
      "outputs": []
    }
  ]
}