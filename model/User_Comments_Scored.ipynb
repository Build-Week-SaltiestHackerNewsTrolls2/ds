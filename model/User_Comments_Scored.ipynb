{
  "nbformat": 4,
  "nbformat_minor": 0,
  "metadata": {
    "colab": {
      "name": "User_Comments_Scored",
      "provenance": [],
      "collapsed_sections": []
    },
    "kernelspec": {
      "name": "python3",
      "display_name": "Python 3"
    }
  },
  "cells": [
    {
      "cell_type": "markdown",
      "metadata": {
        "id": "qA3Z7OinelJI",
        "colab_type": "text"
      },
      "source": [
        "#Becca\n",
        "-----------------------"
      ]
    },
    {
      "cell_type": "code",
      "metadata": {
        "id": "U7W-91cgevws",
        "colab_type": "code",
        "colab": {}
      },
      "source": [
        "import sys, os\n",
        "cwd = os.getcwd()\n",
        "sys.path[0] = cwd[:cwd.rfind('/')]"
      ],
      "execution_count": null,
      "outputs": []
    },
    {
      "cell_type": "code",
      "metadata": {
        "id": "MTYzQH2Ve7bu",
        "colab_type": "code",
        "colab": {}
      },
      "source": [
        "#Imports\n",
        "import os\n",
        "import numpy as np\n",
        "import pandas as pd\n",
        "\n",
        "from google.cloud import bigquery\n",
        "from vaderSentiment.vaderSentiment import SentimentIntensityAnalyzer"
      ],
      "execution_count": null,
      "outputs": []
    },
    {
      "cell_type": "code",
      "metadata": {
        "id": "KpplHnXMburx",
        "colab_type": "code",
        "colab": {}
      },
      "source": [
        "#Google cloud credentials\n",
        "os.environ['GOOGLE_APPLICATION_CREDENTIALS']='/content/Saltiest HN Trolls.json'\n",
        "\n",
        "# Create a \"Client\" object\n",
        "client = bigquery.Client()\n",
        "\n",
        "# Bigquery dataset reference\n",
        "hn_ref = client.dataset('hacker_news', project='hn-dataset')"
      ],
      "execution_count": null,
      "outputs": []
    },
    {
      "cell_type": "code",
      "metadata": {
        "id": "-B3MeaRXegz3",
        "colab_type": "code",
        "colab": {}
      },
      "source": [
        "# Run SQL query to obtain filtered table\n",
        "query_string = \"\"\"\n",
        "SELECT C.by\n",
        "FROM (\n",
        "  SELECT A.by, COUNT(*) AS count\n",
        "  FROM `bigquery-public-data.hacker_news.full` AS A\n",
        "  GROUP BY A.by\n",
        "  ORDER BY count DESC\n",
        "  LIMIT 100\n",
        ") AS C\n",
        "WHERE C.by != \"None\"\n",
        "\"\"\"\n",
        "\n",
        "frequent_users = client.query(query_string).result().to_dataframe()"
      ],
      "execution_count": null,
      "outputs": []
    },
    {
      "cell_type": "code",
      "metadata": {
        "id": "vXH7ZcSIequc",
        "colab_type": "code",
        "colab": {}
      },
      "source": [
        "# This is a triple-nested query that gets a number of comments made only by the most\n",
        "# frequent users.  Change the \"LIMIT XXX\" part of the inner-most query to tune the\n",
        "# number of users.  Change the outermost \"LIMIT YYY\" to change the total number of comments.\n",
        "query_string = \"\"\"\n",
        "SELECT *\n",
        "FROM `bigquery-public-data.hacker_news.full` AS A\n",
        "WHERE A.by IN (\n",
        "  SELECT C.by\n",
        "  FROM (\n",
        "    SELECT A.by, COUNT(*) AS count\n",
        "    FROM `bigquery-public-data.hacker_news.full` AS A\n",
        "    GROUP BY A.by\n",
        "    ORDER BY count DESC\n",
        "    LIMIT 500\n",
        "  ) AS C\n",
        "  WHERE C.by != \"None\"\n",
        ")\n",
        "LIMIT 50000\n",
        "\"\"\"\n",
        "\n",
        "df = client.query(query_string).result().to_dataframe()"
      ],
      "execution_count": null,
      "outputs": []
    },
    {
      "cell_type": "code",
      "metadata": {
        "id": "mPRJh1h1evaJ",
        "colab_type": "code",
        "colab": {
          "base_uri": "https://localhost:8080/",
          "height": 876
        },
        "outputId": "275b837a-3c51-4c53-d0c0-e6ffd89693a2"
      },
      "source": [
        "# filter out by type (keep story and comment)\n",
        "df[(df['type'] == 'story') | (df['type'] == 'comment')]"
      ],
      "execution_count": null,
      "outputs": [
        {
          "output_type": "execute_result",
          "data": {
            "text/html": [
              "<div>\n",
              "<style scoped>\n",
              "    .dataframe tbody tr th:only-of-type {\n",
              "        vertical-align: middle;\n",
              "    }\n",
              "\n",
              "    .dataframe tbody tr th {\n",
              "        vertical-align: top;\n",
              "    }\n",
              "\n",
              "    .dataframe thead th {\n",
              "        text-align: right;\n",
              "    }\n",
              "</style>\n",
              "<table border=\"1\" class=\"dataframe\">\n",
              "  <thead>\n",
              "    <tr style=\"text-align: right;\">\n",
              "      <th></th>\n",
              "      <th>title</th>\n",
              "      <th>url</th>\n",
              "      <th>text</th>\n",
              "      <th>dead</th>\n",
              "      <th>by</th>\n",
              "      <th>score</th>\n",
              "      <th>time</th>\n",
              "      <th>timestamp</th>\n",
              "      <th>type</th>\n",
              "      <th>id</th>\n",
              "      <th>parent</th>\n",
              "      <th>descendants</th>\n",
              "      <th>ranking</th>\n",
              "      <th>deleted</th>\n",
              "    </tr>\n",
              "  </thead>\n",
              "  <tbody>\n",
              "    <tr>\n",
              "      <th>0</th>\n",
              "      <td>None</td>\n",
              "      <td>None</td>\n",
              "      <td>Cannabis has never been &amp;#x27;completely legal...</td>\n",
              "      <td>None</td>\n",
              "      <td>roel_v</td>\n",
              "      <td>NaN</td>\n",
              "      <td>1551582184</td>\n",
              "      <td>2019-03-03 03:03:04+00:00</td>\n",
              "      <td>comment</td>\n",
              "      <td>19292438</td>\n",
              "      <td>19292418.0</td>\n",
              "      <td>NaN</td>\n",
              "      <td>None</td>\n",
              "      <td>None</td>\n",
              "    </tr>\n",
              "    <tr>\n",
              "      <th>1</th>\n",
              "      <td>Starlight - History Channel</td>\n",
              "      <td>https://www.youtube.com/watch?v=U5F_ptPX7_8</td>\n",
              "      <td>None</td>\n",
              "      <td>None</td>\n",
              "      <td>bane</td>\n",
              "      <td>1.0</td>\n",
              "      <td>1379672467</td>\n",
              "      <td>2013-09-20 10:21:07+00:00</td>\n",
              "      <td>story</td>\n",
              "      <td>6416876</td>\n",
              "      <td>NaN</td>\n",
              "      <td>0.0</td>\n",
              "      <td>None</td>\n",
              "      <td>None</td>\n",
              "    </tr>\n",
              "    <tr>\n",
              "      <th>2</th>\n",
              "      <td>Nepal bans solo, disabled and underaged climbe...</td>\n",
              "      <td>https://www.upi.com/Top_News/World-News/2017/1...</td>\n",
              "      <td>None</td>\n",
              "      <td>None</td>\n",
              "      <td>DoreenMichele</td>\n",
              "      <td>9.0</td>\n",
              "      <td>1514657287</td>\n",
              "      <td>2017-12-30 18:08:07+00:00</td>\n",
              "      <td>story</td>\n",
              "      <td>16036448</td>\n",
              "      <td>NaN</td>\n",
              "      <td>1.0</td>\n",
              "      <td>None</td>\n",
              "      <td>None</td>\n",
              "    </tr>\n",
              "    <tr>\n",
              "      <th>3</th>\n",
              "      <td>None</td>\n",
              "      <td>None</td>\n",
              "      <td>There are very few career mistakes that hurt y...</td>\n",
              "      <td>None</td>\n",
              "      <td>nostrademons</td>\n",
              "      <td>NaN</td>\n",
              "      <td>1306613116</td>\n",
              "      <td>2011-05-28 20:05:16+00:00</td>\n",
              "      <td>comment</td>\n",
              "      <td>2595097</td>\n",
              "      <td>2595030.0</td>\n",
              "      <td>NaN</td>\n",
              "      <td>None</td>\n",
              "      <td>None</td>\n",
              "    </tr>\n",
              "    <tr>\n",
              "      <th>4</th>\n",
              "      <td>None</td>\n",
              "      <td>None</td>\n",
              "      <td>I dunno, man. What do you enjoy?&lt;p&gt;Pick a proj...</td>\n",
              "      <td>None</td>\n",
              "      <td>bitwize</td>\n",
              "      <td>NaN</td>\n",
              "      <td>1548884795</td>\n",
              "      <td>2019-01-30 21:46:35+00:00</td>\n",
              "      <td>comment</td>\n",
              "      <td>19039896</td>\n",
              "      <td>19039016.0</td>\n",
              "      <td>NaN</td>\n",
              "      <td>None</td>\n",
              "      <td>None</td>\n",
              "    </tr>\n",
              "    <tr>\n",
              "      <th>...</th>\n",
              "      <td>...</td>\n",
              "      <td>...</td>\n",
              "      <td>...</td>\n",
              "      <td>...</td>\n",
              "      <td>...</td>\n",
              "      <td>...</td>\n",
              "      <td>...</td>\n",
              "      <td>...</td>\n",
              "      <td>...</td>\n",
              "      <td>...</td>\n",
              "      <td>...</td>\n",
              "      <td>...</td>\n",
              "      <td>...</td>\n",
              "      <td>...</td>\n",
              "    </tr>\n",
              "    <tr>\n",
              "      <th>49995</th>\n",
              "      <td>None</td>\n",
              "      <td>None</td>\n",
              "      <td>In a recent job I ended up rewriting some of t...</td>\n",
              "      <td>None</td>\n",
              "      <td>grandalf</td>\n",
              "      <td>NaN</td>\n",
              "      <td>1434989168</td>\n",
              "      <td>2015-06-22 16:06:08+00:00</td>\n",
              "      <td>comment</td>\n",
              "      <td>9759256</td>\n",
              "      <td>9757892.0</td>\n",
              "      <td>NaN</td>\n",
              "      <td>None</td>\n",
              "      <td>None</td>\n",
              "    </tr>\n",
              "    <tr>\n",
              "      <th>49996</th>\n",
              "      <td>None</td>\n",
              "      <td>None</td>\n",
              "      <td>I would argue that the American right and Brit...</td>\n",
              "      <td>None</td>\n",
              "      <td>humanrebar</td>\n",
              "      <td>NaN</td>\n",
              "      <td>1360328326</td>\n",
              "      <td>2013-02-08 12:58:46+00:00</td>\n",
              "      <td>comment</td>\n",
              "      <td>5187597</td>\n",
              "      <td>5187474.0</td>\n",
              "      <td>NaN</td>\n",
              "      <td>None</td>\n",
              "      <td>None</td>\n",
              "    </tr>\n",
              "    <tr>\n",
              "      <th>49997</th>\n",
              "      <td>None</td>\n",
              "      <td>None</td>\n",
              "      <td>Back in the late 1990s, my team's SourceSafe r...</td>\n",
              "      <td>None</td>\n",
              "      <td>cpeterso</td>\n",
              "      <td>NaN</td>\n",
              "      <td>1324150520</td>\n",
              "      <td>2011-12-17 19:35:20+00:00</td>\n",
              "      <td>comment</td>\n",
              "      <td>3364921</td>\n",
              "      <td>3364603.0</td>\n",
              "      <td>NaN</td>\n",
              "      <td>None</td>\n",
              "      <td>None</td>\n",
              "    </tr>\n",
              "    <tr>\n",
              "      <th>49998</th>\n",
              "      <td>None</td>\n",
              "      <td>None</td>\n",
              "      <td>We all see how well &amp;quot;feeling safe is the ...</td>\n",
              "      <td>None</td>\n",
              "      <td>mschuster91</td>\n",
              "      <td>NaN</td>\n",
              "      <td>1444137331</td>\n",
              "      <td>2015-10-06 13:15:31+00:00</td>\n",
              "      <td>comment</td>\n",
              "      <td>10338606</td>\n",
              "      <td>10338572.0</td>\n",
              "      <td>NaN</td>\n",
              "      <td>None</td>\n",
              "      <td>None</td>\n",
              "    </tr>\n",
              "    <tr>\n",
              "      <th>49999</th>\n",
              "      <td>None</td>\n",
              "      <td>None</td>\n",
              "      <td>&amp;gt; These things only work if everyone is usi...</td>\n",
              "      <td>None</td>\n",
              "      <td>Someone1234</td>\n",
              "      <td>NaN</td>\n",
              "      <td>1524510997</td>\n",
              "      <td>2018-04-23 19:16:37+00:00</td>\n",
              "      <td>comment</td>\n",
              "      <td>16906501</td>\n",
              "      <td>16905513.0</td>\n",
              "      <td>NaN</td>\n",
              "      <td>None</td>\n",
              "      <td>None</td>\n",
              "    </tr>\n",
              "  </tbody>\n",
              "</table>\n",
              "<p>49969 rows × 14 columns</p>\n",
              "</div>"
            ],
            "text/plain": [
              "                                                   title  \\\n",
              "0                                                   None   \n",
              "1                            Starlight - History Channel   \n",
              "2      Nepal bans solo, disabled and underaged climbe...   \n",
              "3                                                   None   \n",
              "4                                                   None   \n",
              "...                                                  ...   \n",
              "49995                                               None   \n",
              "49996                                               None   \n",
              "49997                                               None   \n",
              "49998                                               None   \n",
              "49999                                               None   \n",
              "\n",
              "                                                     url  \\\n",
              "0                                                   None   \n",
              "1            https://www.youtube.com/watch?v=U5F_ptPX7_8   \n",
              "2      https://www.upi.com/Top_News/World-News/2017/1...   \n",
              "3                                                   None   \n",
              "4                                                   None   \n",
              "...                                                  ...   \n",
              "49995                                               None   \n",
              "49996                                               None   \n",
              "49997                                               None   \n",
              "49998                                               None   \n",
              "49999                                               None   \n",
              "\n",
              "                                                    text  dead             by  \\\n",
              "0      Cannabis has never been &#x27;completely legal...  None         roel_v   \n",
              "1                                                   None  None           bane   \n",
              "2                                                   None  None  DoreenMichele   \n",
              "3      There are very few career mistakes that hurt y...  None   nostrademons   \n",
              "4      I dunno, man. What do you enjoy?<p>Pick a proj...  None        bitwize   \n",
              "...                                                  ...   ...            ...   \n",
              "49995  In a recent job I ended up rewriting some of t...  None       grandalf   \n",
              "49996  I would argue that the American right and Brit...  None     humanrebar   \n",
              "49997  Back in the late 1990s, my team's SourceSafe r...  None       cpeterso   \n",
              "49998  We all see how well &quot;feeling safe is the ...  None    mschuster91   \n",
              "49999  &gt; These things only work if everyone is usi...  None    Someone1234   \n",
              "\n",
              "       score        time                 timestamp     type        id  \\\n",
              "0        NaN  1551582184 2019-03-03 03:03:04+00:00  comment  19292438   \n",
              "1        1.0  1379672467 2013-09-20 10:21:07+00:00    story   6416876   \n",
              "2        9.0  1514657287 2017-12-30 18:08:07+00:00    story  16036448   \n",
              "3        NaN  1306613116 2011-05-28 20:05:16+00:00  comment   2595097   \n",
              "4        NaN  1548884795 2019-01-30 21:46:35+00:00  comment  19039896   \n",
              "...      ...         ...                       ...      ...       ...   \n",
              "49995    NaN  1434989168 2015-06-22 16:06:08+00:00  comment   9759256   \n",
              "49996    NaN  1360328326 2013-02-08 12:58:46+00:00  comment   5187597   \n",
              "49997    NaN  1324150520 2011-12-17 19:35:20+00:00  comment   3364921   \n",
              "49998    NaN  1444137331 2015-10-06 13:15:31+00:00  comment  10338606   \n",
              "49999    NaN  1524510997 2018-04-23 19:16:37+00:00  comment  16906501   \n",
              "\n",
              "           parent  descendants ranking deleted  \n",
              "0      19292418.0          NaN    None    None  \n",
              "1             NaN          0.0    None    None  \n",
              "2             NaN          1.0    None    None  \n",
              "3       2595030.0          NaN    None    None  \n",
              "4      19039016.0          NaN    None    None  \n",
              "...           ...          ...     ...     ...  \n",
              "49995   9757892.0          NaN    None    None  \n",
              "49996   5187474.0          NaN    None    None  \n",
              "49997   3364603.0          NaN    None    None  \n",
              "49998  10338572.0          NaN    None    None  \n",
              "49999  16905513.0          NaN    None    None  \n",
              "\n",
              "[49969 rows x 14 columns]"
            ]
          },
          "metadata": {
            "tags": []
          },
          "execution_count": 72
        }
      ]
    },
    {
      "cell_type": "code",
      "metadata": {
        "id": "SgSTNtwOe1ko",
        "colab_type": "code",
        "colab": {}
      },
      "source": [
        "# drop some columns\n",
        "#drop title, has 447,218 null values \n",
        "#drop ranking, has 500000 null values\n",
        "#drop score, has 446968 null values \n",
        "clean_df = df.drop(['time', 'descendants', 'deleted', 'url', 'dead', 'title', 'ranking', 'score'], axis=1)"
      ],
      "execution_count": null,
      "outputs": []
    },
    {
      "cell_type": "code",
      "metadata": {
        "id": "4-YceCJ_e9qd",
        "colab_type": "code",
        "colab": {}
      },
      "source": [
        "#only 507 comments with 5 characters or less, upon analysis doesn't look like they provide much context, \n",
        "#not helpful for model analysis so drop comments with 5 words or less\n",
        "\n",
        "# take only the rows whose text column's length is greater than five\n",
        "# this also removes the texts that are None\n",
        "clean_df = clean_df[clean_df['text'].str.len() > 5]"
      ],
      "execution_count": null,
      "outputs": []
    },
    {
      "cell_type": "code",
      "metadata": {
        "id": "Lj_cTRVdfMa8",
        "colab_type": "code",
        "colab": {}
      },
      "source": [
        "# Use BS on a single piece of text to remove strange chars and URLs and tags\n",
        "from bs4 import BeautifulSoup\n",
        "\n",
        "def clean_soup(text):\n",
        "    # make a soup - this takes care of strange characters\n",
        "    soup = BeautifulSoup(text, \"html.parser\")\n",
        "\n",
        "    # delete <a> tags as they contain URLs -- remember <a href=\"url_here\">\n",
        "    # tags contain URLs\n",
        "    for s in soup.select('a'):\n",
        "       s.extract()\n",
        "\n",
        "    # the soup contains <p> tags -- here we get rid of those and join them with spaces\n",
        "    strings = soup.find_all(text=True, recursive=True)\n",
        "    result = ' '.join(strings)\n",
        "\n",
        "    return result"
      ],
      "execution_count": null,
      "outputs": []
    },
    {
      "cell_type": "code",
      "metadata": {
        "id": "iVVIxD63fO3O",
        "colab_type": "code",
        "colab": {
          "base_uri": "https://localhost:8080/",
          "height": 72
        },
        "outputId": "e9b99839-e64f-4583-f651-7b1e4c59c1e0"
      },
      "source": [
        "# Apply that to each comment/story text\n",
        "clean_text = clean_df['text'].apply(clean_soup)"
      ],
      "execution_count": null,
      "outputs": [
        {
          "output_type": "stream",
          "text": [
            "/usr/local/lib/python3.6/dist-packages/bs4/__init__.py:336: UserWarning: \"http:&#x2F;&#x2F;www.dailymail.co.uk&#x2F;news&#x2F;article-2579955&#x2F;US-officials-convinced-two-separate-communications-systems-Malaysian-jet-DELIBERATELY-shut-14-minutes-apart-emerges-aircraft-pinging-FIVE-hours-vanished-flying.html\" looks like a URL. Beautiful Soup is not an HTTP client. You should probably use an HTTP client like requests to get the document behind the URL, and feed that document to Beautiful Soup.\n",
            "  ' that document to Beautiful Soup.' % decoded_markup\n"
          ],
          "name": "stderr"
        }
      ]
    },
    {
      "cell_type": "code",
      "metadata": {
        "id": "F84misiHfSaH",
        "colab_type": "code",
        "colab": {}
      },
      "source": [
        "clean_df['text'] = clean_text"
      ],
      "execution_count": null,
      "outputs": []
    },
    {
      "cell_type": "code",
      "metadata": {
        "id": "y4LjcXi7fUzQ",
        "colab_type": "code",
        "colab": {
          "base_uri": "https://localhost:8080/",
          "height": 514
        },
        "outputId": "31f24563-564f-4e96-ac06-7c0f9ca88c46"
      },
      "source": [
        "import pandas as pd\n",
        "pd.options.display.max_colwidth = 100\n",
        "clean_df.sample(10)"
      ],
      "execution_count": null,
      "outputs": [
        {
          "output_type": "execute_result",
          "data": {
            "text/html": [
              "<div>\n",
              "<style scoped>\n",
              "    .dataframe tbody tr th:only-of-type {\n",
              "        vertical-align: middle;\n",
              "    }\n",
              "\n",
              "    .dataframe tbody tr th {\n",
              "        vertical-align: top;\n",
              "    }\n",
              "\n",
              "    .dataframe thead th {\n",
              "        text-align: right;\n",
              "    }\n",
              "</style>\n",
              "<table border=\"1\" class=\"dataframe\">\n",
              "  <thead>\n",
              "    <tr style=\"text-align: right;\">\n",
              "      <th></th>\n",
              "      <th>text</th>\n",
              "      <th>by</th>\n",
              "      <th>timestamp</th>\n",
              "      <th>type</th>\n",
              "      <th>id</th>\n",
              "      <th>parent</th>\n",
              "    </tr>\n",
              "  </thead>\n",
              "  <tbody>\n",
              "    <tr>\n",
              "      <th>31348</th>\n",
              "      <td>This assumes that people actually behave rationally. Indeed.  Just the idea that TP is the topic...</td>\n",
              "      <td>dhimes</td>\n",
              "      <td>2020-04-14 16:01:51+00:00</td>\n",
              "      <td>comment</td>\n",
              "      <td>22867582</td>\n",
              "      <td>22863905.0</td>\n",
              "    </tr>\n",
              "    <tr>\n",
              "      <th>33718</th>\n",
              "      <td>I don't think there's an unbiased opinion anywhere. I've tried to figure out what this \"classic ...</td>\n",
              "      <td>StavrosK</td>\n",
              "      <td>2016-02-28 17:17:44+00:00</td>\n",
              "      <td>comment</td>\n",
              "      <td>11191438</td>\n",
              "      <td>11191428.0</td>\n",
              "    </tr>\n",
              "    <tr>\n",
              "      <th>29121</th>\n",
              "      <td>Your comment started with the phrase \"anecdotal evidence\". Anecdotal evidence for what? Note: I ...</td>\n",
              "      <td>skrebbel</td>\n",
              "      <td>2020-01-05 12:24:14+00:00</td>\n",
              "      <td>comment</td>\n",
              "      <td>21960975</td>\n",
              "      <td>21960953.0</td>\n",
              "    </tr>\n",
              "    <tr>\n",
              "      <th>42953</th>\n",
              "      <td>Not sure exactly how duped this is for HN... For those that don't know.. Lua is a scripting lang...</td>\n",
              "      <td>tracker1</td>\n",
              "      <td>2013-03-16 19:29:31+00:00</td>\n",
              "      <td>comment</td>\n",
              "      <td>5386444</td>\n",
              "      <td>5386204.0</td>\n",
              "    </tr>\n",
              "    <tr>\n",
              "      <th>15501</th>\n",
              "      <td>Citation needed. That doesn't match my experience at all. When Activity Monitor shows high CPU i...</td>\n",
              "      <td>gowld</td>\n",
              "      <td>2020-06-08 17:02:48+00:00</td>\n",
              "      <td>comment</td>\n",
              "      <td>23458361</td>\n",
              "      <td>23454944.0</td>\n",
              "    </tr>\n",
              "    <tr>\n",
              "      <th>28917</th>\n",
              "      <td>He claims not doing any development himself for several years now, so I guess this means no.</td>\n",
              "      <td>ekianjo</td>\n",
              "      <td>2015-02-10 15:27:59+00:00</td>\n",
              "      <td>comment</td>\n",
              "      <td>9027652</td>\n",
              "      <td>9027554.0</td>\n",
              "    </tr>\n",
              "    <tr>\n",
              "      <th>3493</th>\n",
              "      <td>Indeed.  There were 5 classified types prior to this outbreak:  With the Zaire strain, now just ...</td>\n",
              "      <td>hga</td>\n",
              "      <td>2014-08-31 12:33:40+00:00</td>\n",
              "      <td>comment</td>\n",
              "      <td>8249162</td>\n",
              "      <td>8248249.0</td>\n",
              "    </tr>\n",
              "    <tr>\n",
              "      <th>998</th>\n",
              "      <td>An interesting follow-up paper:</td>\n",
              "      <td>MaysonL</td>\n",
              "      <td>2009-11-04 07:23:56+00:00</td>\n",
              "      <td>comment</td>\n",
              "      <td>921255</td>\n",
              "      <td>920368.0</td>\n",
              "    </tr>\n",
              "    <tr>\n",
              "      <th>47535</th>\n",
              "      <td>Just adding another plug for Econtalk.  They cover a lot of different topics and invite people t...</td>\n",
              "      <td>refurb</td>\n",
              "      <td>2017-09-29 00:36:30+00:00</td>\n",
              "      <td>comment</td>\n",
              "      <td>15361918</td>\n",
              "      <td>15361648.0</td>\n",
              "    </tr>\n",
              "    <tr>\n",
              "      <th>45370</th>\n",
              "      <td>I liked debugging more once I realized that the answer always comes as a surprise. Something you...</td>\n",
              "      <td>gruseom</td>\n",
              "      <td>2013-10-01 16:04:30+00:00</td>\n",
              "      <td>comment</td>\n",
              "      <td>6477010</td>\n",
              "      <td>6476811.0</td>\n",
              "    </tr>\n",
              "  </tbody>\n",
              "</table>\n",
              "</div>"
            ],
            "text/plain": [
              "                                                                                                      text  \\\n",
              "31348  This assumes that people actually behave rationally. Indeed.  Just the idea that TP is the topic...   \n",
              "33718  I don't think there's an unbiased opinion anywhere. I've tried to figure out what this \"classic ...   \n",
              "29121  Your comment started with the phrase \"anecdotal evidence\". Anecdotal evidence for what? Note: I ...   \n",
              "42953  Not sure exactly how duped this is for HN... For those that don't know.. Lua is a scripting lang...   \n",
              "15501  Citation needed. That doesn't match my experience at all. When Activity Monitor shows high CPU i...   \n",
              "28917         He claims not doing any development himself for several years now, so I guess this means no.   \n",
              "3493   Indeed.  There were 5 classified types prior to this outbreak:  With the Zaire strain, now just ...   \n",
              "998                                                                       An interesting follow-up paper:    \n",
              "47535  Just adding another plug for Econtalk.  They cover a lot of different topics and invite people t...   \n",
              "45370  I liked debugging more once I realized that the answer always comes as a surprise. Something you...   \n",
              "\n",
              "             by                 timestamp     type        id      parent  \n",
              "31348    dhimes 2020-04-14 16:01:51+00:00  comment  22867582  22863905.0  \n",
              "33718  StavrosK 2016-02-28 17:17:44+00:00  comment  11191438  11191428.0  \n",
              "29121  skrebbel 2020-01-05 12:24:14+00:00  comment  21960975  21960953.0  \n",
              "42953  tracker1 2013-03-16 19:29:31+00:00  comment   5386444   5386204.0  \n",
              "15501     gowld 2020-06-08 17:02:48+00:00  comment  23458361  23454944.0  \n",
              "28917   ekianjo 2015-02-10 15:27:59+00:00  comment   9027652   9027554.0  \n",
              "3493        hga 2014-08-31 12:33:40+00:00  comment   8249162   8248249.0  \n",
              "998     MaysonL 2009-11-04 07:23:56+00:00  comment    921255    920368.0  \n",
              "47535    refurb 2017-09-29 00:36:30+00:00  comment  15361918  15361648.0  \n",
              "45370   gruseom 2013-10-01 16:04:30+00:00  comment   6477010   6476811.0  "
            ]
          },
          "metadata": {
            "tags": []
          },
          "execution_count": 79
        }
      ]
    },
    {
      "cell_type": "code",
      "metadata": {
        "id": "sDqN-BfsfaAV",
        "colab_type": "code",
        "colab": {
          "base_uri": "https://localhost:8080/",
          "height": 141
        },
        "outputId": "0312528d-7265-4c36-8247-8e240ae33a21"
      },
      "source": [
        "#makes sense the parent would have some null values, if they are the first comment\n",
        "clean_df.isnull().sum()"
      ],
      "execution_count": null,
      "outputs": [
        {
          "output_type": "execute_result",
          "data": {
            "text/plain": [
              "text          0\n",
              "by            0\n",
              "timestamp     0\n",
              "type          0\n",
              "id            0\n",
              "parent       87\n",
              "dtype: int64"
            ]
          },
          "metadata": {
            "tags": []
          },
          "execution_count": 80
        }
      ]
    },
    {
      "cell_type": "markdown",
      "metadata": {
        "id": "ups7o9byeiJP",
        "colab_type": "text"
      },
      "source": [
        "#Pyrom\n",
        "---------------------"
      ]
    },
    {
      "cell_type": "code",
      "metadata": {
        "id": "U5EbwXhmfY-N",
        "colab_type": "code",
        "colab": {
          "base_uri": "https://localhost:8080/",
          "height": 143
        },
        "outputId": "6d3349e7-851e-4045-a86c-52b26c0120e1"
      },
      "source": [
        "pip install vaderSentiment"
      ],
      "execution_count": null,
      "outputs": [
        {
          "output_type": "stream",
          "text": [
            "Requirement already satisfied: vaderSentiment in /usr/local/lib/python3.6/dist-packages (3.3.2)\n",
            "Requirement already satisfied: requests in /usr/local/lib/python3.6/dist-packages (from vaderSentiment) (2.23.0)\n",
            "Requirement already satisfied: certifi>=2017.4.17 in /usr/local/lib/python3.6/dist-packages (from requests->vaderSentiment) (2020.4.5.2)\n",
            "Requirement already satisfied: idna<3,>=2.5 in /usr/local/lib/python3.6/dist-packages (from requests->vaderSentiment) (2.9)\n",
            "Requirement already satisfied: chardet<4,>=3.0.2 in /usr/local/lib/python3.6/dist-packages (from requests->vaderSentiment) (3.0.4)\n",
            "Requirement already satisfied: urllib3!=1.25.0,!=1.25.1,<1.26,>=1.21.1 in /usr/local/lib/python3.6/dist-packages (from requests->vaderSentiment) (1.24.3)\n"
          ],
          "name": "stdout"
        }
      ]
    },
    {
      "cell_type": "code",
      "metadata": {
        "id": "P6CJtMlAfL-V",
        "colab_type": "code",
        "colab": {}
      },
      "source": [
        "#Panda Settings\n",
        "pd.set_option('display.max_rows', 200)\n",
        "pd.set_option('display.max_columns', 200)"
      ],
      "execution_count": null,
      "outputs": []
    },
    {
      "cell_type": "code",
      "metadata": {
        "id": "96Qe98AefsfY",
        "colab_type": "code",
        "colab": {
          "base_uri": "https://localhost:8080/",
          "height": 197
        },
        "outputId": "ba310089-f02c-4d04-bbf7-895b64da748f"
      },
      "source": [
        "df = clean_df.drop(columns=['timestamp', 'type', 'id', 'parent'])\n",
        "df.head()"
      ],
      "execution_count": null,
      "outputs": [
        {
          "output_type": "execute_result",
          "data": {
            "text/html": [
              "<div>\n",
              "<style scoped>\n",
              "    .dataframe tbody tr th:only-of-type {\n",
              "        vertical-align: middle;\n",
              "    }\n",
              "\n",
              "    .dataframe tbody tr th {\n",
              "        vertical-align: top;\n",
              "    }\n",
              "\n",
              "    .dataframe thead th {\n",
              "        text-align: right;\n",
              "    }\n",
              "</style>\n",
              "<table border=\"1\" class=\"dataframe\">\n",
              "  <thead>\n",
              "    <tr style=\"text-align: right;\">\n",
              "      <th></th>\n",
              "      <th>text</th>\n",
              "      <th>by</th>\n",
              "    </tr>\n",
              "  </thead>\n",
              "  <tbody>\n",
              "    <tr>\n",
              "      <th>0</th>\n",
              "      <td>Cannabis has never been 'completely legal' anywhere in the Netherlands. It depends a bit though ...</td>\n",
              "      <td>roel_v</td>\n",
              "    </tr>\n",
              "    <tr>\n",
              "      <th>3</th>\n",
              "      <td>There are very few career mistakes that hurt you permanently, if you make an effort to recover f...</td>\n",
              "      <td>nostrademons</td>\n",
              "    </tr>\n",
              "    <tr>\n",
              "      <th>4</th>\n",
              "      <td>I dunno, man. What do you enjoy? Pick a project to work on in your free time. A game, an audio s...</td>\n",
              "      <td>bitwize</td>\n",
              "    </tr>\n",
              "    <tr>\n",
              "      <th>5</th>\n",
              "      <td>&gt; That's ignoring all the computing work done before C. And we can really ignore it software wis...</td>\n",
              "      <td>coldtea</td>\n",
              "    </tr>\n",
              "    <tr>\n",
              "      <th>8</th>\n",
              "      <td>Look, if you really want to debate this, I could try to defend what he said, but I will have to ...</td>\n",
              "      <td>thaumaturgy</td>\n",
              "    </tr>\n",
              "  </tbody>\n",
              "</table>\n",
              "</div>"
            ],
            "text/plain": [
              "                                                                                                  text  \\\n",
              "0  Cannabis has never been 'completely legal' anywhere in the Netherlands. It depends a bit though ...   \n",
              "3  There are very few career mistakes that hurt you permanently, if you make an effort to recover f...   \n",
              "4  I dunno, man. What do you enjoy? Pick a project to work on in your free time. A game, an audio s...   \n",
              "5  > That's ignoring all the computing work done before C. And we can really ignore it software wis...   \n",
              "8  Look, if you really want to debate this, I could try to defend what he said, but I will have to ...   \n",
              "\n",
              "             by  \n",
              "0        roel_v  \n",
              "3  nostrademons  \n",
              "4       bitwize  \n",
              "5       coldtea  \n",
              "8   thaumaturgy  "
            ]
          },
          "metadata": {
            "tags": []
          },
          "execution_count": 83
        }
      ]
    },
    {
      "cell_type": "code",
      "metadata": {
        "id": "wtV8bxo3htsV",
        "colab_type": "code",
        "colab": {}
      },
      "source": [
        "#Convert to string values\n",
        "df = df.astype(str)"
      ],
      "execution_count": null,
      "outputs": []
    },
    {
      "cell_type": "code",
      "metadata": {
        "id": "mvFg4L7lq_0r",
        "colab_type": "code",
        "colab": {
          "base_uri": "https://localhost:8080/",
          "height": 197
        },
        "outputId": "b0d9291d-a055-44b4-c794-7309c06aaa3f"
      },
      "source": [
        "df = df.drop(columns= ['Unnamed: 0', 'timestamp', 'type', 'id', 'parent'])\n",
        "df.head()"
      ],
      "execution_count": null,
      "outputs": [
        {
          "output_type": "execute_result",
          "data": {
            "text/html": [
              "<div>\n",
              "<style scoped>\n",
              "    .dataframe tbody tr th:only-of-type {\n",
              "        vertical-align: middle;\n",
              "    }\n",
              "\n",
              "    .dataframe tbody tr th {\n",
              "        vertical-align: top;\n",
              "    }\n",
              "\n",
              "    .dataframe thead th {\n",
              "        text-align: right;\n",
              "    }\n",
              "</style>\n",
              "<table border=\"1\" class=\"dataframe\">\n",
              "  <thead>\n",
              "    <tr style=\"text-align: right;\">\n",
              "      <th></th>\n",
              "      <th>text</th>\n",
              "      <th>by</th>\n",
              "    </tr>\n",
              "  </thead>\n",
              "  <tbody>\n",
              "    <tr>\n",
              "      <th>0</th>\n",
              "      <td>No indication of how large these programs are ...</td>\n",
              "      <td>pjc50</td>\n",
              "    </tr>\n",
              "    <tr>\n",
              "      <th>1</th>\n",
              "      <td>Well, if you want to obfuscate a constant stri...</td>\n",
              "      <td>thaumasiotes</td>\n",
              "    </tr>\n",
              "    <tr>\n",
              "      <th>2</th>\n",
              "      <td>Yeah, it's like how we had to stop using GIF a...</td>\n",
              "      <td>coldtea</td>\n",
              "    </tr>\n",
              "    <tr>\n",
              "      <th>3</th>\n",
              "      <td>Well duh; would wouldn't do X if X was afforda...</td>\n",
              "      <td>jodrellblank</td>\n",
              "    </tr>\n",
              "    <tr>\n",
              "      <th>4</th>\n",
              "      <td>What are the restrictions? Are you going to fi...</td>\n",
              "      <td>gus_massa</td>\n",
              "    </tr>\n",
              "  </tbody>\n",
              "</table>\n",
              "</div>"
            ],
            "text/plain": [
              "                                                text            by\n",
              "0  No indication of how large these programs are ...         pjc50\n",
              "1  Well, if you want to obfuscate a constant stri...  thaumasiotes\n",
              "2  Yeah, it's like how we had to stop using GIF a...       coldtea\n",
              "3  Well duh; would wouldn't do X if X was afforda...  jodrellblank\n",
              "4  What are the restrictions? Are you going to fi...     gus_massa"
            ]
          },
          "metadata": {
            "tags": []
          },
          "execution_count": 63
        }
      ]
    },
    {
      "cell_type": "code",
      "metadata": {
        "id": "PTkDWC3SfsRT",
        "colab_type": "code",
        "colab": {}
      },
      "source": [
        "#Slim out users with less than 1000 comments, more manageable, cuts data in half\n",
        "def slim(df):\n",
        "    \"\"\"\n",
        "    Slim out dataset to user with 1000 or more comments.\n",
        "\n",
        "    Returns a filtered dataframe.\n",
        "    \"\"\"\n",
        "\n",
        "    X = df.copy()\n",
        "    X = X.groupby('by').filter(lambda x: x['by'].count()<1000)\n",
        "\n",
        "    return X"
      ],
      "execution_count": null,
      "outputs": []
    },
    {
      "cell_type": "code",
      "metadata": {
        "id": "f5iApgE3u__P",
        "colab_type": "code",
        "colab": {
          "base_uri": "https://localhost:8080/",
          "height": 215
        },
        "outputId": "f0596c9b-7cdd-48fd-90f1-62188813cf8c"
      },
      "source": [
        "new_df = slim(df)\n",
        "print(new_df.shape)\n",
        "new_df.head()"
      ],
      "execution_count": null,
      "outputs": [
        {
          "output_type": "stream",
          "text": [
            "(44804, 2)\n"
          ],
          "name": "stdout"
        },
        {
          "output_type": "execute_result",
          "data": {
            "text/html": [
              "<div>\n",
              "<style scoped>\n",
              "    .dataframe tbody tr th:only-of-type {\n",
              "        vertical-align: middle;\n",
              "    }\n",
              "\n",
              "    .dataframe tbody tr th {\n",
              "        vertical-align: top;\n",
              "    }\n",
              "\n",
              "    .dataframe thead th {\n",
              "        text-align: right;\n",
              "    }\n",
              "</style>\n",
              "<table border=\"1\" class=\"dataframe\">\n",
              "  <thead>\n",
              "    <tr style=\"text-align: right;\">\n",
              "      <th></th>\n",
              "      <th>text</th>\n",
              "      <th>by</th>\n",
              "    </tr>\n",
              "  </thead>\n",
              "  <tbody>\n",
              "    <tr>\n",
              "      <th>0</th>\n",
              "      <td>Cannabis has never been 'completely legal' anywhere in the Netherlands. It depends a bit though ...</td>\n",
              "      <td>roel_v</td>\n",
              "    </tr>\n",
              "    <tr>\n",
              "      <th>3</th>\n",
              "      <td>There are very few career mistakes that hurt you permanently, if you make an effort to recover f...</td>\n",
              "      <td>nostrademons</td>\n",
              "    </tr>\n",
              "    <tr>\n",
              "      <th>4</th>\n",
              "      <td>I dunno, man. What do you enjoy? Pick a project to work on in your free time. A game, an audio s...</td>\n",
              "      <td>bitwize</td>\n",
              "    </tr>\n",
              "    <tr>\n",
              "      <th>5</th>\n",
              "      <td>&gt; That's ignoring all the computing work done before C. And we can really ignore it software wis...</td>\n",
              "      <td>coldtea</td>\n",
              "    </tr>\n",
              "    <tr>\n",
              "      <th>8</th>\n",
              "      <td>Look, if you really want to debate this, I could try to defend what he said, but I will have to ...</td>\n",
              "      <td>thaumaturgy</td>\n",
              "    </tr>\n",
              "  </tbody>\n",
              "</table>\n",
              "</div>"
            ],
            "text/plain": [
              "                                                                                                  text  \\\n",
              "0  Cannabis has never been 'completely legal' anywhere in the Netherlands. It depends a bit though ...   \n",
              "3  There are very few career mistakes that hurt you permanently, if you make an effort to recover f...   \n",
              "4  I dunno, man. What do you enjoy? Pick a project to work on in your free time. A game, an audio s...   \n",
              "5  > That's ignoring all the computing work done before C. And we can really ignore it software wis...   \n",
              "8  Look, if you really want to debate this, I could try to defend what he said, but I will have to ...   \n",
              "\n",
              "             by  \n",
              "0        roel_v  \n",
              "3  nostrademons  \n",
              "4       bitwize  \n",
              "5       coldtea  \n",
              "8   thaumaturgy  "
            ]
          },
          "metadata": {
            "tags": []
          },
          "execution_count": 86
        }
      ]
    },
    {
      "cell_type": "code",
      "metadata": {
        "id": "R6vrF0VLuXr3",
        "colab_type": "code",
        "colab": {}
      },
      "source": [
        "#Machine Learning, using VADER Sentiment Analysis\n",
        "\n",
        "def sentiment_score(comment):\n",
        "    analyser = SentimentIntensityAnalyzer()\n",
        "    \n",
        "    x = 0\n",
        "    score = analyser.polarity_scores(comment)\n",
        "    x = x + score['pos']\n",
        "    x = x + score['compound']\n",
        "    x = x - score['neg'] \n",
        "\n",
        "    return x"
      ],
      "execution_count": null,
      "outputs": []
    },
    {
      "cell_type": "code",
      "metadata": {
        "id": "3J02PQ8bBn4I",
        "colab_type": "code",
        "colab": {}
      },
      "source": [
        "#Apply function to each sample in 'text' column\n",
        "new_df['Saltiness'] = new_df['text'].apply(sentiment_score)"
      ],
      "execution_count": null,
      "outputs": []
    },
    {
      "cell_type": "code",
      "metadata": {
        "id": "ERTlFQsKXgwY",
        "colab_type": "code",
        "colab": {}
      },
      "source": [
        "#Convert Saltiness column to percent\n",
        "new_df['Saltiness']=new_df['Saltiness'].apply('{:.0%}'.format)"
      ],
      "execution_count": null,
      "outputs": []
    },
    {
      "cell_type": "code",
      "metadata": {
        "id": "3ICZb-mS5j82",
        "colab_type": "code",
        "colab": {
          "base_uri": "https://localhost:8080/",
          "height": 197
        },
        "outputId": "b250f664-e163-4f3f-8938-caf1b01c6936"
      },
      "source": [
        "#Moment of truth!\n",
        "new_df.head()"
      ],
      "execution_count": null,
      "outputs": [
        {
          "output_type": "execute_result",
          "data": {
            "text/html": [
              "<div>\n",
              "<style scoped>\n",
              "    .dataframe tbody tr th:only-of-type {\n",
              "        vertical-align: middle;\n",
              "    }\n",
              "\n",
              "    .dataframe tbody tr th {\n",
              "        vertical-align: top;\n",
              "    }\n",
              "\n",
              "    .dataframe thead th {\n",
              "        text-align: right;\n",
              "    }\n",
              "</style>\n",
              "<table border=\"1\" class=\"dataframe\">\n",
              "  <thead>\n",
              "    <tr style=\"text-align: right;\">\n",
              "      <th></th>\n",
              "      <th>text</th>\n",
              "      <th>by</th>\n",
              "      <th>Saltiness</th>\n",
              "    </tr>\n",
              "  </thead>\n",
              "  <tbody>\n",
              "    <tr>\n",
              "      <th>0</th>\n",
              "      <td>Cannabis has never been 'completely legal' anywhere in the Netherlands. It depends a bit though ...</td>\n",
              "      <td>roel_v</td>\n",
              "      <td>6%</td>\n",
              "    </tr>\n",
              "    <tr>\n",
              "      <th>3</th>\n",
              "      <td>There are very few career mistakes that hurt you permanently, if you make an effort to recover f...</td>\n",
              "      <td>nostrademons</td>\n",
              "      <td>29%</td>\n",
              "    </tr>\n",
              "    <tr>\n",
              "      <th>4</th>\n",
              "      <td>I dunno, man. What do you enjoy? Pick a project to work on in your free time. A game, an audio s...</td>\n",
              "      <td>bitwize</td>\n",
              "      <td>109%</td>\n",
              "    </tr>\n",
              "    <tr>\n",
              "      <th>5</th>\n",
              "      <td>&gt; That's ignoring all the computing work done before C. And we can really ignore it software wis...</td>\n",
              "      <td>coldtea</td>\n",
              "      <td>-42%</td>\n",
              "    </tr>\n",
              "    <tr>\n",
              "      <th>8</th>\n",
              "      <td>Look, if you really want to debate this, I could try to defend what he said, but I will have to ...</td>\n",
              "      <td>thaumaturgy</td>\n",
              "      <td>-105%</td>\n",
              "    </tr>\n",
              "  </tbody>\n",
              "</table>\n",
              "</div>"
            ],
            "text/plain": [
              "                                                                                                  text  \\\n",
              "0  Cannabis has never been 'completely legal' anywhere in the Netherlands. It depends a bit though ...   \n",
              "3  There are very few career mistakes that hurt you permanently, if you make an effort to recover f...   \n",
              "4  I dunno, man. What do you enjoy? Pick a project to work on in your free time. A game, an audio s...   \n",
              "5  > That's ignoring all the computing work done before C. And we can really ignore it software wis...   \n",
              "8  Look, if you really want to debate this, I could try to defend what he said, but I will have to ...   \n",
              "\n",
              "             by Saltiness  \n",
              "0        roel_v        6%  \n",
              "3  nostrademons       29%  \n",
              "4       bitwize      109%  \n",
              "5       coldtea      -42%  \n",
              "8   thaumaturgy     -105%  "
            ]
          },
          "metadata": {
            "tags": []
          },
          "execution_count": 90
        }
      ]
    },
    {
      "cell_type": "code",
      "metadata": {
        "id": "jfyyMlNMVrHc",
        "colab_type": "code",
        "colab": {}
      },
      "source": [
        "#Rename columns\n",
        "new_df.columns = ['Comment', 'Username', 'Saltiness']\n",
        "\n",
        "#Rearrange columns, sort by ranking\n",
        "order = ['Username', 'Comment', 'Saltiness']\n",
        "comments_score = new_df[order]"
      ],
      "execution_count": null,
      "outputs": []
    },
    {
      "cell_type": "code",
      "metadata": {
        "id": "LQ7TfeAQW8c2",
        "colab_type": "code",
        "colab": {}
      },
      "source": [
        "comments_score.sort_values(by=['Username'], inplace=True)"
      ],
      "execution_count": null,
      "outputs": []
    },
    {
      "cell_type": "code",
      "metadata": {
        "id": "7GUv-XIjiEt0",
        "colab_type": "code",
        "colab": {
          "base_uri": "https://localhost:8080/",
          "height": 664
        },
        "outputId": "ef08e055-06e4-4295-ab45-8abbe6485bdf"
      },
      "source": [
        "comments_score.head(20)"
      ],
      "execution_count": null,
      "outputs": [
        {
          "output_type": "execute_result",
          "data": {
            "text/html": [
              "<div>\n",
              "<style scoped>\n",
              "    .dataframe tbody tr th:only-of-type {\n",
              "        vertical-align: middle;\n",
              "    }\n",
              "\n",
              "    .dataframe tbody tr th {\n",
              "        vertical-align: top;\n",
              "    }\n",
              "\n",
              "    .dataframe thead th {\n",
              "        text-align: right;\n",
              "    }\n",
              "</style>\n",
              "<table border=\"1\" class=\"dataframe\">\n",
              "  <thead>\n",
              "    <tr style=\"text-align: right;\">\n",
              "      <th></th>\n",
              "      <th>Username</th>\n",
              "      <th>Comment</th>\n",
              "      <th>Saltiness</th>\n",
              "    </tr>\n",
              "  </thead>\n",
              "  <tbody>\n",
              "    <tr>\n",
              "      <th>36228</th>\n",
              "      <td>001sky</td>\n",
              "      <td>According to a recent NSA memo, 1.6% of all online activity is monitored and collected. That’s e...</td>\n",
              "      <td>0%</td>\n",
              "    </tr>\n",
              "    <tr>\n",
              "      <th>40512</th>\n",
              "      <td>001sky</td>\n",
              "      <td>== Your missing the point, or at least part of it. It is akin to a protection racket. Those comp...</td>\n",
              "      <td>-60%</td>\n",
              "    </tr>\n",
              "    <tr>\n",
              "      <th>2880</th>\n",
              "      <td>001sky</td>\n",
              "      <td>\"@DEVOPS_BORAT got heavy duty @dev ops gig available in San Mateo,ca and Seattle area! $130-$140...</td>\n",
              "      <td>0%</td>\n",
              "    </tr>\n",
              "    <tr>\n",
              "      <th>427</th>\n",
              "      <td>001sky</td>\n",
              "      <td>\"May have\" is not news What is potentially more relevant here is if a discussion about legal pro...</td>\n",
              "      <td>29%</td>\n",
              "    </tr>\n",
              "    <tr>\n",
              "      <th>30998</th>\n",
              "      <td>001sky</td>\n",
              "      <td>-- Or your investor's friends Or business acquantances or political pet-project holders.  pretty...</td>\n",
              "      <td>89%</td>\n",
              "    </tr>\n",
              "    <tr>\n",
              "      <th>39827</th>\n",
              "      <td>001sky</td>\n",
              "      <td>As a point of math, that's the top 0.0001% (Or, as a percentage of the workforce: 0.0005%)</td>\n",
              "      <td>30%</td>\n",
              "    </tr>\n",
              "    <tr>\n",
              "      <th>15988</th>\n",
              "      <td>001sky</td>\n",
              "      <td>If you \"interview\" people that are  blatantly incompetent , that's on you not on them. Just sayin.</td>\n",
              "      <td>-64%</td>\n",
              "    </tr>\n",
              "    <tr>\n",
              "      <th>20808</th>\n",
              "      <td>001sky</td>\n",
              "      <td>It seems much equipment is not designed to go above 150ish, and once you get above that nothing'...</td>\n",
              "      <td>0%</td>\n",
              "    </tr>\n",
              "    <tr>\n",
              "      <th>32596</th>\n",
              "      <td>001sky</td>\n",
              "      <td>relevant &gt;</td>\n",
              "      <td>0%</td>\n",
              "    </tr>\n",
              "    <tr>\n",
              "      <th>15620</th>\n",
              "      <td>001sky</td>\n",
              "      <td>The point you're missing tho is that pandoras box is not a box of chocalates. You don't know wha...</td>\n",
              "      <td>-84%</td>\n",
              "    </tr>\n",
              "    <tr>\n",
              "      <th>27062</th>\n",
              "      <td>001sky</td>\n",
              "      <td>This is all true, but the atricle says something quite different than what you are commenting on...</td>\n",
              "      <td>-56%</td>\n",
              "    </tr>\n",
              "    <tr>\n",
              "      <th>16243</th>\n",
              "      <td>001sky</td>\n",
              "      <td>at some stage all of the implicit knowledge is or will be actually sitting over in taiwan/china....</td>\n",
              "      <td>95%</td>\n",
              "    </tr>\n",
              "    <tr>\n",
              "      <th>48808</th>\n",
              "      <td>001sky</td>\n",
              "      <td>There are all kinds of uses for social engineering. We should not be surprsised not all of the a...</td>\n",
              "      <td>78%</td>\n",
              "    </tr>\n",
              "    <tr>\n",
              "      <th>37393</th>\n",
              "      <td>001sky</td>\n",
              "      <td></td>\n",
              "      <td>0%</td>\n",
              "    </tr>\n",
              "    <tr>\n",
              "      <th>16269</th>\n",
              "      <td>001sky</td>\n",
              "      <td>Either way: make sure your phone is encrypted &gt; What is to stop them from compelling your PW? &gt; ...</td>\n",
              "      <td>40%</td>\n",
              "    </tr>\n",
              "    <tr>\n",
              "      <th>25986</th>\n",
              "      <td>001sky</td>\n",
              "      <td>Should constitutionally 'free' speech include a provision or carve-out for anonymous communicati...</td>\n",
              "      <td>107%</td>\n",
              "    </tr>\n",
              "    <tr>\n",
              "      <th>10941</th>\n",
              "      <td>001sky</td>\n",
              "      <td>This is a very good framing.</td>\n",
              "      <td>88%</td>\n",
              "    </tr>\n",
              "    <tr>\n",
              "      <th>30682</th>\n",
              "      <td>001sky</td>\n",
              "      <td>Exactly. Its not going to refer to \"anything\" when &lt;it was taken out of context&gt;. Had it been th...</td>\n",
              "      <td>-79%</td>\n",
              "    </tr>\n",
              "    <tr>\n",
              "      <th>9117</th>\n",
              "      <td>001sky</td>\n",
              "      <td>Its a more generalized trend, not some sort of special interest thing. I was merely pointing it ...</td>\n",
              "      <td>88%</td>\n",
              "    </tr>\n",
              "    <tr>\n",
              "      <th>45194</th>\n",
              "      <td>001sky</td>\n",
              "      <td>So saying that plants/animals wouldn't exist on a planet significantly hotter than ours is reall...</td>\n",
              "      <td>-32%</td>\n",
              "    </tr>\n",
              "  </tbody>\n",
              "</table>\n",
              "</div>"
            ],
            "text/plain": [
              "      Username  \\\n",
              "36228   001sky   \n",
              "40512   001sky   \n",
              "2880    001sky   \n",
              "427     001sky   \n",
              "30998   001sky   \n",
              "39827   001sky   \n",
              "15988   001sky   \n",
              "20808   001sky   \n",
              "32596   001sky   \n",
              "15620   001sky   \n",
              "27062   001sky   \n",
              "16243   001sky   \n",
              "48808   001sky   \n",
              "37393   001sky   \n",
              "16269   001sky   \n",
              "25986   001sky   \n",
              "10941   001sky   \n",
              "30682   001sky   \n",
              "9117    001sky   \n",
              "45194   001sky   \n",
              "\n",
              "                                                                                                   Comment  \\\n",
              "36228  According to a recent NSA memo, 1.6% of all online activity is monitored and collected. That’s e...   \n",
              "40512  == Your missing the point, or at least part of it. It is akin to a protection racket. Those comp...   \n",
              "2880   \"@DEVOPS_BORAT got heavy duty @dev ops gig available in San Mateo,ca and Seattle area! $130-$140...   \n",
              "427    \"May have\" is not news What is potentially more relevant here is if a discussion about legal pro...   \n",
              "30998  -- Or your investor's friends Or business acquantances or political pet-project holders.  pretty...   \n",
              "39827           As a point of math, that's the top 0.0001% (Or, as a percentage of the workforce: 0.0005%)   \n",
              "15988   If you \"interview\" people that are  blatantly incompetent , that's on you not on them. Just sayin.   \n",
              "20808  It seems much equipment is not designed to go above 150ish, and once you get above that nothing'...   \n",
              "32596                                                                                          relevant >    \n",
              "15620  The point you're missing tho is that pandoras box is not a box of chocalates. You don't know wha...   \n",
              "27062  This is all true, but the atricle says something quite different than what you are commenting on...   \n",
              "16243  at some stage all of the implicit knowledge is or will be actually sitting over in taiwan/china....   \n",
              "48808  There are all kinds of uses for social engineering. We should not be surprsised not all of the a...   \n",
              "37393                                                                                                        \n",
              "16269  Either way: make sure your phone is encrypted > What is to stop them from compelling your PW? > ...   \n",
              "25986  Should constitutionally 'free' speech include a provision or carve-out for anonymous communicati...   \n",
              "10941                                                                         This is a very good framing.   \n",
              "30682  Exactly. Its not going to refer to \"anything\" when <it was taken out of context>. Had it been th...   \n",
              "9117   Its a more generalized trend, not some sort of special interest thing. I was merely pointing it ...   \n",
              "45194  So saying that plants/animals wouldn't exist on a planet significantly hotter than ours is reall...   \n",
              "\n",
              "      Saltiness  \n",
              "36228        0%  \n",
              "40512      -60%  \n",
              "2880         0%  \n",
              "427         29%  \n",
              "30998       89%  \n",
              "39827       30%  \n",
              "15988      -64%  \n",
              "20808        0%  \n",
              "32596        0%  \n",
              "15620      -84%  \n",
              "27062      -56%  \n",
              "16243       95%  \n",
              "48808       78%  \n",
              "37393        0%  \n",
              "16269       40%  \n",
              "25986      107%  \n",
              "10941       88%  \n",
              "30682      -79%  \n",
              "9117        88%  \n",
              "45194      -32%  "
            ]
          },
          "metadata": {
            "tags": []
          },
          "execution_count": 93
        }
      ]
    },
    {
      "cell_type": "code",
      "metadata": {
        "id": "RD__aDFTiJpS",
        "colab_type": "code",
        "colab": {
          "base_uri": "https://localhost:8080/",
          "height": 34
        },
        "outputId": "3c704057-f0d7-4c97-8dd4-0e1fb677c123"
      },
      "source": [
        "#Random comment test\n",
        "comments_score.loc[600,'Comment']"
      ],
      "execution_count": null,
      "outputs": [
        {
          "output_type": "execute_result",
          "data": {
            "text/plain": [
              "'What does this mean for copyrighting tweets?  All my tweets are micro-blog headlines.'"
            ]
          },
          "metadata": {
            "tags": []
          },
          "execution_count": 100
        }
      ]
    },
    {
      "cell_type": "code",
      "metadata": {
        "id": "9HvTBZn_iQ9T",
        "colab_type": "code",
        "colab": {
          "base_uri": "https://localhost:8080/",
          "height": 34
        },
        "outputId": "26151900-ae28-436b-93db-cde32571013f"
      },
      "source": [
        "#Comment is pretty neutral\n",
        "comments_score.loc[600,'Saltiness']"
      ],
      "execution_count": null,
      "outputs": [
        {
          "output_type": "execute_result",
          "data": {
            "text/plain": [
              "'0%'"
            ]
          },
          "metadata": {
            "tags": []
          },
          "execution_count": 101
        }
      ]
    },
    {
      "cell_type": "code",
      "metadata": {
        "id": "kN_G-iwcinZ4",
        "colab_type": "code",
        "colab": {
          "base_uri": "https://localhost:8080/",
          "height": 54
        },
        "outputId": "97509117-d3a4-4d1a-ab01-88903c224c2b"
      },
      "source": [
        "comments_score.loc[4600,'Comment']"
      ],
      "execution_count": null,
      "outputs": [
        {
          "output_type": "execute_result",
          "data": {
            "text/plain": [
              "\"There are times when you want non-repudiable signatures, times when you want to be able to keep an archive, times when you want your messages to behave more like letters than like spoken conversations. PGP is still the best fit for email-like use cases and long-lived identities; Signal et al don't even try to address that use case.\""
            ]
          },
          "metadata": {
            "tags": []
          },
          "execution_count": 102
        }
      ]
    },
    {
      "cell_type": "code",
      "metadata": {
        "id": "AasqegeWixOJ",
        "colab_type": "code",
        "colab": {
          "base_uri": "https://localhost:8080/",
          "height": 34
        },
        "outputId": "9d8e3191-3704-4218-c9b0-b07ca6e5a2db"
      },
      "source": [
        "#Comment is overall very positive\n",
        "comments_score.loc[4600,'Saltiness']"
      ],
      "execution_count": null,
      "outputs": [
        {
          "output_type": "execute_result",
          "data": {
            "text/plain": [
              "'115%'"
            ]
          },
          "metadata": {
            "tags": []
          },
          "execution_count": 103
        }
      ]
    },
    {
      "cell_type": "code",
      "metadata": {
        "id": "cMUW_peBi03l",
        "colab_type": "code",
        "colab": {}
      },
      "source": [
        ""
      ],
      "execution_count": null,
      "outputs": []
    }
  ]
}