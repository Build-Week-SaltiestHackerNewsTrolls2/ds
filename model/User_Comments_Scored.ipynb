{
  "nbformat": 4,
  "nbformat_minor": 0,
  "metadata": {
    "colab": {
      "name": "User_Comments_Scored",
      "provenance": [],
      "collapsed_sections": []
    },
    "kernelspec": {
      "name": "python3",
      "display_name": "Python 3"
    }
  },
  "cells": [
    {
      "cell_type": "markdown",
      "metadata": {
        "id": "qA3Z7OinelJI",
        "colab_type": "text"
      },
      "source": [
        "#Becca\n",
        "-----------------------"
      ]
    },
    {
      "cell_type": "code",
      "metadata": {
        "id": "U7W-91cgevws",
        "colab_type": "code",
        "colab": {}
      },
      "source": [
        "import sys, os\n",
        "cwd = os.getcwd()\n",
        "sys.path[0] = cwd[:cwd.rfind('/')]"
      ],
      "execution_count": 1,
      "outputs": []
    },
    {
      "cell_type": "code",
      "metadata": {
        "id": "MTYzQH2Ve7bu",
        "colab_type": "code",
        "colab": {}
      },
      "source": [
        "#Imports\n",
        "import os\n",
        "import numpy as np\n",
        "import pandas as pd\n",
        "\n",
        "from google.cloud import bigquery"
      ],
      "execution_count": 2,
      "outputs": []
    },
    {
      "cell_type": "code",
      "metadata": {
        "id": "KpplHnXMburx",
        "colab_type": "code",
        "colab": {}
      },
      "source": [
        "#Google cloud credentials\n",
        "os.environ['GOOGLE_APPLICATION_CREDENTIALS']='/content/Saltiest HN Trolls.json'\n",
        "\n",
        "# Create a \"Client\" object\n",
        "client = bigquery.Client()\n",
        "\n",
        "# Bigquery dataset reference\n",
        "hn_ref = client.dataset('hacker_news', project='hn-dataset')"
      ],
      "execution_count": 3,
      "outputs": []
    },
    {
      "cell_type": "code",
      "metadata": {
        "id": "-B3MeaRXegz3",
        "colab_type": "code",
        "colab": {}
      },
      "source": [
        "# Run SQL query to obtain filtered table\n",
        "query_string = \"\"\"\n",
        "SELECT C.by\n",
        "FROM (\n",
        "  SELECT A.by, COUNT(*) AS count\n",
        "  FROM `bigquery-public-data.hacker_news.full` AS A\n",
        "  GROUP BY A.by\n",
        "  ORDER BY count DESC\n",
        "  LIMIT 100\n",
        ") AS C\n",
        "WHERE C.by != \"None\"\n",
        "\"\"\"\n",
        "\n",
        "frequent_users = client.query(query_string).result().to_dataframe()"
      ],
      "execution_count": 4,
      "outputs": []
    },
    {
      "cell_type": "code",
      "metadata": {
        "id": "vXH7ZcSIequc",
        "colab_type": "code",
        "colab": {}
      },
      "source": [
        "# This is a triple-nested query that gets a number of comments made only by the most\n",
        "# frequent users.  Change the \"LIMIT XXX\" part of the inner-most query to tune the\n",
        "# number of users.  Change the outermost \"LIMIT YYY\" to change the total number of comments.\n",
        "query_string = \"\"\"\n",
        "SELECT *\n",
        "FROM `bigquery-public-data.hacker_news.full` AS A\n",
        "WHERE A.by IN (\n",
        "  SELECT C.by\n",
        "  FROM (\n",
        "    SELECT A.by, COUNT(*) AS count\n",
        "    FROM `bigquery-public-data.hacker_news.full` AS A\n",
        "    GROUP BY A.by\n",
        "    ORDER BY count DESC\n",
        "    LIMIT 500\n",
        "  ) AS C\n",
        "  WHERE C.by != \"None\"\n",
        ")\n",
        "LIMIT 50000\n",
        "\"\"\"\n",
        "\n",
        "df = client.query(query_string).result().to_dataframe()"
      ],
      "execution_count": 5,
      "outputs": []
    },
    {
      "cell_type": "code",
      "metadata": {
        "id": "mPRJh1h1evaJ",
        "colab_type": "code",
        "colab": {
          "base_uri": "https://localhost:8080/",
          "height": 643
        },
        "outputId": "7cad4f20-004e-4293-8b14-737d2619e19e"
      },
      "source": [
        "# filter out by type (keep story and comment)\n",
        "df[(df['type'] == 'story') | (df['type'] == 'comment')]"
      ],
      "execution_count": 6,
      "outputs": [
        {
          "output_type": "execute_result",
          "data": {
            "text/html": [
              "<div>\n",
              "<style scoped>\n",
              "    .dataframe tbody tr th:only-of-type {\n",
              "        vertical-align: middle;\n",
              "    }\n",
              "\n",
              "    .dataframe tbody tr th {\n",
              "        vertical-align: top;\n",
              "    }\n",
              "\n",
              "    .dataframe thead th {\n",
              "        text-align: right;\n",
              "    }\n",
              "</style>\n",
              "<table border=\"1\" class=\"dataframe\">\n",
              "  <thead>\n",
              "    <tr style=\"text-align: right;\">\n",
              "      <th></th>\n",
              "      <th>title</th>\n",
              "      <th>url</th>\n",
              "      <th>text</th>\n",
              "      <th>dead</th>\n",
              "      <th>by</th>\n",
              "      <th>score</th>\n",
              "      <th>time</th>\n",
              "      <th>timestamp</th>\n",
              "      <th>type</th>\n",
              "      <th>id</th>\n",
              "      <th>parent</th>\n",
              "      <th>descendants</th>\n",
              "      <th>ranking</th>\n",
              "      <th>deleted</th>\n",
              "    </tr>\n",
              "  </thead>\n",
              "  <tbody>\n",
              "    <tr>\n",
              "      <th>0</th>\n",
              "      <td>None</td>\n",
              "      <td>None</td>\n",
              "      <td>Like I said, to be honest I do not know if it ...</td>\n",
              "      <td>None</td>\n",
              "      <td>davidw</td>\n",
              "      <td>NaN</td>\n",
              "      <td>1222716762</td>\n",
              "      <td>2008-09-29 19:32:42+00:00</td>\n",
              "      <td>comment</td>\n",
              "      <td>318709</td>\n",
              "      <td>318705.0</td>\n",
              "      <td>NaN</td>\n",
              "      <td>None</td>\n",
              "      <td>None</td>\n",
              "    </tr>\n",
              "    <tr>\n",
              "      <th>1</th>\n",
              "      <td>Modern ClojureScript</td>\n",
              "      <td>https://github.com/magomimmo/modern-cljs</td>\n",
              "      <td>None</td>\n",
              "      <td>None</td>\n",
              "      <td>brudgers</td>\n",
              "      <td>83.0</td>\n",
              "      <td>1438621836</td>\n",
              "      <td>2015-08-03 17:10:36+00:00</td>\n",
              "      <td>story</td>\n",
              "      <td>9997830</td>\n",
              "      <td>NaN</td>\n",
              "      <td>11.0</td>\n",
              "      <td>None</td>\n",
              "      <td>None</td>\n",
              "    </tr>\n",
              "    <tr>\n",
              "      <th>2</th>\n",
              "      <td>None</td>\n",
              "      <td>None</td>\n",
              "      <td>Well, because heat dissipation is proportional...</td>\n",
              "      <td>None</td>\n",
              "      <td>stcredzero</td>\n",
              "      <td>NaN</td>\n",
              "      <td>1340822020</td>\n",
              "      <td>2012-06-27 18:33:40+00:00</td>\n",
              "      <td>comment</td>\n",
              "      <td>4168406</td>\n",
              "      <td>4165347.0</td>\n",
              "      <td>NaN</td>\n",
              "      <td>None</td>\n",
              "      <td>None</td>\n",
              "    </tr>\n",
              "    <tr>\n",
              "      <th>3</th>\n",
              "      <td>None</td>\n",
              "      <td>None</td>\n",
              "      <td>So?&lt;p&gt;&lt;a href=\"https:&amp;#x2F;&amp;#x2F;streeteasy.co...</td>\n",
              "      <td>None</td>\n",
              "      <td>perl4ever</td>\n",
              "      <td>NaN</td>\n",
              "      <td>1570229208</td>\n",
              "      <td>2019-10-04 22:46:48+00:00</td>\n",
              "      <td>comment</td>\n",
              "      <td>21162521</td>\n",
              "      <td>21160429.0</td>\n",
              "      <td>NaN</td>\n",
              "      <td>None</td>\n",
              "      <td>None</td>\n",
              "    </tr>\n",
              "    <tr>\n",
              "      <th>4</th>\n",
              "      <td>None</td>\n",
              "      <td>None</td>\n",
              "      <td>Yes, because beating someone for doing or thin...</td>\n",
              "      <td>None</td>\n",
              "      <td>TeMPOraL</td>\n",
              "      <td>NaN</td>\n",
              "      <td>1570531967</td>\n",
              "      <td>2019-10-08 10:52:47+00:00</td>\n",
              "      <td>comment</td>\n",
              "      <td>21190821</td>\n",
              "      <td>21190776.0</td>\n",
              "      <td>NaN</td>\n",
              "      <td>None</td>\n",
              "      <td>None</td>\n",
              "    </tr>\n",
              "    <tr>\n",
              "      <th>...</th>\n",
              "      <td>...</td>\n",
              "      <td>...</td>\n",
              "      <td>...</td>\n",
              "      <td>...</td>\n",
              "      <td>...</td>\n",
              "      <td>...</td>\n",
              "      <td>...</td>\n",
              "      <td>...</td>\n",
              "      <td>...</td>\n",
              "      <td>...</td>\n",
              "      <td>...</td>\n",
              "      <td>...</td>\n",
              "      <td>...</td>\n",
              "      <td>...</td>\n",
              "    </tr>\n",
              "    <tr>\n",
              "      <th>49995</th>\n",
              "      <td>None</td>\n",
              "      <td>None</td>\n",
              "      <td>I believe that you hold your views in good fai...</td>\n",
              "      <td>None</td>\n",
              "      <td>dang</td>\n",
              "      <td>NaN</td>\n",
              "      <td>1565715946</td>\n",
              "      <td>2019-08-13 17:05:46+00:00</td>\n",
              "      <td>comment</td>\n",
              "      <td>20687789</td>\n",
              "      <td>20685847.0</td>\n",
              "      <td>NaN</td>\n",
              "      <td>None</td>\n",
              "      <td>None</td>\n",
              "    </tr>\n",
              "    <tr>\n",
              "      <th>49996</th>\n",
              "      <td>None</td>\n",
              "      <td>None</td>\n",
              "      <td>Another vote for Fastmail!</td>\n",
              "      <td>None</td>\n",
              "      <td>toomuchtodo</td>\n",
              "      <td>NaN</td>\n",
              "      <td>1580831136</td>\n",
              "      <td>2020-02-04 15:45:36+00:00</td>\n",
              "      <td>comment</td>\n",
              "      <td>22236828</td>\n",
              "      <td>22236621.0</td>\n",
              "      <td>NaN</td>\n",
              "      <td>None</td>\n",
              "      <td>None</td>\n",
              "    </tr>\n",
              "    <tr>\n",
              "      <th>49997</th>\n",
              "      <td>None</td>\n",
              "      <td>None</td>\n",
              "      <td>You can get a pretty decent number for the car...</td>\n",
              "      <td>None</td>\n",
              "      <td>ars</td>\n",
              "      <td>NaN</td>\n",
              "      <td>1568924058</td>\n",
              "      <td>2019-09-19 20:14:18+00:00</td>\n",
              "      <td>comment</td>\n",
              "      <td>21020254</td>\n",
              "      <td>21018030.0</td>\n",
              "      <td>NaN</td>\n",
              "      <td>None</td>\n",
              "      <td>None</td>\n",
              "    </tr>\n",
              "    <tr>\n",
              "      <th>49998</th>\n",
              "      <td>NASA wants more humans to walk on the moon – a...</td>\n",
              "      <td>https://www.usatoday.com/story/tech/nation-now...</td>\n",
              "      <td>None</td>\n",
              "      <td>None</td>\n",
              "      <td>evo_9</td>\n",
              "      <td>1.0</td>\n",
              "      <td>1532008721</td>\n",
              "      <td>2018-07-19 13:58:41+00:00</td>\n",
              "      <td>story</td>\n",
              "      <td>17566297</td>\n",
              "      <td>NaN</td>\n",
              "      <td>1.0</td>\n",
              "      <td>None</td>\n",
              "      <td>None</td>\n",
              "    </tr>\n",
              "    <tr>\n",
              "      <th>49999</th>\n",
              "      <td>None</td>\n",
              "      <td>None</td>\n",
              "      <td>If someone won&amp;#x27;t hire you to &lt;i&gt;write cod...</td>\n",
              "      <td>None</td>\n",
              "      <td>stephenr</td>\n",
              "      <td>NaN</td>\n",
              "      <td>1497201395</td>\n",
              "      <td>2017-06-11 17:16:35+00:00</td>\n",
              "      <td>comment</td>\n",
              "      <td>14532768</td>\n",
              "      <td>14531514.0</td>\n",
              "      <td>NaN</td>\n",
              "      <td>None</td>\n",
              "      <td>None</td>\n",
              "    </tr>\n",
              "  </tbody>\n",
              "</table>\n",
              "<p>49973 rows × 14 columns</p>\n",
              "</div>"
            ],
            "text/plain": [
              "                                                   title  ... deleted\n",
              "0                                                   None  ...    None\n",
              "1                                   Modern ClojureScript  ...    None\n",
              "2                                                   None  ...    None\n",
              "3                                                   None  ...    None\n",
              "4                                                   None  ...    None\n",
              "...                                                  ...  ...     ...\n",
              "49995                                               None  ...    None\n",
              "49996                                               None  ...    None\n",
              "49997                                               None  ...    None\n",
              "49998  NASA wants more humans to walk on the moon – a...  ...    None\n",
              "49999                                               None  ...    None\n",
              "\n",
              "[49973 rows x 14 columns]"
            ]
          },
          "metadata": {
            "tags": []
          },
          "execution_count": 6
        }
      ]
    },
    {
      "cell_type": "code",
      "metadata": {
        "id": "SgSTNtwOe1ko",
        "colab_type": "code",
        "colab": {}
      },
      "source": [
        "# drop some columns\n",
        "#drop title, has 447,218 null values \n",
        "#drop ranking, has 500000 null values\n",
        "#drop score, has 446968 null values \n",
        "clean_df = df.drop(['time', 'descendants', 'deleted', 'url', 'dead', 'title', 'ranking', 'score'], axis=1)"
      ],
      "execution_count": 7,
      "outputs": []
    },
    {
      "cell_type": "code",
      "metadata": {
        "id": "4-YceCJ_e9qd",
        "colab_type": "code",
        "colab": {}
      },
      "source": [
        "#only 507 comments with 5 characters or less, upon analysis doesn't look like they provide much context, \n",
        "#not helpful for model analysis so drop comments with 5 words or less\n",
        "\n",
        "# take only the rows whose text column's length is greater than five\n",
        "# this also removes the texts that are None\n",
        "clean_df = clean_df[clean_df['text'].str.len() > 5]"
      ],
      "execution_count": 8,
      "outputs": []
    },
    {
      "cell_type": "code",
      "metadata": {
        "id": "Lj_cTRVdfMa8",
        "colab_type": "code",
        "colab": {}
      },
      "source": [
        "# Use BS on a single piece of text to remove strange chars and URLs and tags\n",
        "from bs4 import BeautifulSoup\n",
        "\n",
        "def clean_soup(text):\n",
        "    # make a soup - this takes care of strange characters\n",
        "    soup = BeautifulSoup(text, \"html.parser\")\n",
        "\n",
        "    # delete <a> tags as they contain URLs -- remember <a href=\"url_here\">\n",
        "    # tags contain URLs\n",
        "    for s in soup.select('a'):\n",
        "       s.extract()\n",
        "\n",
        "    # the soup contains <p> tags -- here we get rid of those and join them with spaces\n",
        "    strings = soup.find_all(text=True, recursive=True)\n",
        "    result = ' '.join(strings)\n",
        "\n",
        "    return result"
      ],
      "execution_count": 9,
      "outputs": []
    },
    {
      "cell_type": "code",
      "metadata": {
        "id": "iVVIxD63fO3O",
        "colab_type": "code",
        "colab": {
          "base_uri": "https://localhost:8080/",
          "height": 72
        },
        "outputId": "7dd6a88d-6d0d-40fe-c65a-5603681ad3c0"
      },
      "source": [
        "# Apply that to each comment/story text\n",
        "clean_text = clean_df['text'].apply(clean_soup)"
      ],
      "execution_count": 10,
      "outputs": [
        {
          "output_type": "stream",
          "text": [
            "/usr/local/lib/python3.6/dist-packages/bs4/__init__.py:336: UserWarning: \"https:&#x2F;&#x2F;www.pcisecuritystandards.org&#x2F;documents&#x2F;SAQ_A-EP_v3.pdf\" looks like a URL. Beautiful Soup is not an HTTP client. You should probably use an HTTP client like requests to get the document behind the URL, and feed that document to Beautiful Soup.\n",
            "  ' that document to Beautiful Soup.' % decoded_markup\n"
          ],
          "name": "stderr"
        }
      ]
    },
    {
      "cell_type": "code",
      "metadata": {
        "id": "F84misiHfSaH",
        "colab_type": "code",
        "colab": {}
      },
      "source": [
        "clean_df['text'] = clean_text"
      ],
      "execution_count": 11,
      "outputs": []
    },
    {
      "cell_type": "code",
      "metadata": {
        "id": "y4LjcXi7fUzQ",
        "colab_type": "code",
        "colab": {
          "base_uri": "https://localhost:8080/",
          "height": 514
        },
        "outputId": "6fbadd13-569a-43f3-8ffd-03731d26d73c"
      },
      "source": [
        "import pandas as pd\n",
        "pd.options.display.max_colwidth = 100\n",
        "clean_df.sample(10)"
      ],
      "execution_count": 12,
      "outputs": [
        {
          "output_type": "execute_result",
          "data": {
            "text/html": [
              "<div>\n",
              "<style scoped>\n",
              "    .dataframe tbody tr th:only-of-type {\n",
              "        vertical-align: middle;\n",
              "    }\n",
              "\n",
              "    .dataframe tbody tr th {\n",
              "        vertical-align: top;\n",
              "    }\n",
              "\n",
              "    .dataframe thead th {\n",
              "        text-align: right;\n",
              "    }\n",
              "</style>\n",
              "<table border=\"1\" class=\"dataframe\">\n",
              "  <thead>\n",
              "    <tr style=\"text-align: right;\">\n",
              "      <th></th>\n",
              "      <th>text</th>\n",
              "      <th>by</th>\n",
              "      <th>timestamp</th>\n",
              "      <th>type</th>\n",
              "      <th>id</th>\n",
              "      <th>parent</th>\n",
              "    </tr>\n",
              "  </thead>\n",
              "  <tbody>\n",
              "    <tr>\n",
              "      <th>16876</th>\n",
              "      <td>\"If we're just talking about pure refactoring that doesn't change any output, you could test tha...</td>\n",
              "      <td>DannyBee</td>\n",
              "      <td>2016-02-11 16:51:59+00:00</td>\n",
              "      <td>comment</td>\n",
              "      <td>11081286</td>\n",
              "      <td>11080197.0</td>\n",
              "    </tr>\n",
              "    <tr>\n",
              "      <th>40705</th>\n",
              "      <td>What if you're listening to jazz on vinyl with a tube amp? :-)</td>\n",
              "      <td>wmf</td>\n",
              "      <td>2011-02-13 23:33:47+00:00</td>\n",
              "      <td>comment</td>\n",
              "      <td>2214467</td>\n",
              "      <td>2214457.0</td>\n",
              "    </tr>\n",
              "    <tr>\n",
              "      <th>396</th>\n",
              "      <td>HBO is your place.</td>\n",
              "      <td>sjg007</td>\n",
              "      <td>2019-12-19 00:15:08+00:00</td>\n",
              "      <td>comment</td>\n",
              "      <td>21830859</td>\n",
              "      <td>21819630.0</td>\n",
              "    </tr>\n",
              "    <tr>\n",
              "      <th>39377</th>\n",
              "      <td>The story is currently front page on The Age (major newspaper) website in Australia.</td>\n",
              "      <td>prawn</td>\n",
              "      <td>2011-12-07 01:50:06+00:00</td>\n",
              "      <td>comment</td>\n",
              "      <td>3322076</td>\n",
              "      <td>3320961.0</td>\n",
              "    </tr>\n",
              "    <tr>\n",
              "      <th>15699</th>\n",
              "      <td>&gt; cut costs by firing the \"expensive employees\" and hiring \"cheaper and newer\" You should do eve...</td>\n",
              "      <td>JustSomeNobody</td>\n",
              "      <td>2018-10-04 13:52:52+00:00</td>\n",
              "      <td>comment</td>\n",
              "      <td>18139863</td>\n",
              "      <td>18138539.0</td>\n",
              "    </tr>\n",
              "    <tr>\n",
              "      <th>14542</th>\n",
              "      <td>Could be.  And that was unfortunate, at the same time, we're hardly talking about being fired fo...</td>\n",
              "      <td>ajross</td>\n",
              "      <td>2019-05-19 18:20:04+00:00</td>\n",
              "      <td>comment</td>\n",
              "      <td>19954632</td>\n",
              "      <td>19950386.0</td>\n",
              "    </tr>\n",
              "    <tr>\n",
              "      <th>4491</th>\n",
              "      <td>&gt; -Other models of intelligence as wrong and g is real because tests results correlate with each...</td>\n",
              "      <td>gwern</td>\n",
              "      <td>2020-01-02 17:58:36+00:00</td>\n",
              "      <td>comment</td>\n",
              "      <td>21937829</td>\n",
              "      <td>21933163.0</td>\n",
              "    </tr>\n",
              "    <tr>\n",
              "      <th>23651</th>\n",
              "      <td>At this point in the game, can any new employee expect to get options that are  not  insanely di...</td>\n",
              "      <td>joezydeco</td>\n",
              "      <td>2010-10-30 12:31:27+00:00</td>\n",
              "      <td>comment</td>\n",
              "      <td>1850739</td>\n",
              "      <td>1850411.0</td>\n",
              "    </tr>\n",
              "    <tr>\n",
              "      <th>6490</th>\n",
              "      <td>&gt;* Both life sentences (or multi life sentences) and death penalties are seen as cruel and not p...</td>\n",
              "      <td>coldtea</td>\n",
              "      <td>2016-08-09 13:43:37+00:00</td>\n",
              "      <td>comment</td>\n",
              "      <td>12254395</td>\n",
              "      <td>12253768.0</td>\n",
              "    </tr>\n",
              "    <tr>\n",
              "      <th>32524</th>\n",
              "      <td>The problem is though that a video goes viral and then gets forgotten in a time shorter than any...</td>\n",
              "      <td>TeMPOraL</td>\n",
              "      <td>2019-05-09 08:44:48+00:00</td>\n",
              "      <td>comment</td>\n",
              "      <td>19866470</td>\n",
              "      <td>19866187.0</td>\n",
              "    </tr>\n",
              "  </tbody>\n",
              "</table>\n",
              "</div>"
            ],
            "text/plain": [
              "                                                                                                      text  ...      parent\n",
              "16876  \"If we're just talking about pure refactoring that doesn't change any output, you could test tha...  ...  11080197.0\n",
              "40705                                       What if you're listening to jazz on vinyl with a tube amp? :-)  ...   2214457.0\n",
              "396                                                                                     HBO is your place.  ...  21819630.0\n",
              "39377                 The story is currently front page on The Age (major newspaper) website in Australia.  ...   3320961.0\n",
              "15699  > cut costs by firing the \"expensive employees\" and hiring \"cheaper and newer\" You should do eve...  ...  18138539.0\n",
              "14542  Could be.  And that was unfortunate, at the same time, we're hardly talking about being fired fo...  ...  19950386.0\n",
              "4491   > -Other models of intelligence as wrong and g is real because tests results correlate with each...  ...  21933163.0\n",
              "23651  At this point in the game, can any new employee expect to get options that are  not  insanely di...  ...   1850411.0\n",
              "6490   >* Both life sentences (or multi life sentences) and death penalties are seen as cruel and not p...  ...  12253768.0\n",
              "32524  The problem is though that a video goes viral and then gets forgotten in a time shorter than any...  ...  19866187.0\n",
              "\n",
              "[10 rows x 6 columns]"
            ]
          },
          "metadata": {
            "tags": []
          },
          "execution_count": 12
        }
      ]
    },
    {
      "cell_type": "code",
      "metadata": {
        "id": "sDqN-BfsfaAV",
        "colab_type": "code",
        "colab": {
          "base_uri": "https://localhost:8080/",
          "height": 141
        },
        "outputId": "8856e806-5aad-459d-de93-fd89154f1cc7"
      },
      "source": [
        "#makes sense the parent would have some null values, if they are the first comment\n",
        "clean_df.isnull().sum()"
      ],
      "execution_count": 13,
      "outputs": [
        {
          "output_type": "execute_result",
          "data": {
            "text/plain": [
              "text          0\n",
              "by            0\n",
              "timestamp     0\n",
              "type          0\n",
              "id            0\n",
              "parent       79\n",
              "dtype: int64"
            ]
          },
          "metadata": {
            "tags": []
          },
          "execution_count": 13
        }
      ]
    },
    {
      "cell_type": "markdown",
      "metadata": {
        "id": "ups7o9byeiJP",
        "colab_type": "text"
      },
      "source": [
        "#Pyrom\n",
        "---------------------"
      ]
    },
    {
      "cell_type": "code",
      "metadata": {
        "id": "kdR7S46S0W82",
        "colab_type": "code",
        "colab": {
          "base_uri": "https://localhost:8080/",
          "height": 143
        },
        "outputId": "924e1b93-84f0-4b05-a1b1-6ba7bb3fd2e6"
      },
      "source": [
        "pip install vaderSentiment"
      ],
      "execution_count": 14,
      "outputs": [
        {
          "output_type": "stream",
          "text": [
            "Requirement already satisfied: vaderSentiment in /usr/local/lib/python3.6/dist-packages (3.3.2)\n",
            "Requirement already satisfied: requests in /usr/local/lib/python3.6/dist-packages (from vaderSentiment) (2.23.0)\n",
            "Requirement already satisfied: urllib3!=1.25.0,!=1.25.1,<1.26,>=1.21.1 in /usr/local/lib/python3.6/dist-packages (from requests->vaderSentiment) (1.24.3)\n",
            "Requirement already satisfied: chardet<4,>=3.0.2 in /usr/local/lib/python3.6/dist-packages (from requests->vaderSentiment) (3.0.4)\n",
            "Requirement already satisfied: idna<3,>=2.5 in /usr/local/lib/python3.6/dist-packages (from requests->vaderSentiment) (2.9)\n",
            "Requirement already satisfied: certifi>=2017.4.17 in /usr/local/lib/python3.6/dist-packages (from requests->vaderSentiment) (2020.4.5.2)\n"
          ],
          "name": "stdout"
        }
      ]
    },
    {
      "cell_type": "code",
      "metadata": {
        "id": "U5EbwXhmfY-N",
        "colab_type": "code",
        "colab": {}
      },
      "source": [
        "from vaderSentiment.vaderSentiment import SentimentIntensityAnalyzer"
      ],
      "execution_count": 15,
      "outputs": []
    },
    {
      "cell_type": "code",
      "metadata": {
        "id": "P6CJtMlAfL-V",
        "colab_type": "code",
        "colab": {}
      },
      "source": [
        "#Panda Settings\n",
        "pd.set_option('display.max_rows', 200)\n",
        "pd.set_option('display.max_columns', 200)"
      ],
      "execution_count": 16,
      "outputs": []
    },
    {
      "cell_type": "code",
      "metadata": {
        "id": "96Qe98AefsfY",
        "colab_type": "code",
        "colab": {
          "base_uri": "https://localhost:8080/",
          "height": 197
        },
        "outputId": "7f3290a6-a6bf-4c37-d0f8-b0297d143fcf"
      },
      "source": [
        "df = clean_df.drop(columns=['timestamp', 'type', 'id', 'parent'])\n",
        "df.head()"
      ],
      "execution_count": 17,
      "outputs": [
        {
          "output_type": "execute_result",
          "data": {
            "text/html": [
              "<div>\n",
              "<style scoped>\n",
              "    .dataframe tbody tr th:only-of-type {\n",
              "        vertical-align: middle;\n",
              "    }\n",
              "\n",
              "    .dataframe tbody tr th {\n",
              "        vertical-align: top;\n",
              "    }\n",
              "\n",
              "    .dataframe thead th {\n",
              "        text-align: right;\n",
              "    }\n",
              "</style>\n",
              "<table border=\"1\" class=\"dataframe\">\n",
              "  <thead>\n",
              "    <tr style=\"text-align: right;\">\n",
              "      <th></th>\n",
              "      <th>text</th>\n",
              "      <th>by</th>\n",
              "    </tr>\n",
              "  </thead>\n",
              "  <tbody>\n",
              "    <tr>\n",
              "      <th>0</th>\n",
              "      <td>Like I said, to be honest I do not know if it is in any way an  accurate  analogy, but it seems ...</td>\n",
              "      <td>davidw</td>\n",
              "    </tr>\n",
              "    <tr>\n",
              "      <th>2</th>\n",
              "      <td>Well, because heat dissipation is proportional to the square of the voltage, you end up giving u...</td>\n",
              "      <td>stcredzero</td>\n",
              "    </tr>\n",
              "    <tr>\n",
              "      <th>3</th>\n",
              "      <td>So?</td>\n",
              "      <td>perl4ever</td>\n",
              "    </tr>\n",
              "    <tr>\n",
              "      <th>4</th>\n",
              "      <td>Yes, because beating someone for doing or thinking something is a proven way of making them stop...</td>\n",
              "      <td>TeMPOraL</td>\n",
              "    </tr>\n",
              "    <tr>\n",
              "      <th>5</th>\n",
              "      <td>I think downvotes are fundamentally broken. If upvotes are agree/approval and downvotes are disa...</td>\n",
              "      <td>Someone1234</td>\n",
              "    </tr>\n",
              "  </tbody>\n",
              "</table>\n",
              "</div>"
            ],
            "text/plain": [
              "                                                                                                  text  \\\n",
              "0  Like I said, to be honest I do not know if it is in any way an  accurate  analogy, but it seems ...   \n",
              "2  Well, because heat dissipation is proportional to the square of the voltage, you end up giving u...   \n",
              "3                                                                                                  So?   \n",
              "4  Yes, because beating someone for doing or thinking something is a proven way of making them stop...   \n",
              "5  I think downvotes are fundamentally broken. If upvotes are agree/approval and downvotes are disa...   \n",
              "\n",
              "            by  \n",
              "0       davidw  \n",
              "2   stcredzero  \n",
              "3    perl4ever  \n",
              "4     TeMPOraL  \n",
              "5  Someone1234  "
            ]
          },
          "metadata": {
            "tags": []
          },
          "execution_count": 17
        }
      ]
    },
    {
      "cell_type": "code",
      "metadata": {
        "id": "wtV8bxo3htsV",
        "colab_type": "code",
        "colab": {}
      },
      "source": [
        "#Convert to string values\n",
        "df = df.astype(str)"
      ],
      "execution_count": 18,
      "outputs": []
    },
    {
      "cell_type": "code",
      "metadata": {
        "id": "PTkDWC3SfsRT",
        "colab_type": "code",
        "colab": {}
      },
      "source": [
        "#Slim out users with less than 1000 comments, more manageable, cuts data in half\n",
        "def slim(df):\n",
        "    \"\"\"\n",
        "    Slim out dataset to user with 1000 or more comments.\n",
        "\n",
        "    Returns a filtered dataframe.\n",
        "    \"\"\"\n",
        "\n",
        "    X = df.copy()\n",
        "    X = X.groupby('by').filter(lambda x: x['by'].count()<1000)\n",
        "\n",
        "    return X"
      ],
      "execution_count": 19,
      "outputs": []
    },
    {
      "cell_type": "code",
      "metadata": {
        "id": "f5iApgE3u__P",
        "colab_type": "code",
        "colab": {
          "base_uri": "https://localhost:8080/",
          "height": 215
        },
        "outputId": "f1423d81-db47-44ff-96c5-48e1c802e34b"
      },
      "source": [
        "new_df = slim(df)\n",
        "print(new_df.shape)\n",
        "new_df.head()"
      ],
      "execution_count": 20,
      "outputs": [
        {
          "output_type": "stream",
          "text": [
            "(44658, 2)\n"
          ],
          "name": "stdout"
        },
        {
          "output_type": "execute_result",
          "data": {
            "text/html": [
              "<div>\n",
              "<style scoped>\n",
              "    .dataframe tbody tr th:only-of-type {\n",
              "        vertical-align: middle;\n",
              "    }\n",
              "\n",
              "    .dataframe tbody tr th {\n",
              "        vertical-align: top;\n",
              "    }\n",
              "\n",
              "    .dataframe thead th {\n",
              "        text-align: right;\n",
              "    }\n",
              "</style>\n",
              "<table border=\"1\" class=\"dataframe\">\n",
              "  <thead>\n",
              "    <tr style=\"text-align: right;\">\n",
              "      <th></th>\n",
              "      <th>text</th>\n",
              "      <th>by</th>\n",
              "    </tr>\n",
              "  </thead>\n",
              "  <tbody>\n",
              "    <tr>\n",
              "      <th>0</th>\n",
              "      <td>Like I said, to be honest I do not know if it is in any way an  accurate  analogy, but it seems ...</td>\n",
              "      <td>davidw</td>\n",
              "    </tr>\n",
              "    <tr>\n",
              "      <th>2</th>\n",
              "      <td>Well, because heat dissipation is proportional to the square of the voltage, you end up giving u...</td>\n",
              "      <td>stcredzero</td>\n",
              "    </tr>\n",
              "    <tr>\n",
              "      <th>3</th>\n",
              "      <td>So?</td>\n",
              "      <td>perl4ever</td>\n",
              "    </tr>\n",
              "    <tr>\n",
              "      <th>4</th>\n",
              "      <td>Yes, because beating someone for doing or thinking something is a proven way of making them stop...</td>\n",
              "      <td>TeMPOraL</td>\n",
              "    </tr>\n",
              "    <tr>\n",
              "      <th>5</th>\n",
              "      <td>I think downvotes are fundamentally broken. If upvotes are agree/approval and downvotes are disa...</td>\n",
              "      <td>Someone1234</td>\n",
              "    </tr>\n",
              "  </tbody>\n",
              "</table>\n",
              "</div>"
            ],
            "text/plain": [
              "                                                                                                  text  \\\n",
              "0  Like I said, to be honest I do not know if it is in any way an  accurate  analogy, but it seems ...   \n",
              "2  Well, because heat dissipation is proportional to the square of the voltage, you end up giving u...   \n",
              "3                                                                                                  So?   \n",
              "4  Yes, because beating someone for doing or thinking something is a proven way of making them stop...   \n",
              "5  I think downvotes are fundamentally broken. If upvotes are agree/approval and downvotes are disa...   \n",
              "\n",
              "            by  \n",
              "0       davidw  \n",
              "2   stcredzero  \n",
              "3    perl4ever  \n",
              "4     TeMPOraL  \n",
              "5  Someone1234  "
            ]
          },
          "metadata": {
            "tags": []
          },
          "execution_count": 20
        }
      ]
    },
    {
      "cell_type": "code",
      "metadata": {
        "id": "R6vrF0VLuXr3",
        "colab_type": "code",
        "colab": {}
      },
      "source": [
        "#Machine Learning, using VADER Sentiment Analysis\n",
        "\n",
        "def sentiment_score(comment):\n",
        "    analyser = SentimentIntensityAnalyzer()\n",
        "    \n",
        "    x = 0\n",
        "    score = analyser.polarity_scores(comment)\n",
        "    x = x + score['pos']\n",
        "    x = x + score['compound']\n",
        "    x = x - score['neg'] \n",
        "\n",
        "    return x"
      ],
      "execution_count": 21,
      "outputs": []
    },
    {
      "cell_type": "code",
      "metadata": {
        "id": "3J02PQ8bBn4I",
        "colab_type": "code",
        "colab": {}
      },
      "source": [
        "#Apply function to each sample in 'text' column\n",
        "new_df['Saltiness'] = new_df['text'].apply(sentiment_score)"
      ],
      "execution_count": 22,
      "outputs": []
    },
    {
      "cell_type": "code",
      "metadata": {
        "id": "ERTlFQsKXgwY",
        "colab_type": "code",
        "colab": {}
      },
      "source": [
        "#Convert Saltiness column to percent\n",
        "new_df['Saltiness']=new_df['Saltiness'].apply('{:.0%}'.format)"
      ],
      "execution_count": 23,
      "outputs": []
    },
    {
      "cell_type": "code",
      "metadata": {
        "id": "3ICZb-mS5j82",
        "colab_type": "code",
        "colab": {
          "base_uri": "https://localhost:8080/",
          "height": 197
        },
        "outputId": "c1be7001-a2d6-4428-c561-b1f66aa6466b"
      },
      "source": [
        "#Moment of truth!\n",
        "new_df.head()"
      ],
      "execution_count": 24,
      "outputs": [
        {
          "output_type": "execute_result",
          "data": {
            "text/html": [
              "<div>\n",
              "<style scoped>\n",
              "    .dataframe tbody tr th:only-of-type {\n",
              "        vertical-align: middle;\n",
              "    }\n",
              "\n",
              "    .dataframe tbody tr th {\n",
              "        vertical-align: top;\n",
              "    }\n",
              "\n",
              "    .dataframe thead th {\n",
              "        text-align: right;\n",
              "    }\n",
              "</style>\n",
              "<table border=\"1\" class=\"dataframe\">\n",
              "  <thead>\n",
              "    <tr style=\"text-align: right;\">\n",
              "      <th></th>\n",
              "      <th>text</th>\n",
              "      <th>by</th>\n",
              "      <th>Saltiness</th>\n",
              "    </tr>\n",
              "  </thead>\n",
              "  <tbody>\n",
              "    <tr>\n",
              "      <th>0</th>\n",
              "      <td>Like I said, to be honest I do not know if it is in any way an  accurate  analogy, but it seems ...</td>\n",
              "      <td>davidw</td>\n",
              "      <td>-63%</td>\n",
              "    </tr>\n",
              "    <tr>\n",
              "      <th>2</th>\n",
              "      <td>Well, because heat dissipation is proportional to the square of the voltage, you end up giving u...</td>\n",
              "      <td>stcredzero</td>\n",
              "      <td>101%</td>\n",
              "    </tr>\n",
              "    <tr>\n",
              "      <th>3</th>\n",
              "      <td>So?</td>\n",
              "      <td>perl4ever</td>\n",
              "      <td>0%</td>\n",
              "    </tr>\n",
              "    <tr>\n",
              "      <th>4</th>\n",
              "      <td>Yes, because beating someone for doing or thinking something is a proven way of making them stop...</td>\n",
              "      <td>TeMPOraL</td>\n",
              "      <td>-81%</td>\n",
              "    </tr>\n",
              "    <tr>\n",
              "      <th>5</th>\n",
              "      <td>I think downvotes are fundamentally broken. If upvotes are agree/approval and downvotes are disa...</td>\n",
              "      <td>Someone1234</td>\n",
              "      <td>24%</td>\n",
              "    </tr>\n",
              "  </tbody>\n",
              "</table>\n",
              "</div>"
            ],
            "text/plain": [
              "                                                                                                  text  \\\n",
              "0  Like I said, to be honest I do not know if it is in any way an  accurate  analogy, but it seems ...   \n",
              "2  Well, because heat dissipation is proportional to the square of the voltage, you end up giving u...   \n",
              "3                                                                                                  So?   \n",
              "4  Yes, because beating someone for doing or thinking something is a proven way of making them stop...   \n",
              "5  I think downvotes are fundamentally broken. If upvotes are agree/approval and downvotes are disa...   \n",
              "\n",
              "            by Saltiness  \n",
              "0       davidw      -63%  \n",
              "2   stcredzero      101%  \n",
              "3    perl4ever        0%  \n",
              "4     TeMPOraL      -81%  \n",
              "5  Someone1234       24%  "
            ]
          },
          "metadata": {
            "tags": []
          },
          "execution_count": 24
        }
      ]
    },
    {
      "cell_type": "code",
      "metadata": {
        "id": "jfyyMlNMVrHc",
        "colab_type": "code",
        "colab": {}
      },
      "source": [
        "#Rename columns\n",
        "new_df.columns = ['Comment', 'Username', 'Saltiness']\n",
        "\n",
        "#Rearrange columns, sort by ranking\n",
        "order = ['Username', 'Comment', 'Saltiness']\n",
        "comments_score = new_df[order]"
      ],
      "execution_count": 44,
      "outputs": []
    },
    {
      "cell_type": "code",
      "metadata": {
        "id": "LQ7TfeAQW8c2",
        "colab_type": "code",
        "colab": {}
      },
      "source": [
        "comments_score.sort_values(by=['Username'], inplace=True)"
      ],
      "execution_count": 45,
      "outputs": []
    },
    {
      "cell_type": "code",
      "metadata": {
        "id": "rGUNzlNxskYL",
        "colab_type": "code",
        "colab": {}
      },
      "source": [
        "comments_score = comments_score.reset_index()"
      ],
      "execution_count": 46,
      "outputs": []
    },
    {
      "cell_type": "code",
      "metadata": {
        "id": "R5yxfYPa4GSK",
        "colab_type": "code",
        "colab": {}
      },
      "source": [
        "comments_score = comments_score.drop(columns=['index'])"
      ],
      "execution_count": 48,
      "outputs": []
    },
    {
      "cell_type": "code",
      "metadata": {
        "id": "7GUv-XIjiEt0",
        "colab_type": "code",
        "colab": {
          "base_uri": "https://localhost:8080/",
          "height": 406
        },
        "outputId": "18d4a45c-eb6c-475b-8bfa-9349daa22241"
      },
      "source": [
        "comments_score"
      ],
      "execution_count": 49,
      "outputs": [
        {
          "output_type": "execute_result",
          "data": {
            "text/html": [
              "<div>\n",
              "<style scoped>\n",
              "    .dataframe tbody tr th:only-of-type {\n",
              "        vertical-align: middle;\n",
              "    }\n",
              "\n",
              "    .dataframe tbody tr th {\n",
              "        vertical-align: top;\n",
              "    }\n",
              "\n",
              "    .dataframe thead th {\n",
              "        text-align: right;\n",
              "    }\n",
              "</style>\n",
              "<table border=\"1\" class=\"dataframe\">\n",
              "  <thead>\n",
              "    <tr style=\"text-align: right;\">\n",
              "      <th></th>\n",
              "      <th>Username</th>\n",
              "      <th>Comment</th>\n",
              "      <th>Saltiness</th>\n",
              "    </tr>\n",
              "  </thead>\n",
              "  <tbody>\n",
              "    <tr>\n",
              "      <th>0</th>\n",
              "      <td>001sky</td>\n",
              "      <td>Stuff like this doesn't just pop out of nowhere. It's very clear this is the start of a campaign...</td>\n",
              "      <td>-75%</td>\n",
              "    </tr>\n",
              "    <tr>\n",
              "      <th>1</th>\n",
              "      <td>001sky</td>\n",
              "      <td>How do they pay the cost of shut down, if they \"can't pay\" the cost of operation? Just curious. ...</td>\n",
              "      <td>38%</td>\n",
              "    </tr>\n",
              "    <tr>\n",
              "      <th>2</th>\n",
              "      <td>001sky</td>\n",
              "      <td>Seawater is not acidic. There is no such thing as 'acidification' in the literal sense. The wate...</td>\n",
              "      <td>-37%</td>\n",
              "    </tr>\n",
              "    <tr>\n",
              "      <th>3</th>\n",
              "      <td>001sky</td>\n",
              "      <td>isn't the temperature variability of li-ion a rookie mistake? have you ever taken a camera skiin...</td>\n",
              "      <td>-18%</td>\n",
              "    </tr>\n",
              "    <tr>\n",
              "      <th>4</th>\n",
              "      <td>001sky</td>\n",
              "      <td>I don't think this is relevant. The reason that people for the most are leaving is not politics ...</td>\n",
              "      <td>91%</td>\n",
              "    </tr>\n",
              "    <tr>\n",
              "      <th>...</th>\n",
              "      <td>...</td>\n",
              "      <td>...</td>\n",
              "      <td>...</td>\n",
              "    </tr>\n",
              "    <tr>\n",
              "      <th>44653</th>\n",
              "      <td>zokier</td>\n",
              "      <td>Spam for $99 shim for gdb.</td>\n",
              "      <td>-69%</td>\n",
              "    </tr>\n",
              "    <tr>\n",
              "      <th>44654</th>\n",
              "      <td>zokier</td>\n",
              "      <td>Because the defaults come from 70's, and lots of nice stuff has added since, but nobody dared to...</td>\n",
              "      <td>31%</td>\n",
              "    </tr>\n",
              "    <tr>\n",
              "      <th>44655</th>\n",
              "      <td>zokier</td>\n",
              "      <td>I don't see the need to make that distinction here. It should be trivial to port from Moblin to ...</td>\n",
              "      <td>76%</td>\n",
              "    </tr>\n",
              "    <tr>\n",
              "      <th>44656</th>\n",
              "      <td>zokier</td>\n",
              "      <td>xsv for doing queries against CSV files probably belongs to the list too:</td>\n",
              "      <td>0%</td>\n",
              "    </tr>\n",
              "    <tr>\n",
              "      <th>44657</th>\n",
              "      <td>zokier</td>\n",
              "      <td>Java offered no-install sandboxed apps well before the webapp craze. But of course being based o...</td>\n",
              "      <td>8%</td>\n",
              "    </tr>\n",
              "  </tbody>\n",
              "</table>\n",
              "<p>44658 rows × 3 columns</p>\n",
              "</div>"
            ],
            "text/plain": [
              "      Username  \\\n",
              "0       001sky   \n",
              "1       001sky   \n",
              "2       001sky   \n",
              "3       001sky   \n",
              "4       001sky   \n",
              "...        ...   \n",
              "44653   zokier   \n",
              "44654   zokier   \n",
              "44655   zokier   \n",
              "44656   zokier   \n",
              "44657   zokier   \n",
              "\n",
              "                                                                                                   Comment  \\\n",
              "0      Stuff like this doesn't just pop out of nowhere. It's very clear this is the start of a campaign...   \n",
              "1      How do they pay the cost of shut down, if they \"can't pay\" the cost of operation? Just curious. ...   \n",
              "2      Seawater is not acidic. There is no such thing as 'acidification' in the literal sense. The wate...   \n",
              "3      isn't the temperature variability of li-ion a rookie mistake? have you ever taken a camera skiin...   \n",
              "4      I don't think this is relevant. The reason that people for the most are leaving is not politics ...   \n",
              "...                                                                                                    ...   \n",
              "44653                                                                           Spam for $99 shim for gdb.   \n",
              "44654  Because the defaults come from 70's, and lots of nice stuff has added since, but nobody dared to...   \n",
              "44655  I don't see the need to make that distinction here. It should be trivial to port from Moblin to ...   \n",
              "44656                           xsv for doing queries against CSV files probably belongs to the list too:    \n",
              "44657  Java offered no-install sandboxed apps well before the webapp craze. But of course being based o...   \n",
              "\n",
              "      Saltiness  \n",
              "0          -75%  \n",
              "1           38%  \n",
              "2          -37%  \n",
              "3          -18%  \n",
              "4           91%  \n",
              "...         ...  \n",
              "44653      -69%  \n",
              "44654       31%  \n",
              "44655       76%  \n",
              "44656        0%  \n",
              "44657        8%  \n",
              "\n",
              "[44658 rows x 3 columns]"
            ]
          },
          "metadata": {
            "tags": []
          },
          "execution_count": 49
        }
      ]
    },
    {
      "cell_type": "code",
      "metadata": {
        "id": "RD__aDFTiJpS",
        "colab_type": "code",
        "colab": {
          "base_uri": "https://localhost:8080/",
          "height": 54
        },
        "outputId": "546b016e-bdf3-484a-f9ce-c85041232bca"
      },
      "source": [
        "#Random comment test\n",
        "comments_score.loc[600,'Comment']"
      ],
      "execution_count": 50,
      "outputs": [
        {
          "output_type": "execute_result",
          "data": {
            "text/plain": [
              "\"> Do you really believe that? Not many do - most think it is a deliberately racist strategy, and most see that quote as an explanation of it. How is it racist to remove the racist component from a policy? It's literally the exact opposite of that. That's what optimizing to reduce the amount of racism looks like -- you find things that are partly desired and partly racist and replace them with something to achieve the desired objective without discriminating based on race.\""
            ]
          },
          "metadata": {
            "tags": []
          },
          "execution_count": 50
        }
      ]
    },
    {
      "cell_type": "code",
      "metadata": {
        "id": "9HvTBZn_iQ9T",
        "colab_type": "code",
        "colab": {
          "base_uri": "https://localhost:8080/",
          "height": 34
        },
        "outputId": "54dabba4-fd81-4cae-fb00-33dacdb6eb32"
      },
      "source": [
        "#Comment is pretty negative\n",
        "comments_score.loc[600,'Saltiness']"
      ],
      "execution_count": 51,
      "outputs": [
        {
          "output_type": "execute_result",
          "data": {
            "text/plain": [
              "'-103%'"
            ]
          },
          "metadata": {
            "tags": []
          },
          "execution_count": 51
        }
      ]
    },
    {
      "cell_type": "code",
      "metadata": {
        "id": "kN_G-iwcinZ4",
        "colab_type": "code",
        "colab": {
          "base_uri": "https://localhost:8080/",
          "height": 54
        },
        "outputId": "97bbe68e-00aa-42e8-c830-a84a96da7f48"
      },
      "source": [
        "comments_score.loc[4600,'Comment']"
      ],
      "execution_count": 52,
      "outputs": [
        {
          "output_type": "execute_result",
          "data": {
            "text/plain": [
              "'That actually sounds like a much better policy than what was implemented in the US.  Bailing out foreign creditors to private banks was  simply a huge waste of money.'"
            ]
          },
          "metadata": {
            "tags": []
          },
          "execution_count": 52
        }
      ]
    },
    {
      "cell_type": "code",
      "metadata": {
        "id": "AasqegeWixOJ",
        "colab_type": "code",
        "colab": {
          "base_uri": "https://localhost:8080/",
          "height": 34
        },
        "outputId": "1112db3a-2595-4dd4-f40a-f6255e3f58ff"
      },
      "source": [
        "#Comment is overall positive\n",
        "comments_score.loc[4600,'Saltiness']"
      ],
      "execution_count": 53,
      "outputs": [
        {
          "output_type": "execute_result",
          "data": {
            "text/plain": [
              "'74%'"
            ]
          },
          "metadata": {
            "tags": []
          },
          "execution_count": 53
        }
      ]
    },
    {
      "cell_type": "code",
      "metadata": {
        "id": "cMUW_peBi03l",
        "colab_type": "code",
        "colab": {}
      },
      "source": [
        ""
      ],
      "execution_count": null,
      "outputs": []
    }
  ]
}