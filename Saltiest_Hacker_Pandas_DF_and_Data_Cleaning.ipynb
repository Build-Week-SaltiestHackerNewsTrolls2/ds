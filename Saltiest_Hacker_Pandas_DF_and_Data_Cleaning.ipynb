{
  "nbformat": 4,
  "nbformat_minor": 0,
  "metadata": {
    "colab": {
      "name": " Saltiest Hacker Pandas DF and Data Cleaning.ipynb",
      "provenance": [],
      "collapsed_sections": [],
      "authorship_tag": "ABX9TyNUFaDDNgrP0cDDdleMwADB",
      "include_colab_link": true
    },
    "kernelspec": {
      "name": "python3",
      "display_name": "Python 3"
    }
  },
  "cells": [
    {
      "cell_type": "markdown",
      "metadata": {
        "id": "view-in-github",
        "colab_type": "text"
      },
      "source": [
        "<a href=\"https://colab.research.google.com/github/beccacauthorn/ds/blob/master/Saltiest_Hacker_Pandas_DF_and_Data_Cleaning.ipynb\" target=\"_parent\"><img src=\"https://colab.research.google.com/assets/colab-badge.svg\" alt=\"Open In Colab\"/></a>"
      ]
    },
    {
      "cell_type": "code",
      "metadata": {
        "id": "M6Mari0ZNI9U",
        "colab_type": "code",
        "colab": {}
      },
      "source": [
        "# Intrusctions from https://www.kaggle.com/dansbecker/getting-started-with-sql-and-bigquery\n",
        "from google.cloud import bigquery\n",
        "\n",
        "# Need to authenticate -- see https://colab.research.google.com/notebooks/bigquery.ipynb#scrollTo=SeTJb51SKs_W\n",
        "from google.colab import auth\n",
        "auth.authenticate_user()"
      ],
      "execution_count": 2,
      "outputs": []
    },
    {
      "cell_type": "code",
      "metadata": {
        "id": "_KjeyJokPzHe",
        "colab_type": "code",
        "colab": {}
      },
      "source": [
        "# Create a \"Client\" object\n",
        "client = bigquery.Client(project=\"stone-flux-280702\")"
      ],
      "execution_count": 3,
      "outputs": []
    },
    {
      "cell_type": "code",
      "metadata": {
        "id": "rgGN_H4heHfl",
        "colab_type": "code",
        "colab": {}
      },
      "source": [
        "# Run SQL query to obtain filtered table\n",
        "query_string = \"\"\"\n",
        "SELECT C.by\n",
        "FROM (\n",
        "  SELECT A.by, COUNT(*) AS count\n",
        "  FROM `bigquery-public-data.hacker_news.full` AS A\n",
        "  GROUP BY A.by\n",
        "  ORDER BY count DESC\n",
        "  LIMIT 100\n",
        ") AS C\n",
        "WHERE C.by != \"None\"\n",
        "\"\"\"\n",
        "\n",
        "frequent_users = client.query(query_string).result().to_dataframe()"
      ],
      "execution_count": 4,
      "outputs": []
    },
    {
      "cell_type": "code",
      "metadata": {
        "id": "RymGkInflY8B",
        "colab_type": "code",
        "colab": {}
      },
      "source": [
        "# This is a triple-nested query that gets a number of comments made only by the most\n",
        "# frequent users.  Change the \"LIMIT XXX\" part of the inner-most query to tune the\n",
        "# number of users.  Change the outermost \"LIMIT YYY\" to change the total number of comments.\n",
        "query_string = \"\"\"\n",
        "SELECT *\n",
        "FROM `bigquery-public-data.hacker_news.full` AS A\n",
        "WHERE A.by IN (\n",
        "  SELECT C.by\n",
        "  FROM (\n",
        "    SELECT A.by, COUNT(*) AS count\n",
        "    FROM `bigquery-public-data.hacker_news.full` AS A\n",
        "    GROUP BY A.by\n",
        "    ORDER BY count DESC\n",
        "    LIMIT 500\n",
        "  ) AS C\n",
        "  WHERE C.by != \"None\"\n",
        ")\n",
        "LIMIT 500000\n",
        "\"\"\"\n",
        "\n",
        "df = client.query(query_string).result().to_dataframe()"
      ],
      "execution_count": 5,
      "outputs": []
    },
    {
      "cell_type": "code",
      "metadata": {
        "id": "QYJahnTKmSQk",
        "colab_type": "code",
        "colab": {
          "base_uri": "https://localhost:8080/",
          "height": 663
        },
        "outputId": "a6a01ed8-a292-4b62-86e4-75944c31559b"
      },
      "source": [
        "df.head()"
      ],
      "execution_count": 6,
      "outputs": [
        {
          "output_type": "execute_result",
          "data": {
            "text/html": [
              "<div>\n",
              "<style scoped>\n",
              "    .dataframe tbody tr th:only-of-type {\n",
              "        vertical-align: middle;\n",
              "    }\n",
              "\n",
              "    .dataframe tbody tr th {\n",
              "        vertical-align: top;\n",
              "    }\n",
              "\n",
              "    .dataframe thead th {\n",
              "        text-align: right;\n",
              "    }\n",
              "</style>\n",
              "<table border=\"1\" class=\"dataframe\">\n",
              "  <thead>\n",
              "    <tr style=\"text-align: right;\">\n",
              "      <th></th>\n",
              "      <th>title</th>\n",
              "      <th>url</th>\n",
              "      <th>text</th>\n",
              "      <th>dead</th>\n",
              "      <th>by</th>\n",
              "      <th>score</th>\n",
              "      <th>time</th>\n",
              "      <th>timestamp</th>\n",
              "      <th>type</th>\n",
              "      <th>id</th>\n",
              "      <th>parent</th>\n",
              "      <th>descendants</th>\n",
              "      <th>ranking</th>\n",
              "      <th>deleted</th>\n",
              "    </tr>\n",
              "  </thead>\n",
              "  <tbody>\n",
              "    <tr>\n",
              "      <th>0</th>\n",
              "      <td>None</td>\n",
              "      <td>None</td>\n",
              "      <td>No indication of how large these programs are ...</td>\n",
              "      <td>None</td>\n",
              "      <td>pjc50</td>\n",
              "      <td>NaN</td>\n",
              "      <td>1557783585</td>\n",
              "      <td>2019-05-13 21:39:45+00:00</td>\n",
              "      <td>comment</td>\n",
              "      <td>19904253</td>\n",
              "      <td>19896542.0</td>\n",
              "      <td>NaN</td>\n",
              "      <td>None</td>\n",
              "      <td>None</td>\n",
              "    </tr>\n",
              "    <tr>\n",
              "      <th>1</th>\n",
              "      <td>None</td>\n",
              "      <td>None</td>\n",
              "      <td>Well, if you want to obfuscate a constant stri...</td>\n",
              "      <td>None</td>\n",
              "      <td>thaumasiotes</td>\n",
              "      <td>NaN</td>\n",
              "      <td>1396076803</td>\n",
              "      <td>2014-03-29 07:06:43+00:00</td>\n",
              "      <td>comment</td>\n",
              "      <td>7491659</td>\n",
              "      <td>7491605.0</td>\n",
              "      <td>NaN</td>\n",
              "      <td>None</td>\n",
              "      <td>None</td>\n",
              "    </tr>\n",
              "    <tr>\n",
              "      <th>2</th>\n",
              "      <td>None</td>\n",
              "      <td>None</td>\n",
              "      <td>Yeah, it&amp;#x27;s like how we had to stop using ...</td>\n",
              "      <td>None</td>\n",
              "      <td>coldtea</td>\n",
              "      <td>NaN</td>\n",
              "      <td>1497896537</td>\n",
              "      <td>2017-06-19 18:22:17+00:00</td>\n",
              "      <td>comment</td>\n",
              "      <td>14589123</td>\n",
              "      <td>14588063.0</td>\n",
              "      <td>NaN</td>\n",
              "      <td>None</td>\n",
              "      <td>None</td>\n",
              "    </tr>\n",
              "    <tr>\n",
              "      <th>3</th>\n",
              "      <td>Computers Might Just 'See' Like Humans After All</td>\n",
              "      <td>http://motherboard.vice.com/read/computers-mig...</td>\n",
              "      <td>None</td>\n",
              "      <td>None</td>\n",
              "      <td>jonbaer</td>\n",
              "      <td>2.0</td>\n",
              "      <td>1462006100</td>\n",
              "      <td>2016-04-30 08:48:20+00:00</td>\n",
              "      <td>story</td>\n",
              "      <td>11600974</td>\n",
              "      <td>NaN</td>\n",
              "      <td>0.0</td>\n",
              "      <td>None</td>\n",
              "      <td>None</td>\n",
              "    </tr>\n",
              "    <tr>\n",
              "      <th>4</th>\n",
              "      <td>Q&amp;A: Pulsar Pioneer Jocelyn Bell Burnell</td>\n",
              "      <td>https://physicstoday.scitation.org/do/10.1063/...</td>\n",
              "      <td>None</td>\n",
              "      <td>None</td>\n",
              "      <td>sohkamyung</td>\n",
              "      <td>2.0</td>\n",
              "      <td>1548914093</td>\n",
              "      <td>2019-01-31 05:54:53+00:00</td>\n",
              "      <td>story</td>\n",
              "      <td>19042710</td>\n",
              "      <td>NaN</td>\n",
              "      <td>0.0</td>\n",
              "      <td>None</td>\n",
              "      <td>None</td>\n",
              "    </tr>\n",
              "  </tbody>\n",
              "</table>\n",
              "</div>"
            ],
            "text/plain": [
              "                                              title  ... deleted\n",
              "0                                              None  ...    None\n",
              "1                                              None  ...    None\n",
              "2                                              None  ...    None\n",
              "3  Computers Might Just 'See' Like Humans After All  ...    None\n",
              "4          Q&A: Pulsar Pioneer Jocelyn Bell Burnell  ...    None\n",
              "\n",
              "[5 rows x 14 columns]"
            ]
          },
          "metadata": {
            "tags": []
          },
          "execution_count": 6
        }
      ]
    },
    {
      "cell_type": "code",
      "metadata": {
        "id": "Q9sqJUoVm-uA",
        "colab_type": "code",
        "colab": {
          "base_uri": "https://localhost:8080/",
          "height": 35
        },
        "outputId": "2fda7ac0-6cc8-4564-98c2-6f0dcd027e81"
      },
      "source": [
        "df.shape"
      ],
      "execution_count": 7,
      "outputs": [
        {
          "output_type": "execute_result",
          "data": {
            "text/plain": [
              "(500000, 14)"
            ]
          },
          "metadata": {
            "tags": []
          },
          "execution_count": 7
        }
      ]
    },
    {
      "cell_type": "code",
      "metadata": {
        "id": "POiQRD6MrRpe",
        "colab_type": "code",
        "colab": {
          "base_uri": "https://localhost:8080/",
          "height": 230
        },
        "outputId": "f53430d6-4dde-4a77-8679-e020dd3b8570"
      },
      "source": [
        "df['by'].value_counts()"
      ],
      "execution_count": 8,
      "outputs": [
        {
          "output_type": "execute_result",
          "data": {
            "text/plain": [
              "tptacek         7351\n",
              "jacquesm        5654\n",
              "dang            5617\n",
              "rbanffy         4734\n",
              "dragonwriter    4615\n",
              "                ... \n",
              "Gibbon1          533\n",
              "icey             531\n",
              "MBCook           528\n",
              "zokier           522\n",
              "tripzilch        521\n",
              "Name: by, Length: 499, dtype: int64"
            ]
          },
          "metadata": {
            "tags": []
          },
          "execution_count": 8
        }
      ]
    },
    {
      "cell_type": "code",
      "metadata": {
        "id": "mRzw6-VEulmw",
        "colab_type": "code",
        "colab": {
          "base_uri": "https://localhost:8080/",
          "height": 124
        },
        "outputId": "a8d14ad1-b9aa-4603-e71f-972a64ab8412"
      },
      "source": [
        "df['type'].value_counts()"
      ],
      "execution_count": 9,
      "outputs": [
        {
          "output_type": "execute_result",
          "data": {
            "text/plain": [
              "comment    446968\n",
              "story       52747\n",
              "pollopt       252\n",
              "poll           30\n",
              "job             3\n",
              "Name: type, dtype: int64"
            ]
          },
          "metadata": {
            "tags": []
          },
          "execution_count": 9
        }
      ]
    },
    {
      "cell_type": "code",
      "metadata": {
        "id": "BWfXAsGduaAN",
        "colab_type": "code",
        "colab": {
          "base_uri": "https://localhost:8080/",
          "height": 1000
        },
        "outputId": "714a9211-c398-4042-ad66-0beee29b0eac"
      },
      "source": [
        "# filter out by type (keep story and comment)\n",
        "df[(df['type'] == 'story') | (df['type'] == 'comment')]"
      ],
      "execution_count": 15,
      "outputs": [
        {
          "output_type": "execute_result",
          "data": {
            "text/html": [
              "<div>\n",
              "<style scoped>\n",
              "    .dataframe tbody tr th:only-of-type {\n",
              "        vertical-align: middle;\n",
              "    }\n",
              "\n",
              "    .dataframe tbody tr th {\n",
              "        vertical-align: top;\n",
              "    }\n",
              "\n",
              "    .dataframe thead th {\n",
              "        text-align: right;\n",
              "    }\n",
              "</style>\n",
              "<table border=\"1\" class=\"dataframe\">\n",
              "  <thead>\n",
              "    <tr style=\"text-align: right;\">\n",
              "      <th></th>\n",
              "      <th>title</th>\n",
              "      <th>url</th>\n",
              "      <th>text</th>\n",
              "      <th>dead</th>\n",
              "      <th>by</th>\n",
              "      <th>score</th>\n",
              "      <th>time</th>\n",
              "      <th>timestamp</th>\n",
              "      <th>type</th>\n",
              "      <th>id</th>\n",
              "      <th>parent</th>\n",
              "      <th>descendants</th>\n",
              "      <th>ranking</th>\n",
              "      <th>deleted</th>\n",
              "    </tr>\n",
              "  </thead>\n",
              "  <tbody>\n",
              "    <tr>\n",
              "      <th>0</th>\n",
              "      <td>None</td>\n",
              "      <td>None</td>\n",
              "      <td>No indication of how large these programs are ...</td>\n",
              "      <td>None</td>\n",
              "      <td>pjc50</td>\n",
              "      <td>NaN</td>\n",
              "      <td>1557783585</td>\n",
              "      <td>2019-05-13 21:39:45+00:00</td>\n",
              "      <td>comment</td>\n",
              "      <td>19904253</td>\n",
              "      <td>19896542.0</td>\n",
              "      <td>NaN</td>\n",
              "      <td>None</td>\n",
              "      <td>None</td>\n",
              "    </tr>\n",
              "    <tr>\n",
              "      <th>1</th>\n",
              "      <td>None</td>\n",
              "      <td>None</td>\n",
              "      <td>Well, if you want to obfuscate a constant stri...</td>\n",
              "      <td>None</td>\n",
              "      <td>thaumasiotes</td>\n",
              "      <td>NaN</td>\n",
              "      <td>1396076803</td>\n",
              "      <td>2014-03-29 07:06:43+00:00</td>\n",
              "      <td>comment</td>\n",
              "      <td>7491659</td>\n",
              "      <td>7491605.0</td>\n",
              "      <td>NaN</td>\n",
              "      <td>None</td>\n",
              "      <td>None</td>\n",
              "    </tr>\n",
              "    <tr>\n",
              "      <th>2</th>\n",
              "      <td>None</td>\n",
              "      <td>None</td>\n",
              "      <td>Yeah, it&amp;#x27;s like how we had to stop using ...</td>\n",
              "      <td>None</td>\n",
              "      <td>coldtea</td>\n",
              "      <td>NaN</td>\n",
              "      <td>1497896537</td>\n",
              "      <td>2017-06-19 18:22:17+00:00</td>\n",
              "      <td>comment</td>\n",
              "      <td>14589123</td>\n",
              "      <td>14588063.0</td>\n",
              "      <td>NaN</td>\n",
              "      <td>None</td>\n",
              "      <td>None</td>\n",
              "    </tr>\n",
              "    <tr>\n",
              "      <th>3</th>\n",
              "      <td>Computers Might Just 'See' Like Humans After All</td>\n",
              "      <td>http://motherboard.vice.com/read/computers-mig...</td>\n",
              "      <td>None</td>\n",
              "      <td>None</td>\n",
              "      <td>jonbaer</td>\n",
              "      <td>2.0</td>\n",
              "      <td>1462006100</td>\n",
              "      <td>2016-04-30 08:48:20+00:00</td>\n",
              "      <td>story</td>\n",
              "      <td>11600974</td>\n",
              "      <td>NaN</td>\n",
              "      <td>0.0</td>\n",
              "      <td>None</td>\n",
              "      <td>None</td>\n",
              "    </tr>\n",
              "    <tr>\n",
              "      <th>4</th>\n",
              "      <td>Q&amp;A: Pulsar Pioneer Jocelyn Bell Burnell</td>\n",
              "      <td>https://physicstoday.scitation.org/do/10.1063/...</td>\n",
              "      <td>None</td>\n",
              "      <td>None</td>\n",
              "      <td>sohkamyung</td>\n",
              "      <td>2.0</td>\n",
              "      <td>1548914093</td>\n",
              "      <td>2019-01-31 05:54:53+00:00</td>\n",
              "      <td>story</td>\n",
              "      <td>19042710</td>\n",
              "      <td>NaN</td>\n",
              "      <td>0.0</td>\n",
              "      <td>None</td>\n",
              "      <td>None</td>\n",
              "    </tr>\n",
              "    <tr>\n",
              "      <th>...</th>\n",
              "      <td>...</td>\n",
              "      <td>...</td>\n",
              "      <td>...</td>\n",
              "      <td>...</td>\n",
              "      <td>...</td>\n",
              "      <td>...</td>\n",
              "      <td>...</td>\n",
              "      <td>...</td>\n",
              "      <td>...</td>\n",
              "      <td>...</td>\n",
              "      <td>...</td>\n",
              "      <td>...</td>\n",
              "      <td>...</td>\n",
              "      <td>...</td>\n",
              "    </tr>\n",
              "    <tr>\n",
              "      <th>499995</th>\n",
              "      <td>None</td>\n",
              "      <td>None</td>\n",
              "      <td>If we were talking about the out-of-tree Virtu...</td>\n",
              "      <td>None</td>\n",
              "      <td>cyphar</td>\n",
              "      <td>NaN</td>\n",
              "      <td>1556782094</td>\n",
              "      <td>2019-05-02 07:28:14+00:00</td>\n",
              "      <td>comment</td>\n",
              "      <td>19805584</td>\n",
              "      <td>19800311.0</td>\n",
              "      <td>NaN</td>\n",
              "      <td>None</td>\n",
              "      <td>None</td>\n",
              "    </tr>\n",
              "    <tr>\n",
              "      <th>499996</th>\n",
              "      <td>None</td>\n",
              "      <td>None</td>\n",
              "      <td>I'm not familiar with the Digg data model, but...</td>\n",
              "      <td>None</td>\n",
              "      <td>mistermann</td>\n",
              "      <td>NaN</td>\n",
              "      <td>1269663057</td>\n",
              "      <td>2010-03-27 04:10:57+00:00</td>\n",
              "      <td>comment</td>\n",
              "      <td>1222556</td>\n",
              "      <td>1221798.0</td>\n",
              "      <td>NaN</td>\n",
              "      <td>None</td>\n",
              "      <td>None</td>\n",
              "    </tr>\n",
              "    <tr>\n",
              "      <th>499997</th>\n",
              "      <td>None</td>\n",
              "      <td>None</td>\n",
              "      <td>Which is why they dropped OpenSSL.</td>\n",
              "      <td>None</td>\n",
              "      <td>mikeash</td>\n",
              "      <td>NaN</td>\n",
              "      <td>1350422565</td>\n",
              "      <td>2012-10-16 21:22:45+00:00</td>\n",
              "      <td>comment</td>\n",
              "      <td>4661921</td>\n",
              "      <td>4661901.0</td>\n",
              "      <td>NaN</td>\n",
              "      <td>None</td>\n",
              "      <td>None</td>\n",
              "    </tr>\n",
              "    <tr>\n",
              "      <th>499998</th>\n",
              "      <td>None</td>\n",
              "      <td>None</td>\n",
              "      <td>See the &amp;quot;real article&amp;quot; [0] that this...</td>\n",
              "      <td>None</td>\n",
              "      <td>jlgaddis</td>\n",
              "      <td>NaN</td>\n",
              "      <td>1505537779</td>\n",
              "      <td>2017-09-16 04:56:19+00:00</td>\n",
              "      <td>comment</td>\n",
              "      <td>15262959</td>\n",
              "      <td>15262796.0</td>\n",
              "      <td>NaN</td>\n",
              "      <td>None</td>\n",
              "      <td>None</td>\n",
              "    </tr>\n",
              "    <tr>\n",
              "      <th>499999</th>\n",
              "      <td>None</td>\n",
              "      <td>None</td>\n",
              "      <td>This doesn&amp;#x27;t say anything. They invested ...</td>\n",
              "      <td>None</td>\n",
              "      <td>tptacek</td>\n",
              "      <td>NaN</td>\n",
              "      <td>1535484650</td>\n",
              "      <td>2018-08-28 19:30:50+00:00</td>\n",
              "      <td>comment</td>\n",
              "      <td>17862085</td>\n",
              "      <td>17860820.0</td>\n",
              "      <td>NaN</td>\n",
              "      <td>None</td>\n",
              "      <td>None</td>\n",
              "    </tr>\n",
              "  </tbody>\n",
              "</table>\n",
              "<p>499715 rows × 14 columns</p>\n",
              "</div>"
            ],
            "text/plain": [
              "                                                   title  ... deleted\n",
              "0                                                   None  ...    None\n",
              "1                                                   None  ...    None\n",
              "2                                                   None  ...    None\n",
              "3       Computers Might Just 'See' Like Humans After All  ...    None\n",
              "4               Q&A: Pulsar Pioneer Jocelyn Bell Burnell  ...    None\n",
              "...                                                  ...  ...     ...\n",
              "499995                                              None  ...    None\n",
              "499996                                              None  ...    None\n",
              "499997                                              None  ...    None\n",
              "499998                                              None  ...    None\n",
              "499999                                              None  ...    None\n",
              "\n",
              "[499715 rows x 14 columns]"
            ]
          },
          "metadata": {
            "tags": []
          },
          "execution_count": 15
        }
      ]
    },
    {
      "cell_type": "code",
      "metadata": {
        "id": "XGPNpnSIvJKG",
        "colab_type": "code",
        "colab": {}
      },
      "source": [
        "# drop some columns\n",
        "#drop title, has 447,218 null values \n",
        "#drop ranking, has 500000 null values\n",
        "#drop score, has 446968 null values \n",
        "clean_df = df.drop(['time', 'descendants', 'deleted', 'url', 'dead', 'title', 'ranking', 'score'], axis=1)"
      ],
      "execution_count": 60,
      "outputs": []
    },
    {
      "cell_type": "code",
      "metadata": {
        "id": "RV-zl3K5o3ju",
        "colab_type": "code",
        "colab": {
          "base_uri": "https://localhost:8080/",
          "height": 35
        },
        "outputId": "1804e9b7-9fd0-4451-ff7d-1f0bc2a22f5d"
      },
      "source": [
        "# average of all texts\n",
        "clean_df['text'].str.len().mean()"
      ],
      "execution_count": 61,
      "outputs": [
        {
          "output_type": "execute_result",
          "data": {
            "text/plain": [
              "423.7787797330666"
            ]
          },
          "metadata": {
            "tags": []
          },
          "execution_count": 61
        }
      ]
    },
    {
      "cell_type": "code",
      "metadata": {
        "id": "k7fXCCbqtf5V",
        "colab_type": "code",
        "colab": {
          "base_uri": "https://localhost:8080/",
          "height": 283
        },
        "outputId": "5c097b96-e76c-4c32-d630-c269d1c6ae2f"
      },
      "source": [
        "# histogram of all text lengths\n",
        "clean_df['text'].str.len().hist()"
      ],
      "execution_count": 62,
      "outputs": [
        {
          "output_type": "execute_result",
          "data": {
            "text/plain": [
              "<matplotlib.axes._subplots.AxesSubplot at 0x7f311cabeef0>"
            ]
          },
          "metadata": {
            "tags": []
          },
          "execution_count": 62
        },
        {
          "output_type": "display_data",
          "data": {
            "image/png": "[encoded data removed]",
            "text/plain": [
              "<Figure size 432x288 with 1 Axes>"
            ]
          },
          "metadata": {
            "tags": [],
            "needs_background": "light"
          }
        }
      ]
    },
    {
      "cell_type": "code",
      "metadata": {
        "id": "RzCxks9TtqOa",
        "colab_type": "code",
        "colab": {
          "base_uri": "https://localhost:8080/",
          "height": 177
        },
        "outputId": "710e7288-3f67-4079-c01f-1d6f6cb58ffb"
      },
      "source": [
        "# description of story texts\n",
        "clean_df[clean_df['type'] == 'story']['text'].str.len().describe()"
      ],
      "execution_count": 63,
      "outputs": [
        {
          "output_type": "execute_result",
          "data": {
            "text/plain": [
              "count     669.000000\n",
              "mean      606.789238\n",
              "std       697.342040\n",
              "min         1.000000\n",
              "25%       210.000000\n",
              "50%       401.000000\n",
              "75%       776.000000\n",
              "max      7560.000000\n",
              "Name: text, dtype: float64"
            ]
          },
          "metadata": {
            "tags": []
          },
          "execution_count": 63
        }
      ]
    },
    {
      "cell_type": "code",
      "metadata": {
        "id": "VCRszthJum6N",
        "colab_type": "code",
        "colab": {
          "base_uri": "https://localhost:8080/",
          "height": 177
        },
        "outputId": "191db9b6-4ee7-4e00-9436-76a0a0361e18"
      },
      "source": [
        "# description of comment texts\n",
        "clean_df[clean_df['type'] == 'comment']['text'].str.len().describe()"
      ],
      "execution_count": 64,
      "outputs": [
        {
          "output_type": "execute_result",
          "data": {
            "text/plain": [
              "count    446952.000000\n",
              "mean        423.729669\n",
              "std         488.017941\n",
              "min           1.000000\n",
              "25%         144.000000\n",
              "50%         276.000000\n",
              "75%         523.000000\n",
              "max       15018.000000\n",
              "Name: text, dtype: float64"
            ]
          },
          "metadata": {
            "tags": []
          },
          "execution_count": 64
        }
      ]
    },
    {
      "cell_type": "code",
      "metadata": {
        "id": "DBiB3OLmvMZ1",
        "colab_type": "code",
        "colab": {
          "base_uri": "https://localhost:8080/",
          "height": 352
        },
        "outputId": "7005e5d3-34a8-438a-d8e9-90796382cbcc"
      },
      "source": [
        "aux = clean_df[clean_df['type'] == 'comment']\n",
        "aux2 = aux[aux['text'].str.len() <= 5]\n",
        "aux2.head(10)"
      ],
      "execution_count": 65,
      "outputs": [
        {
          "output_type": "execute_result",
          "data": {
            "text/html": [
              "<div>\n",
              "<style scoped>\n",
              "    .dataframe tbody tr th:only-of-type {\n",
              "        vertical-align: middle;\n",
              "    }\n",
              "\n",
              "    .dataframe tbody tr th {\n",
              "        vertical-align: top;\n",
              "    }\n",
              "\n",
              "    .dataframe thead th {\n",
              "        text-align: right;\n",
              "    }\n",
              "</style>\n",
              "<table border=\"1\" class=\"dataframe\">\n",
              "  <thead>\n",
              "    <tr style=\"text-align: right;\">\n",
              "      <th></th>\n",
              "      <th>text</th>\n",
              "      <th>by</th>\n",
              "      <th>timestamp</th>\n",
              "      <th>type</th>\n",
              "      <th>id</th>\n",
              "      <th>parent</th>\n",
              "    </tr>\n",
              "  </thead>\n",
              "  <tbody>\n",
              "    <tr>\n",
              "      <th>1215</th>\n",
              "      <td>Like?</td>\n",
              "      <td>buboard</td>\n",
              "      <td>2019-11-06 16:43:36+00:00</td>\n",
              "      <td>comment</td>\n",
              "      <td>21464245</td>\n",
              "      <td>21464107.0</td>\n",
              "    </tr>\n",
              "    <tr>\n",
              "      <th>2909</th>\n",
              "      <td>Yes</td>\n",
              "      <td>rms</td>\n",
              "      <td>2009-06-08 08:45:09+00:00</td>\n",
              "      <td>comment</td>\n",
              "      <td>647012</td>\n",
              "      <td>646916.0</td>\n",
              "    </tr>\n",
              "    <tr>\n",
              "      <th>3212</th>\n",
              "      <td>yes</td>\n",
              "      <td>uptown</td>\n",
              "      <td>2012-01-25 16:45:35+00:00</td>\n",
              "      <td>comment</td>\n",
              "      <td>3510420</td>\n",
              "      <td>3510284.0</td>\n",
              "    </tr>\n",
              "    <tr>\n",
              "      <th>3495</th>\n",
              "      <td>We?</td>\n",
              "      <td>k__</td>\n",
              "      <td>2019-12-28 20:04:53+00:00</td>\n",
              "      <td>comment</td>\n",
              "      <td>21901381</td>\n",
              "      <td>21899269.0</td>\n",
              "    </tr>\n",
              "    <tr>\n",
              "      <th>4384</th>\n",
              "      <td>yeah</td>\n",
              "      <td>moron4hire</td>\n",
              "      <td>2013-07-30 22:42:19+00:00</td>\n",
              "      <td>comment</td>\n",
              "      <td>6130608</td>\n",
              "      <td>6130604.0</td>\n",
              "    </tr>\n",
              "    <tr>\n",
              "      <th>4927</th>\n",
              "      <td>-</td>\n",
              "      <td>sp332</td>\n",
              "      <td>2017-07-14 13:57:07+00:00</td>\n",
              "      <td>comment</td>\n",
              "      <td>14769793</td>\n",
              "      <td>14769632.0</td>\n",
              "    </tr>\n",
              "    <tr>\n",
              "      <th>5317</th>\n",
              "      <td>*sow</td>\n",
              "      <td>carapace</td>\n",
              "      <td>2018-06-09 00:59:10+00:00</td>\n",
              "      <td>comment</td>\n",
              "      <td>17270913</td>\n",
              "      <td>17270074.0</td>\n",
              "    </tr>\n",
              "    <tr>\n",
              "      <th>5658</th>\n",
              "      <td>Yes.</td>\n",
              "      <td>dredmorbius</td>\n",
              "      <td>2018-09-24 17:50:03+00:00</td>\n",
              "      <td>comment</td>\n",
              "      <td>18059742</td>\n",
              "      <td>18058193.0</td>\n",
              "    </tr>\n",
              "    <tr>\n",
              "      <th>5792</th>\n",
              "      <td>x264?</td>\n",
              "      <td>ZeroGravitas</td>\n",
              "      <td>2012-11-02 21:04:36+00:00</td>\n",
              "      <td>comment</td>\n",
              "      <td>4734742</td>\n",
              "      <td>4734499.0</td>\n",
              "    </tr>\n",
              "    <tr>\n",
              "      <th>6845</th>\n",
              "      <td>Done!</td>\n",
              "      <td>tptacek</td>\n",
              "      <td>2012-03-27 00:02:05+00:00</td>\n",
              "      <td>comment</td>\n",
              "      <td>3759257</td>\n",
              "      <td>3759201.0</td>\n",
              "    </tr>\n",
              "  </tbody>\n",
              "</table>\n",
              "</div>"
            ],
            "text/plain": [
              "       text            by  ...        id      parent\n",
              "1215  Like?       buboard  ...  21464245  21464107.0\n",
              "2909    Yes           rms  ...    647012    646916.0\n",
              "3212    yes        uptown  ...   3510420   3510284.0\n",
              "3495    We?           k__  ...  21901381  21899269.0\n",
              "4384   yeah    moron4hire  ...   6130608   6130604.0\n",
              "4927      -         sp332  ...  14769793  14769632.0\n",
              "5317   *sow      carapace  ...  17270913  17270074.0\n",
              "5658   Yes.   dredmorbius  ...  18059742  18058193.0\n",
              "5792  x264?  ZeroGravitas  ...   4734742   4734499.0\n",
              "6845  Done!       tptacek  ...   3759257   3759201.0\n",
              "\n",
              "[10 rows x 6 columns]"
            ]
          },
          "metadata": {
            "tags": []
          },
          "execution_count": 65
        }
      ]
    },
    {
      "cell_type": "code",
      "metadata": {
        "id": "A26Rl2Cs2I0B",
        "colab_type": "code",
        "colab": {
          "base_uri": "https://localhost:8080/",
          "height": 35
        },
        "outputId": "c7c8998a-b0c5-40b0-b7a6-7773d6d94e93"
      },
      "source": [
        "aux2.shape"
      ],
      "execution_count": 66,
      "outputs": [
        {
          "output_type": "execute_result",
          "data": {
            "text/plain": [
              "(507, 6)"
            ]
          },
          "metadata": {
            "tags": []
          },
          "execution_count": 66
        }
      ]
    },
    {
      "cell_type": "code",
      "metadata": {
        "id": "0t81jfgU2TSS",
        "colab_type": "code",
        "colab": {
          "base_uri": "https://localhost:8080/",
          "height": 35
        },
        "outputId": "75079226-3622-4c4f-b613-ede30f0ee16d"
      },
      "source": [
        "aux2['text'].nunique()"
      ],
      "execution_count": 67,
      "outputs": [
        {
          "output_type": "execute_result",
          "data": {
            "text/plain": [
              "235"
            ]
          },
          "metadata": {
            "tags": []
          },
          "execution_count": 67
        }
      ]
    },
    {
      "cell_type": "code",
      "metadata": {
        "id": "srIqZc2O2Vh2",
        "colab_type": "code",
        "colab": {}
      },
      "source": [
        "#only 507 comments with 5 characters or less, upon analysis doesn't look like they provide much context, \n",
        "#not helpful for model analysis so drop comments with 5 words or less\n",
        "\n",
        "# take only the rows whose text column's length is greater than five\n",
        "# this also removes the texts that are None\n",
        "clean_df = clean_df[clean_df['text'].str.len() > 5]"
      ],
      "execution_count": 69,
      "outputs": []
    },
    {
      "cell_type": "code",
      "metadata": {
        "id": "N0N4Gwc66cOC",
        "colab_type": "code",
        "colab": {
          "base_uri": "https://localhost:8080/",
          "height": 200
        },
        "outputId": "7ef3da18-c2c2-445b-9dd2-ae73763d586c"
      },
      "source": [
        "clean_df.head()"
      ],
      "execution_count": 70,
      "outputs": [
        {
          "output_type": "execute_result",
          "data": {
            "text/html": [
              "<div>\n",
              "<style scoped>\n",
              "    .dataframe tbody tr th:only-of-type {\n",
              "        vertical-align: middle;\n",
              "    }\n",
              "\n",
              "    .dataframe tbody tr th {\n",
              "        vertical-align: top;\n",
              "    }\n",
              "\n",
              "    .dataframe thead th {\n",
              "        text-align: right;\n",
              "    }\n",
              "</style>\n",
              "<table border=\"1\" class=\"dataframe\">\n",
              "  <thead>\n",
              "    <tr style=\"text-align: right;\">\n",
              "      <th></th>\n",
              "      <th>text</th>\n",
              "      <th>by</th>\n",
              "      <th>timestamp</th>\n",
              "      <th>type</th>\n",
              "      <th>id</th>\n",
              "      <th>parent</th>\n",
              "    </tr>\n",
              "  </thead>\n",
              "  <tbody>\n",
              "    <tr>\n",
              "      <th>0</th>\n",
              "      <td>No indication of how large these programs are ...</td>\n",
              "      <td>pjc50</td>\n",
              "      <td>2019-05-13 21:39:45+00:00</td>\n",
              "      <td>comment</td>\n",
              "      <td>19904253</td>\n",
              "      <td>19896542.0</td>\n",
              "    </tr>\n",
              "    <tr>\n",
              "      <th>1</th>\n",
              "      <td>Well, if you want to obfuscate a constant stri...</td>\n",
              "      <td>thaumasiotes</td>\n",
              "      <td>2014-03-29 07:06:43+00:00</td>\n",
              "      <td>comment</td>\n",
              "      <td>7491659</td>\n",
              "      <td>7491605.0</td>\n",
              "    </tr>\n",
              "    <tr>\n",
              "      <th>2</th>\n",
              "      <td>Yeah, it&amp;#x27;s like how we had to stop using ...</td>\n",
              "      <td>coldtea</td>\n",
              "      <td>2017-06-19 18:22:17+00:00</td>\n",
              "      <td>comment</td>\n",
              "      <td>14589123</td>\n",
              "      <td>14588063.0</td>\n",
              "    </tr>\n",
              "    <tr>\n",
              "      <th>6</th>\n",
              "      <td>Well duh; would wouldn&amp;#x27;t do X if X was af...</td>\n",
              "      <td>jodrellblank</td>\n",
              "      <td>2019-05-13 18:15:43+00:00</td>\n",
              "      <td>comment</td>\n",
              "      <td>19902101</td>\n",
              "      <td>19901310.0</td>\n",
              "    </tr>\n",
              "    <tr>\n",
              "      <th>7</th>\n",
              "      <td>What are the restrictions? Are you going to fi...</td>\n",
              "      <td>gus_massa</td>\n",
              "      <td>2018-12-06 19:27:51+00:00</td>\n",
              "      <td>comment</td>\n",
              "      <td>18621219</td>\n",
              "      <td>18620347.0</td>\n",
              "    </tr>\n",
              "  </tbody>\n",
              "</table>\n",
              "</div>"
            ],
            "text/plain": [
              "                                                text  ...      parent\n",
              "0  No indication of how large these programs are ...  ...  19896542.0\n",
              "1  Well, if you want to obfuscate a constant stri...  ...   7491605.0\n",
              "2  Yeah, it&#x27;s like how we had to stop using ...  ...  14588063.0\n",
              "6  Well duh; would wouldn&#x27;t do X if X was af...  ...  19901310.0\n",
              "7  What are the restrictions? Are you going to fi...  ...  18620347.0\n",
              "\n",
              "[5 rows x 6 columns]"
            ]
          },
          "metadata": {
            "tags": []
          },
          "execution_count": 70
        }
      ]
    },
    {
      "cell_type": "code",
      "metadata": {
        "id": "TLVGnxJx7oZA",
        "colab_type": "code",
        "colab": {
          "base_uri": "https://localhost:8080/",
          "height": 177
        },
        "outputId": "442a4242-2bd1-46da-d188-98b3870f7b1d"
      },
      "source": [
        "clean_df['text'].str.len().describe()"
      ],
      "execution_count": 71,
      "outputs": [
        {
          "output_type": "execute_result",
          "data": {
            "text/plain": [
              "count    447356.000000\n",
              "mean        424.291495\n",
              "std         488.478961\n",
              "min           6.000000\n",
              "25%         144.000000\n",
              "50%         277.000000\n",
              "75%         523.000000\n",
              "max       15018.000000\n",
              "Name: text, dtype: float64"
            ]
          },
          "metadata": {
            "tags": []
          },
          "execution_count": 71
        }
      ]
    },
    {
      "cell_type": "code",
      "metadata": {
        "id": "QAGY6mTJPVaS",
        "colab_type": "code",
        "colab": {}
      },
      "source": [
        "# Use BS on a single piece of text to remove strange chars and URLs and tags\n",
        "from bs4 import BeautifulSoup\n",
        "\n",
        "def clean_soup(text):\n",
        "    # make a soup - this takes care of strange characters\n",
        "    soup = BeautifulSoup(text, \"html.parser\")\n",
        "\n",
        "    # delete <a> tags as they contain URLs -- remember <a href=\"url_here\">\n",
        "    # tags contain URLs\n",
        "    for s in soup.select('a'):\n",
        "       s.extract()\n",
        "\n",
        "    # the soup contains <p> tags -- here we get rid of those and join them with spaces\n",
        "    strings = soup.find_all(text=True, recursive=True)\n",
        "    result = ' '.join(strings)\n",
        "\n",
        "    return result"
      ],
      "execution_count": 101,
      "outputs": []
    },
    {
      "cell_type": "code",
      "metadata": {
        "id": "zbX55E3BPZum",
        "colab_type": "code",
        "colab": {
          "base_uri": "https://localhost:8080/",
          "height": 286
        },
        "outputId": "352bd8a9-afc2-414e-d240-614912767a9c"
      },
      "source": [
        "# Apply that to each comment/story text\n",
        "clean_text = clean_df['text'].apply(clean_soup)"
      ],
      "execution_count": 106,
      "outputs": [
        {
          "output_type": "stream",
          "text": [
            "/usr/local/lib/python3.6/dist-packages/bs4/__init__.py:336: UserWarning: \"http:&#x2F;&#x2F;vimeo.com&#x2F;49718712\" looks like a URL. Beautiful Soup is not an HTTP client. You should probably use an HTTP client like requests to get the document behind the URL, and feed that document to Beautiful Soup.\n",
            "  ' that document to Beautiful Soup.' % decoded_markup\n",
            "/usr/local/lib/python3.6/dist-packages/bs4/__init__.py:336: UserWarning: \"https:&#x2F;&#x2F;arstechnica.com&#x2F;gaming&#x2F;2019&#x2F;08&#x2F;now-even-funerals-are-livestreamed-and-families-are-grateful&#x2F;\" looks like a URL. Beautiful Soup is not an HTTP client. You should probably use an HTTP client like requests to get the document behind the URL, and feed that document to Beautiful Soup.\n",
            "  ' that document to Beautiful Soup.' % decoded_markup\n",
            "/usr/local/lib/python3.6/dist-packages/bs4/__init__.py:336: UserWarning: \"https:&#x2F;&#x2F;www.youtube.com&#x2F;watch?v=uIlu7szab5I\" looks like a URL. Beautiful Soup is not an HTTP client. You should probably use an HTTP client like requests to get the document behind the URL, and feed that document to Beautiful Soup.\n",
            "  ' that document to Beautiful Soup.' % decoded_markup\n",
            "/usr/local/lib/python3.6/dist-packages/bs4/__init__.py:336: UserWarning: \"http:&#x2F;&#x2F;xkcd.com&#x2F;1289&#x2F;\" looks like a URL. Beautiful Soup is not an HTTP client. You should probably use an HTTP client like requests to get the document behind the URL, and feed that document to Beautiful Soup.\n",
            "  ' that document to Beautiful Soup.' % decoded_markup\n",
            "/usr/local/lib/python3.6/dist-packages/bs4/__init__.py:336: UserWarning: \"https:&#x2F;&#x2F;www.pcisecuritystandards.org&#x2F;documents&#x2F;SAQ_A-EP_v3.pdf\" looks like a URL. Beautiful Soup is not an HTTP client. You should probably use an HTTP client like requests to get the document behind the URL, and feed that document to Beautiful Soup.\n",
            "  ' that document to Beautiful Soup.' % decoded_markup\n",
            "/usr/local/lib/python3.6/dist-packages/bs4/__init__.py:336: UserWarning: \"http://blog.untogether.co.uk/post/10662779150/tech-city-uk-britains-silicon-valley-how-about\" looks like a URL. Beautiful Soup is not an HTTP client. You should probably use an HTTP client like requests to get the document behind the URL, and feed that document to Beautiful Soup.\n",
            "  ' that document to Beautiful Soup.' % decoded_markup\n",
            "/usr/local/lib/python3.6/dist-packages/bs4/__init__.py:336: UserWarning: \"http:&#x2F;&#x2F;www.dailymail.co.uk&#x2F;news&#x2F;article-2579955&#x2F;US-officials-convinced-two-separate-communications-systems-Malaysian-jet-DELIBERATELY-shut-14-minutes-apart-emerges-aircraft-pinging-FIVE-hours-vanished-flying.html\" looks like a URL. Beautiful Soup is not an HTTP client. You should probably use an HTTP client like requests to get the document behind the URL, and feed that document to Beautiful Soup.\n",
            "  ' that document to Beautiful Soup.' % decoded_markup\n"
          ],
          "name": "stderr"
        }
      ]
    },
    {
      "cell_type": "code",
      "metadata": {
        "id": "n2-3krVLaF5u",
        "colab_type": "code",
        "colab": {}
      },
      "source": [
        "clean_df['text'] = clean_text"
      ],
      "execution_count": 107,
      "outputs": []
    },
    {
      "cell_type": "code",
      "metadata": {
        "id": "sdfTUjq9ZTHm",
        "colab_type": "code",
        "colab": {
          "base_uri": "https://localhost:8080/",
          "height": 352
        },
        "outputId": "93f50851-327d-4c03-8e78-f29e1249b8f6"
      },
      "source": [
        "import pandas as pd\n",
        "pd.options.display.max_colwidth = 100\n",
        "clean_df.sample(10)"
      ],
      "execution_count": 124,
      "outputs": [
        {
          "output_type": "execute_result",
          "data": {
            "text/html": [
              "<div>\n",
              "<style scoped>\n",
              "    .dataframe tbody tr th:only-of-type {\n",
              "        vertical-align: middle;\n",
              "    }\n",
              "\n",
              "    .dataframe tbody tr th {\n",
              "        vertical-align: top;\n",
              "    }\n",
              "\n",
              "    .dataframe thead th {\n",
              "        text-align: right;\n",
              "    }\n",
              "</style>\n",
              "<table border=\"1\" class=\"dataframe\">\n",
              "  <thead>\n",
              "    <tr style=\"text-align: right;\">\n",
              "      <th></th>\n",
              "      <th>text</th>\n",
              "      <th>by</th>\n",
              "      <th>timestamp</th>\n",
              "      <th>type</th>\n",
              "      <th>id</th>\n",
              "      <th>parent</th>\n",
              "    </tr>\n",
              "  </thead>\n",
              "  <tbody>\n",
              "    <tr>\n",
              "      <th>150966</th>\n",
              "      <td>Dying is outside the scope of application. Please contact nearest heavenly body for ticket submi...</td>\n",
              "      <td>peterwwillis</td>\n",
              "      <td>2011-07-25 22:09:54+00:00</td>\n",
              "      <td>comment</td>\n",
              "      <td>2804949</td>\n",
              "      <td>2804860.0</td>\n",
              "    </tr>\n",
              "    <tr>\n",
              "      <th>445948</th>\n",
              "      <td>Any sources?  These reports don't support your statements: And I don't know of a debt instrument...</td>\n",
              "      <td>lotsofpulp</td>\n",
              "      <td>2020-02-13 18:38:08+00:00</td>\n",
              "      <td>comment</td>\n",
              "      <td>22320141</td>\n",
              "      <td>22320063.0</td>\n",
              "    </tr>\n",
              "    <tr>\n",
              "      <th>48449</th>\n",
              "      <td>Inalienable doesn't mean what you seem to think it does.</td>\n",
              "      <td>dredmorbius</td>\n",
              "      <td>2016-04-13 07:55:38+00:00</td>\n",
              "      <td>comment</td>\n",
              "      <td>11486476</td>\n",
              "      <td>11486164.0</td>\n",
              "    </tr>\n",
              "    <tr>\n",
              "      <th>478518</th>\n",
              "      <td>Was just about to comment that in lieu of buying an ebook version of the currently discussed Uni...</td>\n",
              "      <td>danso</td>\n",
              "      <td>2019-10-28 14:10:19+00:00</td>\n",
              "      <td>comment</td>\n",
              "      <td>21377138</td>\n",
              "      <td>21373940.0</td>\n",
              "    </tr>\n",
              "    <tr>\n",
              "      <th>7279</th>\n",
              "      <td>The former might be true, but it's very unlikely the latter, hard and harsh experience has shown...</td>\n",
              "      <td>hga</td>\n",
              "      <td>2014-06-19 15:19:48+00:00</td>\n",
              "      <td>comment</td>\n",
              "      <td>7916552</td>\n",
              "      <td>7915329.0</td>\n",
              "    </tr>\n",
              "    <tr>\n",
              "      <th>36698</th>\n",
              "      <td>That's known nowadays as AutoML. Google recently released AutoML products for image and text cla...</td>\n",
              "      <td>minimaxir</td>\n",
              "      <td>2018-08-27 16:26:39+00:00</td>\n",
              "      <td>comment</td>\n",
              "      <td>17852406</td>\n",
              "      <td>17852350.0</td>\n",
              "    </tr>\n",
              "    <tr>\n",
              "      <th>318870</th>\n",
              "      <td>Sorry, what?</td>\n",
              "      <td>enraged_camel</td>\n",
              "      <td>2013-06-01 05:26:56+00:00</td>\n",
              "      <td>comment</td>\n",
              "      <td>5802846</td>\n",
              "      <td>5802806.0</td>\n",
              "    </tr>\n",
              "    <tr>\n",
              "      <th>421559</th>\n",
              "      <td>Unemployment doesn't work that way.  Otherwise, eg Singapore would have lots and lots of unemplo...</td>\n",
              "      <td>eru</td>\n",
              "      <td>2016-11-12 20:17:11+00:00</td>\n",
              "      <td>comment</td>\n",
              "      <td>12939944</td>\n",
              "      <td>12938454.0</td>\n",
              "    </tr>\n",
              "    <tr>\n",
              "      <th>369213</th>\n",
              "      <td>True, but I imagine it is not far off from OP's area of work.</td>\n",
              "      <td>pjmlp</td>\n",
              "      <td>2017-02-10 19:26:10+00:00</td>\n",
              "      <td>comment</td>\n",
              "      <td>13618104</td>\n",
              "      <td>13616509.0</td>\n",
              "    </tr>\n",
              "    <tr>\n",
              "      <th>235943</th>\n",
              "      <td>I think they wanted to build a specific webapp as a way of learning what webapp developers need....</td>\n",
              "      <td>pg</td>\n",
              "      <td>2007-04-16 21:02:25+00:00</td>\n",
              "      <td>comment</td>\n",
              "      <td>13390</td>\n",
              "      <td>13388.0</td>\n",
              "    </tr>\n",
              "  </tbody>\n",
              "</table>\n",
              "</div>"
            ],
            "text/plain": [
              "                                                                                                       text  ...      parent\n",
              "150966  Dying is outside the scope of application. Please contact nearest heavenly body for ticket submi...  ...   2804860.0\n",
              "445948  Any sources?  These reports don't support your statements: And I don't know of a debt instrument...  ...  22320063.0\n",
              "48449                                              Inalienable doesn't mean what you seem to think it does.  ...  11486164.0\n",
              "478518  Was just about to comment that in lieu of buying an ebook version of the currently discussed Uni...  ...  21373940.0\n",
              "7279    The former might be true, but it's very unlikely the latter, hard and harsh experience has shown...  ...   7915329.0\n",
              "36698   That's known nowadays as AutoML. Google recently released AutoML products for image and text cla...  ...  17852350.0\n",
              "318870                                                                                         Sorry, what?  ...   5802806.0\n",
              "421559  Unemployment doesn't work that way.  Otherwise, eg Singapore would have lots and lots of unemplo...  ...  12938454.0\n",
              "369213                                        True, but I imagine it is not far off from OP's area of work.  ...  13616509.0\n",
              "235943  I think they wanted to build a specific webapp as a way of learning what webapp developers need....  ...     13388.0\n",
              "\n",
              "[10 rows x 6 columns]"
            ]
          },
          "metadata": {
            "tags": []
          },
          "execution_count": 124
        }
      ]
    },
    {
      "cell_type": "code",
      "metadata": {
        "id": "pcCvgbfeaW9N",
        "colab_type": "code",
        "colab": {
          "base_uri": "https://localhost:8080/",
          "height": 141
        },
        "outputId": "ab99c582-af5a-4d38-b85b-51994e4eccae"
      },
      "source": [
        "#makes sense the parent would have some null values, if they are the first comment\n",
        "clean_df.isnull().sum()"
      ],
      "execution_count": 125,
      "outputs": [
        {
          "output_type": "execute_result",
          "data": {
            "text/plain": [
              "text           0\n",
              "by             0\n",
              "timestamp      0\n",
              "type           0\n",
              "id             0\n",
              "parent       911\n",
              "dtype: int64"
            ]
          },
          "metadata": {
            "tags": []
          },
          "execution_count": 125
        }
      ]
    }
  ]
}