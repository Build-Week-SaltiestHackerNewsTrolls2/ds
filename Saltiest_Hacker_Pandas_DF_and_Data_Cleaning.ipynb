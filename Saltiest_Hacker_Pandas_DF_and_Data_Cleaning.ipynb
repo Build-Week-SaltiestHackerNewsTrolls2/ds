{
  "nbformat": 4,
  "nbformat_minor": 0,
  "metadata": {
    "colab": {
      "name": " Saltiest Hacker Pandas DF and Data Cleaning.ipynb",
      "provenance": [],
      "authorship_tag": "ABX9TyMY6594DbdOqiH55lBGO79o",
      "include_colab_link": true
    },
    "kernelspec": {
      "name": "python3",
      "display_name": "Python 3"
    }
  },
  "cells": [
    {
      "cell_type": "markdown",
      "metadata": {
        "id": "view-in-github",
        "colab_type": "text"
      },
      "source": [
        "<a href=\"https://colab.research.google.com/github/beccacauthorn/ds/blob/master/Saltiest_Hacker_Pandas_DF_and_Data_Cleaning.ipynb\" target=\"_parent\"><img src=\"https://colab.research.google.com/assets/colab-badge.svg\" alt=\"Open In Colab\"/></a>"
      ]
    },
    {
      "cell_type": "code",
      "metadata": {
        "id": "M6Mari0ZNI9U",
        "colab_type": "code",
        "colab": {}
      },
      "source": [
        "# Intrusctions from https://www.kaggle.com/dansbecker/getting-started-with-sql-and-bigquery\n",
        "from google.cloud import bigquery\n",
        "\n",
        "# Need to authenticate -- see https://colab.research.google.com/notebooks/bigquery.ipynb#scrollTo=SeTJb51SKs_W\n",
        "from google.colab import auth\n",
        "auth.authenticate_user()"
      ],
      "execution_count": 2,
      "outputs": []
    },
    {
      "cell_type": "code",
      "metadata": {
        "id": "_KjeyJokPzHe",
        "colab_type": "code",
        "colab": {}
      },
      "source": [
        "# Create a \"Client\" object\n",
        "client = bigquery.Client(project=\"stone-flux-280702\")"
      ],
      "execution_count": 3,
      "outputs": []
    },
    {
      "cell_type": "code",
      "metadata": {
        "id": "rgGN_H4heHfl",
        "colab_type": "code",
        "colab": {}
      },
      "source": [
        "# Run SQL query to obtain filtered table\n",
        "query_string = \"\"\"\n",
        "SELECT C.by\n",
        "FROM (\n",
        "  SELECT A.by, COUNT(*) AS count\n",
        "  FROM `bigquery-public-data.hacker_news.full` AS A\n",
        "  GROUP BY A.by\n",
        "  ORDER BY count DESC\n",
        "  LIMIT 100\n",
        ") AS C\n",
        "WHERE C.by != \"None\"\n",
        "\"\"\"\n",
        "\n",
        "frequent_users = client.query(query_string).result().to_dataframe()"
      ],
      "execution_count": 4,
      "outputs": []
    },
    {
      "cell_type": "code",
      "metadata": {
        "id": "RymGkInflY8B",
        "colab_type": "code",
        "colab": {}
      },
      "source": [
        "# This is a triple-nested query that gets a number of comments made only by the most\n",
        "# frequent users.  Change the \"LIMIT XXX\" part of the inner-most query to tune the\n",
        "# number of users.  Change the outermost \"LIMIT YYY\" to change the total number of comments.\n",
        "query_string = \"\"\"\n",
        "SELECT *\n",
        "FROM `bigquery-public-data.hacker_news.full` AS A\n",
        "WHERE A.by IN (\n",
        "  SELECT C.by\n",
        "  FROM (\n",
        "    SELECT A.by, COUNT(*) AS count\n",
        "    FROM `bigquery-public-data.hacker_news.full` AS A\n",
        "    GROUP BY A.by\n",
        "    ORDER BY count DESC\n",
        "    LIMIT 500\n",
        "  ) AS C\n",
        "  WHERE C.by != \"None\"\n",
        ")\n",
        "LIMIT 500000\n",
        "\"\"\"\n",
        "\n",
        "df = client.query(query_string).result().to_dataframe()"
      ],
      "execution_count": 5,
      "outputs": []
    },
    {
      "cell_type": "code",
      "metadata": {
        "id": "QYJahnTKmSQk",
        "colab_type": "code",
        "colab": {
          "base_uri": "https://localhost:8080/",
          "height": 663
        },
        "outputId": "a6a01ed8-a292-4b62-86e4-75944c31559b"
      },
      "source": [
        "df.head()"
      ],
      "execution_count": 6,
      "outputs": [
        {
          "output_type": "execute_result",
          "data": {
            "text/html": [
              "<div>\n",
              "<style scoped>\n",
              "    .dataframe tbody tr th:only-of-type {\n",
              "        vertical-align: middle;\n",
              "    }\n",
              "\n",
              "    .dataframe tbody tr th {\n",
              "        vertical-align: top;\n",
              "    }\n",
              "\n",
              "    .dataframe thead th {\n",
              "        text-align: right;\n",
              "    }\n",
              "</style>\n",
              "<table border=\"1\" class=\"dataframe\">\n",
              "  <thead>\n",
              "    <tr style=\"text-align: right;\">\n",
              "      <th></th>\n",
              "      <th>title</th>\n",
              "      <th>url</th>\n",
              "      <th>text</th>\n",
              "      <th>dead</th>\n",
              "      <th>by</th>\n",
              "      <th>score</th>\n",
              "      <th>time</th>\n",
              "      <th>timestamp</th>\n",
              "      <th>type</th>\n",
              "      <th>id</th>\n",
              "      <th>parent</th>\n",
              "      <th>descendants</th>\n",
              "      <th>ranking</th>\n",
              "      <th>deleted</th>\n",
              "    </tr>\n",
              "  </thead>\n",
              "  <tbody>\n",
              "    <tr>\n",
              "      <th>0</th>\n",
              "      <td>None</td>\n",
              "      <td>None</td>\n",
              "      <td>No indication of how large these programs are ...</td>\n",
              "      <td>None</td>\n",
              "      <td>pjc50</td>\n",
              "      <td>NaN</td>\n",
              "      <td>1557783585</td>\n",
              "      <td>2019-05-13 21:39:45+00:00</td>\n",
              "      <td>comment</td>\n",
              "      <td>19904253</td>\n",
              "      <td>19896542.0</td>\n",
              "      <td>NaN</td>\n",
              "      <td>None</td>\n",
              "      <td>None</td>\n",
              "    </tr>\n",
              "    <tr>\n",
              "      <th>1</th>\n",
              "      <td>None</td>\n",
              "      <td>None</td>\n",
              "      <td>Well, if you want to obfuscate a constant stri...</td>\n",
              "      <td>None</td>\n",
              "      <td>thaumasiotes</td>\n",
              "      <td>NaN</td>\n",
              "      <td>1396076803</td>\n",
              "      <td>2014-03-29 07:06:43+00:00</td>\n",
              "      <td>comment</td>\n",
              "      <td>7491659</td>\n",
              "      <td>7491605.0</td>\n",
              "      <td>NaN</td>\n",
              "      <td>None</td>\n",
              "      <td>None</td>\n",
              "    </tr>\n",
              "    <tr>\n",
              "      <th>2</th>\n",
              "      <td>None</td>\n",
              "      <td>None</td>\n",
              "      <td>Yeah, it&amp;#x27;s like how we had to stop using ...</td>\n",
              "      <td>None</td>\n",
              "      <td>coldtea</td>\n",
              "      <td>NaN</td>\n",
              "      <td>1497896537</td>\n",
              "      <td>2017-06-19 18:22:17+00:00</td>\n",
              "      <td>comment</td>\n",
              "      <td>14589123</td>\n",
              "      <td>14588063.0</td>\n",
              "      <td>NaN</td>\n",
              "      <td>None</td>\n",
              "      <td>None</td>\n",
              "    </tr>\n",
              "    <tr>\n",
              "      <th>3</th>\n",
              "      <td>Computers Might Just 'See' Like Humans After All</td>\n",
              "      <td>http://motherboard.vice.com/read/computers-mig...</td>\n",
              "      <td>None</td>\n",
              "      <td>None</td>\n",
              "      <td>jonbaer</td>\n",
              "      <td>2.0</td>\n",
              "      <td>1462006100</td>\n",
              "      <td>2016-04-30 08:48:20+00:00</td>\n",
              "      <td>story</td>\n",
              "      <td>11600974</td>\n",
              "      <td>NaN</td>\n",
              "      <td>0.0</td>\n",
              "      <td>None</td>\n",
              "      <td>None</td>\n",
              "    </tr>\n",
              "    <tr>\n",
              "      <th>4</th>\n",
              "      <td>Q&amp;A: Pulsar Pioneer Jocelyn Bell Burnell</td>\n",
              "      <td>https://physicstoday.scitation.org/do/10.1063/...</td>\n",
              "      <td>None</td>\n",
              "      <td>None</td>\n",
              "      <td>sohkamyung</td>\n",
              "      <td>2.0</td>\n",
              "      <td>1548914093</td>\n",
              "      <td>2019-01-31 05:54:53+00:00</td>\n",
              "      <td>story</td>\n",
              "      <td>19042710</td>\n",
              "      <td>NaN</td>\n",
              "      <td>0.0</td>\n",
              "      <td>None</td>\n",
              "      <td>None</td>\n",
              "    </tr>\n",
              "  </tbody>\n",
              "</table>\n",
              "</div>"
            ],
            "text/plain": [
              "                                              title  ... deleted\n",
              "0                                              None  ...    None\n",
              "1                                              None  ...    None\n",
              "2                                              None  ...    None\n",
              "3  Computers Might Just 'See' Like Humans After All  ...    None\n",
              "4          Q&A: Pulsar Pioneer Jocelyn Bell Burnell  ...    None\n",
              "\n",
              "[5 rows x 14 columns]"
            ]
          },
          "metadata": {
            "tags": []
          },
          "execution_count": 6
        }
      ]
    },
    {
      "cell_type": "code",
      "metadata": {
        "id": "Q9sqJUoVm-uA",
        "colab_type": "code",
        "colab": {
          "base_uri": "https://localhost:8080/",
          "height": 35
        },
        "outputId": "2fda7ac0-6cc8-4564-98c2-6f0dcd027e81"
      },
      "source": [
        "df.shape"
      ],
      "execution_count": 7,
      "outputs": [
        {
          "output_type": "execute_result",
          "data": {
            "text/plain": [
              "(500000, 14)"
            ]
          },
          "metadata": {
            "tags": []
          },
          "execution_count": 7
        }
      ]
    },
    {
      "cell_type": "code",
      "metadata": {
        "id": "POiQRD6MrRpe",
        "colab_type": "code",
        "colab": {
          "base_uri": "https://localhost:8080/",
          "height": 230
        },
        "outputId": "f53430d6-4dde-4a77-8679-e020dd3b8570"
      },
      "source": [
        "df['by'].value_counts()"
      ],
      "execution_count": 8,
      "outputs": [
        {
          "output_type": "execute_result",
          "data": {
            "text/plain": [
              "tptacek         7351\n",
              "jacquesm        5654\n",
              "dang            5617\n",
              "rbanffy         4734\n",
              "dragonwriter    4615\n",
              "                ... \n",
              "Gibbon1          533\n",
              "icey             531\n",
              "MBCook           528\n",
              "zokier           522\n",
              "tripzilch        521\n",
              "Name: by, Length: 499, dtype: int64"
            ]
          },
          "metadata": {
            "tags": []
          },
          "execution_count": 8
        }
      ]
    },
    {
      "cell_type": "code",
      "metadata": {
        "id": "mRzw6-VEulmw",
        "colab_type": "code",
        "colab": {
          "base_uri": "https://localhost:8080/",
          "height": 124
        },
        "outputId": "a8d14ad1-b9aa-4603-e71f-972a64ab8412"
      },
      "source": [
        "df['type'].value_counts()"
      ],
      "execution_count": 9,
      "outputs": [
        {
          "output_type": "execute_result",
          "data": {
            "text/plain": [
              "comment    446968\n",
              "story       52747\n",
              "pollopt       252\n",
              "poll           30\n",
              "job             3\n",
              "Name: type, dtype: int64"
            ]
          },
          "metadata": {
            "tags": []
          },
          "execution_count": 9
        }
      ]
    },
    {
      "cell_type": "code",
      "metadata": {
        "id": "BWfXAsGduaAN",
        "colab_type": "code",
        "colab": {
          "base_uri": "https://localhost:8080/",
          "height": 1000
        },
        "outputId": "714a9211-c398-4042-ad66-0beee29b0eac"
      },
      "source": [
        "# filter out by type (keep story and comment)\n",
        "df[(df['type'] == 'story') | (df['type'] == 'comment')]"
      ],
      "execution_count": 15,
      "outputs": [
        {
          "output_type": "execute_result",
          "data": {
            "text/html": [
              "<div>\n",
              "<style scoped>\n",
              "    .dataframe tbody tr th:only-of-type {\n",
              "        vertical-align: middle;\n",
              "    }\n",
              "\n",
              "    .dataframe tbody tr th {\n",
              "        vertical-align: top;\n",
              "    }\n",
              "\n",
              "    .dataframe thead th {\n",
              "        text-align: right;\n",
              "    }\n",
              "</style>\n",
              "<table border=\"1\" class=\"dataframe\">\n",
              "  <thead>\n",
              "    <tr style=\"text-align: right;\">\n",
              "      <th></th>\n",
              "      <th>title</th>\n",
              "      <th>url</th>\n",
              "      <th>text</th>\n",
              "      <th>dead</th>\n",
              "      <th>by</th>\n",
              "      <th>score</th>\n",
              "      <th>time</th>\n",
              "      <th>timestamp</th>\n",
              "      <th>type</th>\n",
              "      <th>id</th>\n",
              "      <th>parent</th>\n",
              "      <th>descendants</th>\n",
              "      <th>ranking</th>\n",
              "      <th>deleted</th>\n",
              "    </tr>\n",
              "  </thead>\n",
              "  <tbody>\n",
              "    <tr>\n",
              "      <th>0</th>\n",
              "      <td>None</td>\n",
              "      <td>None</td>\n",
              "      <td>No indication of how large these programs are ...</td>\n",
              "      <td>None</td>\n",
              "      <td>pjc50</td>\n",
              "      <td>NaN</td>\n",
              "      <td>1557783585</td>\n",
              "      <td>2019-05-13 21:39:45+00:00</td>\n",
              "      <td>comment</td>\n",
              "      <td>19904253</td>\n",
              "      <td>19896542.0</td>\n",
              "      <td>NaN</td>\n",
              "      <td>None</td>\n",
              "      <td>None</td>\n",
              "    </tr>\n",
              "    <tr>\n",
              "      <th>1</th>\n",
              "      <td>None</td>\n",
              "      <td>None</td>\n",
              "      <td>Well, if you want to obfuscate a constant stri...</td>\n",
              "      <td>None</td>\n",
              "      <td>thaumasiotes</td>\n",
              "      <td>NaN</td>\n",
              "      <td>1396076803</td>\n",
              "      <td>2014-03-29 07:06:43+00:00</td>\n",
              "      <td>comment</td>\n",
              "      <td>7491659</td>\n",
              "      <td>7491605.0</td>\n",
              "      <td>NaN</td>\n",
              "      <td>None</td>\n",
              "      <td>None</td>\n",
              "    </tr>\n",
              "    <tr>\n",
              "      <th>2</th>\n",
              "      <td>None</td>\n",
              "      <td>None</td>\n",
              "      <td>Yeah, it&amp;#x27;s like how we had to stop using ...</td>\n",
              "      <td>None</td>\n",
              "      <td>coldtea</td>\n",
              "      <td>NaN</td>\n",
              "      <td>1497896537</td>\n",
              "      <td>2017-06-19 18:22:17+00:00</td>\n",
              "      <td>comment</td>\n",
              "      <td>14589123</td>\n",
              "      <td>14588063.0</td>\n",
              "      <td>NaN</td>\n",
              "      <td>None</td>\n",
              "      <td>None</td>\n",
              "    </tr>\n",
              "    <tr>\n",
              "      <th>3</th>\n",
              "      <td>Computers Might Just 'See' Like Humans After All</td>\n",
              "      <td>http://motherboard.vice.com/read/computers-mig...</td>\n",
              "      <td>None</td>\n",
              "      <td>None</td>\n",
              "      <td>jonbaer</td>\n",
              "      <td>2.0</td>\n",
              "      <td>1462006100</td>\n",
              "      <td>2016-04-30 08:48:20+00:00</td>\n",
              "      <td>story</td>\n",
              "      <td>11600974</td>\n",
              "      <td>NaN</td>\n",
              "      <td>0.0</td>\n",
              "      <td>None</td>\n",
              "      <td>None</td>\n",
              "    </tr>\n",
              "    <tr>\n",
              "      <th>4</th>\n",
              "      <td>Q&amp;A: Pulsar Pioneer Jocelyn Bell Burnell</td>\n",
              "      <td>https://physicstoday.scitation.org/do/10.1063/...</td>\n",
              "      <td>None</td>\n",
              "      <td>None</td>\n",
              "      <td>sohkamyung</td>\n",
              "      <td>2.0</td>\n",
              "      <td>1548914093</td>\n",
              "      <td>2019-01-31 05:54:53+00:00</td>\n",
              "      <td>story</td>\n",
              "      <td>19042710</td>\n",
              "      <td>NaN</td>\n",
              "      <td>0.0</td>\n",
              "      <td>None</td>\n",
              "      <td>None</td>\n",
              "    </tr>\n",
              "    <tr>\n",
              "      <th>...</th>\n",
              "      <td>...</td>\n",
              "      <td>...</td>\n",
              "      <td>...</td>\n",
              "      <td>...</td>\n",
              "      <td>...</td>\n",
              "      <td>...</td>\n",
              "      <td>...</td>\n",
              "      <td>...</td>\n",
              "      <td>...</td>\n",
              "      <td>...</td>\n",
              "      <td>...</td>\n",
              "      <td>...</td>\n",
              "      <td>...</td>\n",
              "      <td>...</td>\n",
              "    </tr>\n",
              "    <tr>\n",
              "      <th>499995</th>\n",
              "      <td>None</td>\n",
              "      <td>None</td>\n",
              "      <td>If we were talking about the out-of-tree Virtu...</td>\n",
              "      <td>None</td>\n",
              "      <td>cyphar</td>\n",
              "      <td>NaN</td>\n",
              "      <td>1556782094</td>\n",
              "      <td>2019-05-02 07:28:14+00:00</td>\n",
              "      <td>comment</td>\n",
              "      <td>19805584</td>\n",
              "      <td>19800311.0</td>\n",
              "      <td>NaN</td>\n",
              "      <td>None</td>\n",
              "      <td>None</td>\n",
              "    </tr>\n",
              "    <tr>\n",
              "      <th>499996</th>\n",
              "      <td>None</td>\n",
              "      <td>None</td>\n",
              "      <td>I'm not familiar with the Digg data model, but...</td>\n",
              "      <td>None</td>\n",
              "      <td>mistermann</td>\n",
              "      <td>NaN</td>\n",
              "      <td>1269663057</td>\n",
              "      <td>2010-03-27 04:10:57+00:00</td>\n",
              "      <td>comment</td>\n",
              "      <td>1222556</td>\n",
              "      <td>1221798.0</td>\n",
              "      <td>NaN</td>\n",
              "      <td>None</td>\n",
              "      <td>None</td>\n",
              "    </tr>\n",
              "    <tr>\n",
              "      <th>499997</th>\n",
              "      <td>None</td>\n",
              "      <td>None</td>\n",
              "      <td>Which is why they dropped OpenSSL.</td>\n",
              "      <td>None</td>\n",
              "      <td>mikeash</td>\n",
              "      <td>NaN</td>\n",
              "      <td>1350422565</td>\n",
              "      <td>2012-10-16 21:22:45+00:00</td>\n",
              "      <td>comment</td>\n",
              "      <td>4661921</td>\n",
              "      <td>4661901.0</td>\n",
              "      <td>NaN</td>\n",
              "      <td>None</td>\n",
              "      <td>None</td>\n",
              "    </tr>\n",
              "    <tr>\n",
              "      <th>499998</th>\n",
              "      <td>None</td>\n",
              "      <td>None</td>\n",
              "      <td>See the &amp;quot;real article&amp;quot; [0] that this...</td>\n",
              "      <td>None</td>\n",
              "      <td>jlgaddis</td>\n",
              "      <td>NaN</td>\n",
              "      <td>1505537779</td>\n",
              "      <td>2017-09-16 04:56:19+00:00</td>\n",
              "      <td>comment</td>\n",
              "      <td>15262959</td>\n",
              "      <td>15262796.0</td>\n",
              "      <td>NaN</td>\n",
              "      <td>None</td>\n",
              "      <td>None</td>\n",
              "    </tr>\n",
              "    <tr>\n",
              "      <th>499999</th>\n",
              "      <td>None</td>\n",
              "      <td>None</td>\n",
              "      <td>This doesn&amp;#x27;t say anything. They invested ...</td>\n",
              "      <td>None</td>\n",
              "      <td>tptacek</td>\n",
              "      <td>NaN</td>\n",
              "      <td>1535484650</td>\n",
              "      <td>2018-08-28 19:30:50+00:00</td>\n",
              "      <td>comment</td>\n",
              "      <td>17862085</td>\n",
              "      <td>17860820.0</td>\n",
              "      <td>NaN</td>\n",
              "      <td>None</td>\n",
              "      <td>None</td>\n",
              "    </tr>\n",
              "  </tbody>\n",
              "</table>\n",
              "<p>499715 rows × 14 columns</p>\n",
              "</div>"
            ],
            "text/plain": [
              "                                                   title  ... deleted\n",
              "0                                                   None  ...    None\n",
              "1                                                   None  ...    None\n",
              "2                                                   None  ...    None\n",
              "3       Computers Might Just 'See' Like Humans After All  ...    None\n",
              "4               Q&A: Pulsar Pioneer Jocelyn Bell Burnell  ...    None\n",
              "...                                                  ...  ...     ...\n",
              "499995                                              None  ...    None\n",
              "499996                                              None  ...    None\n",
              "499997                                              None  ...    None\n",
              "499998                                              None  ...    None\n",
              "499999                                              None  ...    None\n",
              "\n",
              "[499715 rows x 14 columns]"
            ]
          },
          "metadata": {
            "tags": []
          },
          "execution_count": 15
        }
      ]
    },
    {
      "cell_type": "code",
      "metadata": {
        "id": "XGPNpnSIvJKG",
        "colab_type": "code",
        "colab": {
          "base_uri": "https://localhost:8080/",
          "height": 411
        },
        "outputId": "c01e3100-b934-48ba-f5b3-fa7b87277929"
      },
      "source": [
        "# drop some columns\n",
        "#drop title, has 447,218 null values \n",
        "#drop ranking, has 500000 null values\n",
        "#drop score, has 446968 null values \n",
        "df.drop(['time', 'descendants', 'deleted', 'url', 'dead', 'title', 'ranking', 'score'], axis=1)\n"
      ],
      "execution_count": 21,
      "outputs": [
        {
          "output_type": "execute_result",
          "data": {
            "text/html": [
              "<div>\n",
              "<style scoped>\n",
              "    .dataframe tbody tr th:only-of-type {\n",
              "        vertical-align: middle;\n",
              "    }\n",
              "\n",
              "    .dataframe tbody tr th {\n",
              "        vertical-align: top;\n",
              "    }\n",
              "\n",
              "    .dataframe thead th {\n",
              "        text-align: right;\n",
              "    }\n",
              "</style>\n",
              "<table border=\"1\" class=\"dataframe\">\n",
              "  <thead>\n",
              "    <tr style=\"text-align: right;\">\n",
              "      <th></th>\n",
              "      <th>text</th>\n",
              "      <th>by</th>\n",
              "      <th>timestamp</th>\n",
              "      <th>type</th>\n",
              "      <th>id</th>\n",
              "      <th>parent</th>\n",
              "    </tr>\n",
              "  </thead>\n",
              "  <tbody>\n",
              "    <tr>\n",
              "      <th>0</th>\n",
              "      <td>No indication of how large these programs are ...</td>\n",
              "      <td>pjc50</td>\n",
              "      <td>2019-05-13 21:39:45+00:00</td>\n",
              "      <td>comment</td>\n",
              "      <td>19904253</td>\n",
              "      <td>19896542.0</td>\n",
              "    </tr>\n",
              "    <tr>\n",
              "      <th>1</th>\n",
              "      <td>Well, if you want to obfuscate a constant stri...</td>\n",
              "      <td>thaumasiotes</td>\n",
              "      <td>2014-03-29 07:06:43+00:00</td>\n",
              "      <td>comment</td>\n",
              "      <td>7491659</td>\n",
              "      <td>7491605.0</td>\n",
              "    </tr>\n",
              "    <tr>\n",
              "      <th>2</th>\n",
              "      <td>Yeah, it&amp;#x27;s like how we had to stop using ...</td>\n",
              "      <td>coldtea</td>\n",
              "      <td>2017-06-19 18:22:17+00:00</td>\n",
              "      <td>comment</td>\n",
              "      <td>14589123</td>\n",
              "      <td>14588063.0</td>\n",
              "    </tr>\n",
              "    <tr>\n",
              "      <th>3</th>\n",
              "      <td>None</td>\n",
              "      <td>jonbaer</td>\n",
              "      <td>2016-04-30 08:48:20+00:00</td>\n",
              "      <td>story</td>\n",
              "      <td>11600974</td>\n",
              "      <td>NaN</td>\n",
              "    </tr>\n",
              "    <tr>\n",
              "      <th>4</th>\n",
              "      <td>None</td>\n",
              "      <td>sohkamyung</td>\n",
              "      <td>2019-01-31 05:54:53+00:00</td>\n",
              "      <td>story</td>\n",
              "      <td>19042710</td>\n",
              "      <td>NaN</td>\n",
              "    </tr>\n",
              "    <tr>\n",
              "      <th>...</th>\n",
              "      <td>...</td>\n",
              "      <td>...</td>\n",
              "      <td>...</td>\n",
              "      <td>...</td>\n",
              "      <td>...</td>\n",
              "      <td>...</td>\n",
              "    </tr>\n",
              "    <tr>\n",
              "      <th>499995</th>\n",
              "      <td>If we were talking about the out-of-tree Virtu...</td>\n",
              "      <td>cyphar</td>\n",
              "      <td>2019-05-02 07:28:14+00:00</td>\n",
              "      <td>comment</td>\n",
              "      <td>19805584</td>\n",
              "      <td>19800311.0</td>\n",
              "    </tr>\n",
              "    <tr>\n",
              "      <th>499996</th>\n",
              "      <td>I'm not familiar with the Digg data model, but...</td>\n",
              "      <td>mistermann</td>\n",
              "      <td>2010-03-27 04:10:57+00:00</td>\n",
              "      <td>comment</td>\n",
              "      <td>1222556</td>\n",
              "      <td>1221798.0</td>\n",
              "    </tr>\n",
              "    <tr>\n",
              "      <th>499997</th>\n",
              "      <td>Which is why they dropped OpenSSL.</td>\n",
              "      <td>mikeash</td>\n",
              "      <td>2012-10-16 21:22:45+00:00</td>\n",
              "      <td>comment</td>\n",
              "      <td>4661921</td>\n",
              "      <td>4661901.0</td>\n",
              "    </tr>\n",
              "    <tr>\n",
              "      <th>499998</th>\n",
              "      <td>See the &amp;quot;real article&amp;quot; [0] that this...</td>\n",
              "      <td>jlgaddis</td>\n",
              "      <td>2017-09-16 04:56:19+00:00</td>\n",
              "      <td>comment</td>\n",
              "      <td>15262959</td>\n",
              "      <td>15262796.0</td>\n",
              "    </tr>\n",
              "    <tr>\n",
              "      <th>499999</th>\n",
              "      <td>This doesn&amp;#x27;t say anything. They invested ...</td>\n",
              "      <td>tptacek</td>\n",
              "      <td>2018-08-28 19:30:50+00:00</td>\n",
              "      <td>comment</td>\n",
              "      <td>17862085</td>\n",
              "      <td>17860820.0</td>\n",
              "    </tr>\n",
              "  </tbody>\n",
              "</table>\n",
              "<p>500000 rows × 6 columns</p>\n",
              "</div>"
            ],
            "text/plain": [
              "                                                     text  ...      parent\n",
              "0       No indication of how large these programs are ...  ...  19896542.0\n",
              "1       Well, if you want to obfuscate a constant stri...  ...   7491605.0\n",
              "2       Yeah, it&#x27;s like how we had to stop using ...  ...  14588063.0\n",
              "3                                                    None  ...         NaN\n",
              "4                                                    None  ...         NaN\n",
              "...                                                   ...  ...         ...\n",
              "499995  If we were talking about the out-of-tree Virtu...  ...  19800311.0\n",
              "499996  I'm not familiar with the Digg data model, but...  ...   1221798.0\n",
              "499997                 Which is why they dropped OpenSSL.  ...   4661901.0\n",
              "499998  See the &quot;real article&quot; [0] that this...  ...  15262796.0\n",
              "499999  This doesn&#x27;t say anything. They invested ...  ...  17860820.0\n",
              "\n",
              "[500000 rows x 6 columns]"
            ]
          },
          "metadata": {
            "tags": []
          },
          "execution_count": 21
        }
      ]
    },
    {
      "cell_type": "code",
      "metadata": {
        "id": "RV-zl3K5o3ju",
        "colab_type": "code",
        "colab": {
          "base_uri": "https://localhost:8080/",
          "height": 35
        },
        "outputId": "7634896b-e5d4-4b9e-ce05-b8bf1ff57acb"
      },
      "source": [
        "# average of all texts\n",
        "df['text'].str.len().mean()"
      ],
      "execution_count": 30,
      "outputs": [
        {
          "output_type": "execute_result",
          "data": {
            "text/plain": [
              "423.7787797330666"
            ]
          },
          "metadata": {
            "tags": []
          },
          "execution_count": 30
        }
      ]
    },
    {
      "cell_type": "code",
      "metadata": {
        "id": "k7fXCCbqtf5V",
        "colab_type": "code",
        "colab": {
          "base_uri": "https://localhost:8080/",
          "height": 283
        },
        "outputId": "ac24589f-649b-4e50-afc3-4af334c54e09"
      },
      "source": [
        "# histogram of all text lengths\n",
        "df['text'].str.len().hist()"
      ],
      "execution_count": 34,
      "outputs": [
        {
          "output_type": "execute_result",
          "data": {
            "text/plain": [
              "<matplotlib.axes._subplots.AxesSubplot at 0x7f3121a62b70>"
            ]
          },
          "metadata": {
            "tags": []
          },
          "execution_count": 34
        },
        {
          "output_type": "display_data",
          "data": {
            "image/png": "[encoded data removed]",
            "text/plain": [
              "<Figure size 432x288 with 1 Axes>"
            ]
          },
          "metadata": {
            "tags": [],
            "needs_background": "light"
          }
        }
      ]
    },
    {
      "cell_type": "code",
      "metadata": {
        "id": "RzCxks9TtqOa",
        "colab_type": "code",
        "colab": {
          "base_uri": "https://localhost:8080/",
          "height": 177
        },
        "outputId": "51e1d05b-1ec7-428d-9ba3-56fb64c3d548"
      },
      "source": [
        "# description of story texts\n",
        "df[df['type'] == 'story']['text'].str.len().describe()"
      ],
      "execution_count": 39,
      "outputs": [
        {
          "output_type": "execute_result",
          "data": {
            "text/plain": [
              "count     669.000000\n",
              "mean      606.789238\n",
              "std       697.342040\n",
              "min         1.000000\n",
              "25%       210.000000\n",
              "50%       401.000000\n",
              "75%       776.000000\n",
              "max      7560.000000\n",
              "Name: text, dtype: float64"
            ]
          },
          "metadata": {
            "tags": []
          },
          "execution_count": 39
        }
      ]
    },
    {
      "cell_type": "code",
      "metadata": {
        "id": "VCRszthJum6N",
        "colab_type": "code",
        "colab": {
          "base_uri": "https://localhost:8080/",
          "height": 177
        },
        "outputId": "96fbcda9-3192-4c63-a373-4011271a3ce5"
      },
      "source": [
        "# description of comment texts\n",
        "df[df['type'] == 'comment']['text'].str.len().describe()"
      ],
      "execution_count": 40,
      "outputs": [
        {
          "output_type": "execute_result",
          "data": {
            "text/plain": [
              "count    446952.000000\n",
              "mean        423.729669\n",
              "std         488.017941\n",
              "min           1.000000\n",
              "25%         144.000000\n",
              "50%         276.000000\n",
              "75%         523.000000\n",
              "max       15018.000000\n",
              "Name: text, dtype: float64"
            ]
          },
          "metadata": {
            "tags": []
          },
          "execution_count": 40
        }
      ]
    },
    {
      "cell_type": "code",
      "metadata": {
        "id": "DBiB3OLmvMZ1",
        "colab_type": "code",
        "colab": {
          "base_uri": "https://localhost:8080/",
          "height": 132
        },
        "outputId": "d83c07cf-1b92-48fc-a7f8-618f13784818"
      },
      "source": [
        "df[df['type'] == 'comment']['text'].str.len() <= 5]"
      ],
      "execution_count": 47,
      "outputs": [
        {
          "output_type": "error",
          "ename": "SyntaxError",
          "evalue": "ignored",
          "traceback": [
            "\u001b[0;36m  File \u001b[0;32m\"<ipython-input-47-84d390bdbb6f>\"\u001b[0;36m, line \u001b[0;32m1\u001b[0m\n\u001b[0;31m    df[df['type'] == 'comment']['text'].str.len() <= 5]\u001b[0m\n\u001b[0m                                                      ^\u001b[0m\n\u001b[0;31mSyntaxError\u001b[0m\u001b[0;31m:\u001b[0m invalid syntax\n"
          ]
        }
      ]
    }
  ]
}